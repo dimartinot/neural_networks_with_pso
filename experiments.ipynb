{
 "cells": [
  {
   "cell_type": "code",
   "execution_count": 15,
   "metadata": {},
   "outputs": [],
   "source": [
    "from classes.network import Network\n",
    "import pandas as pd\n",
    "import numpy as np\n",
    "from tqdm import tqdm\n",
    "import timeit\n",
    "\n",
    "def shuffle_and_split(X_train, y_train, batch_size=10):\n",
    "    p = np.random.permutation(len(X_train))\n",
    "\n",
    "    new_X_train = X_train[p]\n",
    "    new_y_train = y_train[p]\n",
    "\n",
    "    splitted_X_train = np.array_split(new_X_train, batch_size)\n",
    "    splitted_y_train = np.array_split(new_y_train, batch_size)\n",
    "\n",
    "    return splitted_X_train[:-1], splitted_y_train[:-1], splitted_X_train[-1], splitted_y_train[-1]\n",
    "\n",
    "ONE_IN_FILES = [\n",
    "    \"data/1in_tanh.txt\",\n",
    "    \"data/1in_linear.txt\",\n",
    "    \"data/1in_cubic.txt\",\n",
    "    \"data/1in_sine.txt\"\n",
    "]"
   ]
  },
  {
   "cell_type": "code",
   "execution_count": 6,
   "metadata": {},
   "outputs": [
    {
     "name": "stdout",
     "output_type": "stream",
     "text": [
      "Best_fitness: 0.24666885972889335\n"
     ]
    }
   ],
   "source": [
    "network = Network(error=\"l2\")\n",
    "network.addLayer(3, inputSize=1, activation=\"tanh\")\n",
    "network.addLayer(1, activation=\"tanh\")\n",
    "\n",
    "ds = pd.read_csv(\"data/1in_tanh.txt\", sep=r\"\\s+\", header=None)\n",
    "X_train, y_train = ds.iloc[:,:-1].to_numpy(), ds.iloc[:,1].to_numpy()\n",
    "\n",
    "splitted_X_train, splitted_y_train = shuffle_and_split(X_train, y_train, batch_size=20)\n",
    "\n",
    "p = np.random.permutation(len(X_train))\n",
    "\n",
    "new_X_train = X_train[p][:10]\n",
    "new_y_train = y_train[p][:10]\n",
    "\n",
    "\n",
    "#network.train(new_X_train, new_y_train)\n",
    "#network.train_with_pso(new_X_train, np.expand_dims(new_y_train, axis=1), iter_count=100)\n",
    "\n",
    "perf = network.train_with_pso(X_train, y_train)\n",
    "\n",
    "#for (x_batch,y_batch) in tqdm(zip(splitted_X_train,splitted_y_train)):\n",
    "#    perf = network.train_with_pso(x_batch, y_batch)"
   ]
  },
  {
   "cell_type": "code",
   "execution_count": 12,
   "metadata": {},
   "outputs": [
    {
     "data": {
      "text/plain": [
       "[1, 2, 3]"
      ]
     },
     "execution_count": 12,
     "metadata": {},
     "output_type": "execute_result"
    }
   ],
   "source": [
    "a[:-1]"
   ]
  },
  {
   "cell_type": "markdown",
   "metadata": {},
   "source": [
    "# Shallow vs Deep neural networks\n",
    "\n",
    "When training neural networks, we have to come up with a design that fits its intention. Here, we tried to find, given a certain dataset, which architecture was the most ideal."
   ]
  },
  {
   "cell_type": "code",
   "execution_count": 16,
   "metadata": {},
   "outputs": [],
   "source": [
    "DATA_FILES = [\n",
    "    \"data/1in_tanh.txt\",\n",
    "    \"data/1in_linear.txt\",\n",
    "    \"data/1in_cubic.txt\",\n",
    "    \"data/1in_sine.txt\",\n",
    "    \"data/2in_complex.txt\",\n",
    "    \"data/2in_xor.txt\"\n",
    "]\n",
    "def load_dataset(path):\n",
    "    ds = pd.read_csv(path, sep=r\"\\s+\", header=None)\n",
    "    X_train, y_train = ds.iloc[:,:-1].to_numpy(), ds.iloc[:,1].to_numpy()\n",
    "    return X_train, y_train"
   ]
  },
  {
   "cell_type": "code",
   "execution_count": null,
   "metadata": {},
   "outputs": [
    {
     "name": "stdout",
     "output_type": "stream",
     "text": [
      "-----------------------------\n",
      "\tTraining shallow on 1in_tan\n",
      "Best_fitness: 0.23225096603977666\n",
      "Best_fitness: 0.2719360983335553\n",
      "Best_fitness: 0.449812533399563\n",
      "Best_fitness: 0.11205546737247003\n",
      "Best_fitness: 0.23006865795062956\n",
      "Best_fitness: 0.30558490845247366\n",
      "Best_fitness: 0.38872904524016005\n",
      "Best_fitness: 0.17150180007793872\n",
      "Best_fitness: 0.4302833044337797\n",
      "Best_fitness: 0.35171667540309565\n",
      "Best_fitness: 0.056388674231453995\n",
      "Best_fitness: 0.049708912004611555\n",
      "Best_fitness: 0.28718167504093595\n",
      "Best_fitness: 0.20358920790143648\n",
      "Best_fitness: 0.17993738876069587\n",
      "Best_fitness: 0.4016992959821531\n",
      "Best_fitness: 0.4853233319946842\n",
      "Best_fitness: 0.252983556892359\n",
      "Best_fitness: 0.42736427938192467\n",
      "Error on test: 0.38824816006610957\n",
      "-----------------------------\n",
      "\tTraining deep on 1in_tan\n",
      "Best_fitness: 0.013398869081794329\n",
      "Best_fitness: 0.11585795423884031\n",
      "Best_fitness: 0.16461567165806937\n",
      "Best_fitness: 0.006973517369972662\n",
      "Best_fitness: 0.13700995959164705\n",
      "Best_fitness: 0.018892725227956243\n",
      "Best_fitness: 0.1065305172758459\n",
      "Best_fitness: 0.07617311256031674\n",
      "Best_fitness: 0.2815172833241706\n",
      "Best_fitness: 0.0966234230475314\n",
      "Best_fitness: 0.029311574895678066\n",
      "Best_fitness: 0.008259326215243747\n",
      "Best_fitness: 0.038256237974321226\n",
      "Best_fitness: 0.0036502012364916306\n",
      "Best_fitness: 0.05886945122134498\n",
      "Best_fitness: 0.19694282242328923\n",
      "Best_fitness: 0.17665347023652114\n",
      "Best_fitness: 0.09845619449200001\n",
      "Best_fitness: 0.0007564297903148484\n",
      "Error on test: 0.29896031900950215\n",
      "-----------------------------\n",
      "\tTraining shallow on 1in_linear\n",
      "Best_fitness: 0.02312148745756239\n",
      "Best_fitness: 0.003334293647819811\n",
      "Best_fitness: 0.03937851735196797\n",
      "Best_fitness: 0.03516015567049023\n",
      "Best_fitness: 0.018443232173076144\n",
      "Best_fitness: 0.03105590275645559\n",
      "Best_fitness: 0.026494057731861004\n",
      "Best_fitness: 0.04079929832509256\n",
      "Best_fitness: 0.00668846211440399\n",
      "Best_fitness: 0.00941569705960217\n",
      "Best_fitness: 0.022432383633216667\n",
      "Best_fitness: 0.049219351696010716\n",
      "Best_fitness: 0.01847124943372911\n",
      "Best_fitness: 0.009488303351448598\n",
      "Best_fitness: 0.028607841085028052\n",
      "Best_fitness: 0.040498899219089494\n",
      "Best_fitness: 0.022987741030757052\n",
      "Best_fitness: 0.009399519990070307\n",
      "Best_fitness: 0.013674803263330667\n",
      "Error on test: 0.011827324932823966\n",
      "-----------------------------\n",
      "\tTraining deep on 1in_linear\n",
      "Best_fitness: 0.000489240116986577\n",
      "Best_fitness: 0.012573242897474125\n",
      "Best_fitness: 0.016009653609286616\n",
      "Best_fitness: 0.015419684096084147\n",
      "Best_fitness: 0.01956879031284821\n",
      "Best_fitness: 0.01953604251086338\n",
      "Best_fitness: 0.0031715031988003607\n",
      "Best_fitness: 0.012940151545915077\n",
      "Best_fitness: 0.0044289089824930215\n",
      "Best_fitness: 0.006022993590882668\n",
      "Best_fitness: 0.00010422205380029384\n",
      "Best_fitness: 0.01060844771154607\n",
      "Best_fitness: 0.0035855070713475094\n",
      "Best_fitness: 0.0006601526005304891\n",
      "Best_fitness: 0.004063634270330066\n",
      "Best_fitness: 0.0008222200539073198\n",
      "Best_fitness: 0.009938943055353113\n",
      "Best_fitness: 0.0036110415360398477\n",
      "Best_fitness: 0.0011840478818383442\n",
      "Error on test: 0.011349200814112427\n",
      "-----------------------------\n",
      "\tTraining shallow on 1in_cubic\n",
      "Best_fitness: 0.057960804911355475\n",
      "Best_fitness: 0.007775157111980807\n",
      "Best_fitness: 0.03616567747205417\n",
      "Best_fitness: 0.03596851720223019\n",
      "Best_fitness: 0.017137874515424874\n",
      "Best_fitness: 0.029676360143367837\n",
      "Best_fitness: 0.009607011874531644\n",
      "Best_fitness: 0.028742321377039286\n",
      "Best_fitness: 0.014462240003178656\n",
      "Best_fitness: 0.029860321493510738\n",
      "Best_fitness: 0.04382246228864812\n",
      "Best_fitness: 0.023963077322583532\n",
      "Best_fitness: 0.06121986140980577\n",
      "Best_fitness: 0.007204327110740601\n",
      "Best_fitness: 0.00727512612729983\n",
      "Best_fitness: 0.038546247387473045\n",
      "Best_fitness: 0.035978712388862376\n",
      "Best_fitness: 0.027797911726349833\n",
      "Best_fitness: 0.036549932894865696\n",
      "Error on test: 0.006408835749083383\n",
      "-----------------------------\n",
      "\tTraining deep on 1in_cubic\n",
      "Best_fitness: 0.023043292343886117\n",
      "Best_fitness: 0.017377586837670128\n",
      "Best_fitness: 0.03448514173265209\n",
      "Best_fitness: 0.014427318138148171\n",
      "Best_fitness: 0.010769882933234382\n",
      "Best_fitness: 0.009490413818762833\n",
      "Best_fitness: 0.0105309925123217\n",
      "Best_fitness: 0.034049724907208985\n",
      "Best_fitness: 0.024093088965541055\n",
      "Best_fitness: 0.005673025611883165\n",
      "Best_fitness: 0.0068453528373030245\n",
      "Best_fitness: 0.02426660283643815\n"
     ]
    }
   ],
   "source": [
    "result_networks = {\n",
    "    \"1in_tan\":{},\n",
    "    \"1in_linear\":{},\n",
    "    \"1in_cubic\":{},\n",
    "    \"1in_sine\":{},\n",
    "    \"2in_complex\":{},\n",
    "    \"2in_xor\":{}\n",
    "}\n",
    "\n",
    "#batch:20,swarm:100,iter:100\n",
    "for i, dataset in enumerate(result_networks.keys()):\n",
    "    #Loading the dataset\n",
    "    X_train, y_train = load_dataset(DATA_FILES[i])\n",
    "    splitted_X_train, splitted_y_train, X_test, y_test = shuffle_and_split(X_train, y_train, batch_size=20)\n",
    "    \n",
    "    # First, creating a shallow network\n",
    "    shallow = Network(error=\"l2\")\n",
    "    shallow.addLayer(1, inputSize=eval(dataset[0]), activation=\"tanh\")\n",
    "    print('-----------------------------')\n",
    "    print(f\"\\tTraining shallow on {dataset}\")\n",
    "    \n",
    "    start_shallow = timeit.timeit()\n",
    "    shallow_train_perfs = []\n",
    "    for (x_batch,y_batch) in zip(splitted_X_train,splitted_y_train):\n",
    "        perf = shallow.train_with_pso(x_batch, y_batch)\n",
    "        shallow_train_perfs.append(perf)\n",
    "        \n",
    "    shallow_test = shallow.test(X_test, y_test)\n",
    "    print(f\"Error on test: {shallow_test}\")\n",
    "    end_shallow = timeit.timeit()\n",
    "    \n",
    "    start_deep = timeit.timeit()\n",
    "    # Then, creating a deep network\n",
    "    deep = Network(error=\"l2\")\n",
    "    deep.addLayer(3, inputSize=eval(dataset[0]), activation=\"tanh\")\n",
    "    deep.addLayer(3, activation=\"tanh\")\n",
    "    deep.addLayer(1, activation=\"tanh\")\n",
    "    print('-----------------------------')\n",
    "    print(f\"\\tTraining deep on {dataset}\")\n",
    "        \n",
    "    \n",
    "    deep_train_perfs = []\n",
    "    for (x_batch,y_batch) in zip(splitted_X_train,splitted_y_train):\n",
    "        perf = deep.train_with_pso(x_batch, y_batch)\n",
    "        deep_train_perfs.append(perf)\n",
    "        \n",
    "    deep_test = deep.test(X_test, y_test)\n",
    "    print(f\"Error on test: {deep_test}\")\n",
    "    end_deep = timeit.timeit()\n",
    "    \n",
    "    \n",
    "    \n",
    "    result_networks[dataset][\"shallow\"] = {\n",
    "        \"model\": shallow,\n",
    "        \"train_perfs\": shallow_train_perfs,\n",
    "        \"test_perfs\": shallow_test,\n",
    "        \"exec_time\": end_shallow - start_shallow\n",
    "    }\n",
    "    \n",
    "    result_networks[dataset][\"deep\"] = {\n",
    "        \"model\": deep,\n",
    "        \"train_perfs\": deep_train_perfs,\n",
    "        \"test_perfs\": deep_test,\n",
    "        \"exec_time\": end_deep - start_deep\n",
    "    }\n",
    "    \n",
    "    "
   ]
  },
  {
   "cell_type": "code",
   "execution_count": 5,
   "metadata": {},
   "outputs": [
    {
     "data": {
      "text/plain": [
       "[-0.3386771968469684,\n",
       " -0.3406218535810591,\n",
       " -0.34219562866279607,\n",
       " -0.3433972863968173,\n",
       " -0.34422588793077236,\n",
       " -0.3446807882493539,\n",
       " -0.3447616340668427,\n",
       " -0.3444683626580257,\n",
       " -0.3438012016495259,\n",
       " -0.3427606697754705,\n",
       " -0.3413475785832626,\n",
       " -0.33956303505725727,\n",
       " -0.33740844511055956,\n",
       " -0.3348855178782267,\n",
       " -0.331996270729056,\n",
       " -0.32874303489808954,\n",
       " -0.32512846162816383,\n",
       " -0.3211555286964455,\n",
       " -0.31682754719109174,\n",
       " -0.31214816839411547,\n",
       " -0.3071213906192981,\n",
       " -0.30175156584874874,\n",
       " -0.2960434060084552,\n",
       " -0.29000198872203387,\n",
       " -0.28363276238283464,\n",
       " -0.2769415503876187,\n",
       " -0.26993455438017866,\n",
       " -0.26261835636042263,\n",
       " -0.2549999195235621,\n",
       " -0.24708658770497388,\n",
       " -0.23888608331895725,\n",
       " -0.23040650369377466,\n",
       " -0.22165631572092537,\n",
       " -0.21264434875331464,\n",
       " -0.20337978570465137,\n",
       " -0.19387215232081645,\n",
       " -0.18413130461283345,\n",
       " -0.17416741446023054,\n",
       " -0.16399095341272724,\n",
       " -0.15361267473709864,\n",
       " -0.1430435937744996,\n",
       " -0.13229496669125224,\n",
       " -0.12137826772288654,\n",
       " -0.11030516502686667,\n",
       " -0.09908749527375801,\n",
       " -0.08773723711940562,\n",
       " -0.07626648371188034,\n",
       " -0.0646874143963754,\n",
       " -0.05301226578879585,\n",
       " -0.04125330239445344,\n",
       " -0.02942278695196533,\n",
       " -0.017532950684200816,\n",
       " -0.00559596363791162,\n",
       " 0.006376094708425729,\n",
       " 0.018371264392968,\n",
       " 0.030377733305134404,\n",
       " 0.04238386474388241,\n",
       " 0.054378224045775574,\n",
       " 0.06634960413910707,\n",
       " 0.07828704989162732,\n",
       " 0.09017988113172372,\n",
       " 0.10201771423599938,\n",
       " 0.11379048218995506,\n",
       " 0.12548845304267828,\n",
       " 0.13710224669091434,\n",
       " 0.14862284994245298,\n",
       " 0.16004162982325384,\n",
       " 0.1713503451069681,\n",
       " 0.18254115605937407,\n",
       " 0.19360663240355294,\n",
       " 0.2045397595243119,\n",
       " 0.21533394294226674,\n",
       " 0.22598301109905242,\n",
       " 0.23648121650527146,\n",
       " 0.24682323531192626,\n",
       " 0.2570041653742075,\n",
       " 0.26701952288357683,\n",
       " 0.27686523765007426,\n",
       " 0.2865376471217197,\n",
       " 0.2960334892317659,\n",
       " 0.3053498941674211,\n",
       " 0.3144843751555474,\n",
       " 0.32343481836179117,\n",
       " 0.3321994719996656,\n",
       " 0.34077693474536924,\n",
       " 0.34916614355261566,\n",
       " 0.3573663609595847,\n",
       " 0.365377161977321,\n",
       " 0.37319842064559067,\n",
       " 0.38083029633844734,\n",
       " 0.38827321989760255,\n",
       " 0.3955278796672424,\n",
       " 0.40259520749922817,\n",
       " 0.4094763647927507,\n",
       " 0.4161727286275177,\n",
       " 0.42268587804452,\n",
       " 0.42901758052337896,\n",
       " 0.43516977870029006,\n",
       " 0.44114457736567386,\n",
       " 0.4469442307758784,\n",
       " 0.4525711303086674]"
      ]
     },
     "execution_count": 5,
     "metadata": {},
     "output_type": "execute_result"
    }
   ],
   "source": [
    "result_networks = {\n",
    "    \"1in_tan\":{},\n",
    "    \"1in_linear\":{},\n",
    "    \"1in_cubic\":{},\n",
    "    \"1in_sine\":{},\n",
    "    \"2in_complex\":{},\n",
    "    \"2in_xor\":{}\n",
    "}\n",
    "\n",
    "#batch:20,swarm:100,iter:100\n",
    "for i, dataset in enumerate(result_networks.keys()):\n",
    "    #Loading the dataset\n",
    "    X_train, y_train = load_dataset(DATA_FILES[i])\n",
    "    splitted_X_train, splitted_y_train, X_test, y_test = shuffle_and_split(X_train, y_train, batch_size=20)\n",
    "    \n",
    "    # First, creating a moderately deep network (one hidden layer of size 3)\n",
    "    shallow = Network(error=\"l2\")\n",
    "    shallow.addLayer(3, inputSize=eval(dataset[0]), activation=\"tanh\")\n",
    "    shallow.addLayer(1, inputSize=eval(dataset[0]), activation=\"tanh\")\n",
    "    print('-----------------------------')\n",
    "    print(f\"\\tTraining shallow on {dataset}\")\n",
    "    \n",
    "    start_shallow = timeit.timeit()\n",
    "    shallow_train_perfs = []\n",
    "    for (x_batch,y_batch) in zip(splitted_X_train,splitted_y_train):\n",
    "        perf = shallow.train_with_pso(x_batch, y_batch)\n",
    "        shallow_train_perfs.append(perf)\n",
    "        \n",
    "    shallow_test = shallow.test(X_test, y_test)\n",
    "    print(f\"Error on test: {shallow_test}\")\n",
    "    end_shallow = timeit.timeit()\n",
    "    \n",
    "    start_deep = timeit.timeit()\n",
    "    # Then, creating a deep network\n",
    "    deep = Network(error=\"l2\")\n",
    "    deep.addLayer(3, inputSize=eval(dataset[0]), activation=\"tanh\")\n",
    "    deep.addLayer(3, activation=\"tanh\")\n",
    "    deep.addLayer(1, activation=\"tanh\")\n",
    "    print('-----------------------------')\n",
    "    print(f\"\\tTraining deep on {dataset}\")\n",
    "        \n",
    "    \n",
    "    deep_train_perfs = []\n",
    "    for (x_batch,y_batch) in zip(splitted_X_train,splitted_y_train):\n",
    "        perf = deep.train_with_pso(x_batch, y_batch)\n",
    "        deep_train_perfs.append(perf)\n",
    "        \n",
    "    deep_test = deep.test(X_test, y_test)\n",
    "    print(f\"Error on test: {deep_test}\")\n",
    "    end_deep = timeit.timeit()\n",
    "    \n",
    "    \n",
    "    \n",
    "    result_networks[dataset][\"shallow\"] = {\n",
    "        \"model\": shallow,\n",
    "        \"train_perfs\": shallow_train_perfs,\n",
    "        \"test_perfs\": shallow_test,\n",
    "        \"exec_time\": end_shallow - start_shallow\n",
    "    }\n",
    "    \n",
    "    result_networks[dataset][\"deep\"] = {\n",
    "        \"model\": deep,\n",
    "        \"train_perfs\": deep_train_perfs,\n",
    "        \"test_perfs\": deep_test,\n",
    "        \"exec_time\": end_deep - start_deep\n",
    "    }\n",
    "    \n",
    "    "
   ]
  },
  {
   "cell_type": "code",
   "execution_count": 3,
   "metadata": {},
   "outputs": [],
   "source": [
    "net1 = Network(error=\"l2\")\n",
    "net1.addLayer(1, inputSize=1, activation=\"identity\")\n",
    "\n",
    "net2 = Network(error=\"l2\")\n",
    "net2.addLayer(1, inputSize=1, activation=\"identity\")\n",
    "\n",
    "net3 = Network(error=\"l2\")\n",
    "net3.addLayer(3, inputSize=1, activation=\"identity\")\n",
    "net3.addLayer(1, activation=\"identity\")\n",
    "\n",
    "net4 = Network(error=\"l2\")\n",
    "net4.addLayer(3, inputSize=1, activation=\"identity\")\n",
    "net4.addLayer(1, inputSize=1, activation=\"identity\")\n",
    "\n",
    "nets = [net1,net2,net3,net4]"
   ]
  },
  {
   "cell_type": "code",
   "execution_count": 4,
   "metadata": {},
   "outputs": [],
   "source": [
    "datasets = [\n",
    "    pd.read_csv(filename, sep=r\"\\s+\", header=None) for filename in ONE_IN_FILES\n",
    "]"
   ]
  },
  {
   "cell_type": "code",
   "execution_count": 5,
   "metadata": {},
   "outputs": [
    {
     "name": "stderr",
     "output_type": "stream",
     "text": [
      "0it [00:00, ?it/s]\n",
      "0it [00:00, ?it/s]"
     ]
    },
    {
     "name": "stdout",
     "output_type": "stream",
     "text": [
      "Best_fitness: [0.29270773]\n"
     ]
    },
    {
     "name": "stderr",
     "output_type": "stream",
     "text": [
      "\n",
      "1it [00:13, 13.46s/it]"
     ]
    },
    {
     "name": "stdout",
     "output_type": "stream",
     "text": [
      "Best_fitness: [0.37899608]\n"
     ]
    },
    {
     "name": "stderr",
     "output_type": "stream",
     "text": [
      "\n",
      "2it [00:25, 12.90s/it]"
     ]
    },
    {
     "name": "stdout",
     "output_type": "stream",
     "text": [
      "Best_fitness: [0.06063335]\n"
     ]
    },
    {
     "name": "stderr",
     "output_type": "stream",
     "text": [
      "\n",
      "3it [00:36, 12.52s/it]"
     ]
    },
    {
     "name": "stdout",
     "output_type": "stream",
     "text": [
      "Best_fitness: [0.28623992]\n"
     ]
    },
    {
     "name": "stderr",
     "output_type": "stream",
     "text": [
      "\n",
      "4it [00:48, 12.25s/it]"
     ]
    },
    {
     "name": "stdout",
     "output_type": "stream",
     "text": [
      "Best_fitness: [0.43215229]\n"
     ]
    },
    {
     "name": "stderr",
     "output_type": "stream",
     "text": [
      "\n",
      "5it [00:59, 12.03s/it]"
     ]
    },
    {
     "name": "stdout",
     "output_type": "stream",
     "text": [
      "Best_fitness: [0.28004295]\n"
     ]
    },
    {
     "name": "stderr",
     "output_type": "stream",
     "text": [
      "\n",
      "6it [01:11, 11.85s/it]"
     ]
    },
    {
     "name": "stdout",
     "output_type": "stream",
     "text": [
      "Best_fitness: [0.13964254]\n"
     ]
    },
    {
     "name": "stderr",
     "output_type": "stream",
     "text": [
      "\n",
      "7it [01:22, 11.78s/it]"
     ]
    },
    {
     "name": "stdout",
     "output_type": "stream",
     "text": [
      "Best_fitness: [0.06264018]\n"
     ]
    },
    {
     "name": "stderr",
     "output_type": "stream",
     "text": [
      "\n",
      "8it [01:33, 11.55s/it]"
     ]
    },
    {
     "name": "stdout",
     "output_type": "stream",
     "text": [
      "Best_fitness: [0.48994543]\n"
     ]
    },
    {
     "name": "stderr",
     "output_type": "stream",
     "text": [
      "\n",
      "9it [01:45, 11.56s/it]"
     ]
    },
    {
     "name": "stdout",
     "output_type": "stream",
     "text": [
      "Best_fitness: [0.29658752]\n"
     ]
    },
    {
     "name": "stderr",
     "output_type": "stream",
     "text": [
      "\n",
      "10it [01:56, 11.52s/it]"
     ]
    },
    {
     "name": "stdout",
     "output_type": "stream",
     "text": [
      "Best_fitness: [0.29135317]\n"
     ]
    },
    {
     "name": "stderr",
     "output_type": "stream",
     "text": [
      "\n",
      "11it [02:08, 11.54s/it]"
     ]
    },
    {
     "name": "stdout",
     "output_type": "stream",
     "text": [
      "Best_fitness: [0.20811774]\n"
     ]
    },
    {
     "name": "stderr",
     "output_type": "stream",
     "text": [
      "\n",
      "12it [02:19, 11.52s/it]"
     ]
    },
    {
     "name": "stdout",
     "output_type": "stream",
     "text": [
      "Best_fitness: [0.23540096]\n"
     ]
    },
    {
     "name": "stderr",
     "output_type": "stream",
     "text": [
      "\n",
      "13it [02:31, 11.64s/it]"
     ]
    },
    {
     "name": "stdout",
     "output_type": "stream",
     "text": [
      "Best_fitness: [0.08910484]\n"
     ]
    },
    {
     "name": "stderr",
     "output_type": "stream",
     "text": [
      "\n",
      "14it [02:43, 11.60s/it]"
     ]
    },
    {
     "name": "stdout",
     "output_type": "stream",
     "text": [
      "Best_fitness: [0.21450892]\n"
     ]
    },
    {
     "name": "stderr",
     "output_type": "stream",
     "text": [
      "\n",
      "15it [02:54, 11.59s/it]"
     ]
    },
    {
     "name": "stdout",
     "output_type": "stream",
     "text": [
      "Best_fitness: [0.28549904]\n"
     ]
    },
    {
     "name": "stderr",
     "output_type": "stream",
     "text": [
      "\n",
      "16it [03:06, 11.60s/it]"
     ]
    },
    {
     "name": "stdout",
     "output_type": "stream",
     "text": [
      "Best_fitness: [0.28131095]\n"
     ]
    },
    {
     "name": "stderr",
     "output_type": "stream",
     "text": [
      "\n",
      "17it [03:18, 11.61s/it]"
     ]
    },
    {
     "name": "stdout",
     "output_type": "stream",
     "text": [
      "Best_fitness: [0.09039751]\n"
     ]
    },
    {
     "name": "stderr",
     "output_type": "stream",
     "text": [
      "\n",
      "18it [03:29, 11.59s/it]"
     ]
    },
    {
     "name": "stdout",
     "output_type": "stream",
     "text": [
      "Best_fitness: [0.27041463]\n"
     ]
    },
    {
     "name": "stderr",
     "output_type": "stream",
     "text": [
      "\n",
      "19it [03:41, 11.62s/it]"
     ]
    },
    {
     "name": "stdout",
     "output_type": "stream",
     "text": [
      "Best_fitness: [0.07490406]\n"
     ]
    },
    {
     "name": "stderr",
     "output_type": "stream",
     "text": [
      "\n",
      "20it [03:53, 11.65s/it]\n",
      "1it [03:53, 233.02s/it]\n",
      "0it [00:00, ?it/s]"
     ]
    },
    {
     "name": "stdout",
     "output_type": "stream",
     "text": [
      "Best_fitness: [0.00956438]\n"
     ]
    },
    {
     "name": "stderr",
     "output_type": "stream",
     "text": [
      "\n",
      "1it [00:11, 11.47s/it]"
     ]
    },
    {
     "name": "stdout",
     "output_type": "stream",
     "text": [
      "Best_fitness: [0.01735878]\n"
     ]
    },
    {
     "name": "stderr",
     "output_type": "stream",
     "text": [
      "\n",
      "2it [00:22, 11.48s/it]"
     ]
    },
    {
     "name": "stdout",
     "output_type": "stream",
     "text": [
      "Best_fitness: [0.00220153]\n"
     ]
    },
    {
     "name": "stderr",
     "output_type": "stream",
     "text": [
      "\n",
      "3it [00:34, 11.50s/it]"
     ]
    },
    {
     "name": "stdout",
     "output_type": "stream",
     "text": [
      "Best_fitness: [0.02444673]\n"
     ]
    },
    {
     "name": "stderr",
     "output_type": "stream",
     "text": [
      "\n",
      "4it [00:46, 11.50s/it]"
     ]
    },
    {
     "name": "stdout",
     "output_type": "stream",
     "text": [
      "Best_fitness: [0.03406506]\n"
     ]
    },
    {
     "name": "stderr",
     "output_type": "stream",
     "text": [
      "\n",
      "5it [00:57, 11.50s/it]"
     ]
    },
    {
     "name": "stdout",
     "output_type": "stream",
     "text": [
      "Best_fitness: [0.01524029]\n"
     ]
    },
    {
     "name": "stderr",
     "output_type": "stream",
     "text": [
      "\n",
      "6it [01:09, 11.53s/it]"
     ]
    },
    {
     "name": "stdout",
     "output_type": "stream",
     "text": [
      "Best_fitness: [0.00129518]\n"
     ]
    },
    {
     "name": "stderr",
     "output_type": "stream",
     "text": [
      "\n",
      "7it [01:20, 11.58s/it]"
     ]
    },
    {
     "name": "stdout",
     "output_type": "stream",
     "text": [
      "Best_fitness: [0.01781979]\n"
     ]
    },
    {
     "name": "stderr",
     "output_type": "stream",
     "text": [
      "\n",
      "8it [01:32, 11.56s/it]"
     ]
    },
    {
     "name": "stdout",
     "output_type": "stream",
     "text": [
      "Best_fitness: [0.01902595]\n"
     ]
    },
    {
     "name": "stderr",
     "output_type": "stream",
     "text": [
      "\n",
      "9it [01:43, 11.58s/it]"
     ]
    },
    {
     "name": "stdout",
     "output_type": "stream",
     "text": [
      "Best_fitness: [0.06455049]\n"
     ]
    },
    {
     "name": "stderr",
     "output_type": "stream",
     "text": [
      "\n",
      "10it [01:55, 11.60s/it]"
     ]
    },
    {
     "name": "stdout",
     "output_type": "stream",
     "text": [
      "Best_fitness: [0.00801392]\n"
     ]
    },
    {
     "name": "stderr",
     "output_type": "stream",
     "text": [
      "\n",
      "11it [02:07, 11.57s/it]"
     ]
    },
    {
     "name": "stdout",
     "output_type": "stream",
     "text": [
      "Best_fitness: [0.02014661]\n"
     ]
    },
    {
     "name": "stderr",
     "output_type": "stream",
     "text": [
      "\n",
      "12it [02:18, 11.54s/it]"
     ]
    },
    {
     "name": "stdout",
     "output_type": "stream",
     "text": [
      "Best_fitness: [0.05954071]\n"
     ]
    },
    {
     "name": "stderr",
     "output_type": "stream",
     "text": [
      "\n",
      "13it [02:30, 11.57s/it]"
     ]
    },
    {
     "name": "stdout",
     "output_type": "stream",
     "text": [
      "Best_fitness: [0.01056806]\n"
     ]
    },
    {
     "name": "stderr",
     "output_type": "stream",
     "text": [
      "\n",
      "14it [02:41, 11.58s/it]"
     ]
    },
    {
     "name": "stdout",
     "output_type": "stream",
     "text": [
      "Best_fitness: [0.0006427]\n"
     ]
    },
    {
     "name": "stderr",
     "output_type": "stream",
     "text": [
      "\n",
      "15it [02:53, 11.56s/it]"
     ]
    },
    {
     "name": "stdout",
     "output_type": "stream",
     "text": [
      "Best_fitness: [0.01383103]\n"
     ]
    },
    {
     "name": "stderr",
     "output_type": "stream",
     "text": [
      "\n",
      "16it [03:04, 11.52s/it]"
     ]
    },
    {
     "name": "stdout",
     "output_type": "stream",
     "text": [
      "Best_fitness: [0.00759113]\n"
     ]
    },
    {
     "name": "stderr",
     "output_type": "stream",
     "text": [
      "\n",
      "17it [03:15, 11.41s/it]"
     ]
    },
    {
     "name": "stdout",
     "output_type": "stream",
     "text": [
      "Best_fitness: [0.02591851]\n"
     ]
    },
    {
     "name": "stderr",
     "output_type": "stream",
     "text": [
      "\n",
      "18it [03:27, 11.45s/it]"
     ]
    },
    {
     "name": "stdout",
     "output_type": "stream",
     "text": [
      "Best_fitness: [0.01067756]\n"
     ]
    },
    {
     "name": "stderr",
     "output_type": "stream",
     "text": [
      "\n",
      "19it [03:39, 11.49s/it]"
     ]
    },
    {
     "name": "stdout",
     "output_type": "stream",
     "text": [
      "Best_fitness: [0.00074737]\n"
     ]
    },
    {
     "name": "stderr",
     "output_type": "stream",
     "text": [
      "\n",
      "20it [03:50, 11.53s/it]\n",
      "2it [07:43, 232.28s/it]\n",
      "0it [00:00, ?it/s]"
     ]
    },
    {
     "name": "stdout",
     "output_type": "stream",
     "text": [
      "Best_fitness: [0.0017297]\n"
     ]
    },
    {
     "name": "stderr",
     "output_type": "stream",
     "text": [
      "\n",
      "1it [00:22, 22.97s/it]"
     ]
    },
    {
     "name": "stdout",
     "output_type": "stream",
     "text": [
      "Best_fitness: [0.00658267]\n"
     ]
    },
    {
     "name": "stderr",
     "output_type": "stream",
     "text": [
      "\n",
      "2it [00:43, 22.12s/it]"
     ]
    },
    {
     "name": "stdout",
     "output_type": "stream",
     "text": [
      "Best_fitness: [0.03481558]\n"
     ]
    },
    {
     "name": "stderr",
     "output_type": "stream",
     "text": [
      "\n",
      "3it [01:04, 22.01s/it]"
     ]
    },
    {
     "name": "stdout",
     "output_type": "stream",
     "text": [
      "Best_fitness: [0.01581079]\n"
     ]
    },
    {
     "name": "stderr",
     "output_type": "stream",
     "text": [
      "\n",
      "4it [01:25, 21.62s/it]"
     ]
    },
    {
     "name": "stdout",
     "output_type": "stream",
     "text": [
      "Best_fitness: [0.02516403]\n"
     ]
    },
    {
     "name": "stderr",
     "output_type": "stream",
     "text": [
      "\n",
      "5it [01:45, 21.22s/it]"
     ]
    },
    {
     "name": "stdout",
     "output_type": "stream",
     "text": [
      "Best_fitness: [0.04475842]\n"
     ]
    },
    {
     "name": "stderr",
     "output_type": "stream",
     "text": [
      "\n",
      "6it [02:06, 21.05s/it]"
     ]
    },
    {
     "name": "stdout",
     "output_type": "stream",
     "text": [
      "Best_fitness: [7.95526046e-05]\n"
     ]
    },
    {
     "name": "stderr",
     "output_type": "stream",
     "text": [
      "\n",
      "7it [02:26, 20.83s/it]"
     ]
    },
    {
     "name": "stdout",
     "output_type": "stream",
     "text": [
      "Best_fitness: [0.01070514]\n"
     ]
    },
    {
     "name": "stderr",
     "output_type": "stream",
     "text": [
      "\n",
      "8it [02:46, 20.63s/it]"
     ]
    },
    {
     "name": "stdout",
     "output_type": "stream",
     "text": [
      "Best_fitness: [0.03093098]\n"
     ]
    },
    {
     "name": "stderr",
     "output_type": "stream",
     "text": [
      "\n",
      "9it [03:07, 20.55s/it]"
     ]
    },
    {
     "name": "stdout",
     "output_type": "stream",
     "text": [
      "Best_fitness: [0.00560983]\n"
     ]
    },
    {
     "name": "stderr",
     "output_type": "stream",
     "text": [
      "\n",
      "10it [03:27, 20.36s/it]"
     ]
    },
    {
     "name": "stdout",
     "output_type": "stream",
     "text": [
      "Best_fitness: [0.05351157]\n"
     ]
    },
    {
     "name": "stderr",
     "output_type": "stream",
     "text": [
      "\n",
      "11it [03:47, 20.18s/it]"
     ]
    },
    {
     "name": "stdout",
     "output_type": "stream",
     "text": [
      "Best_fitness: [0.00309229]\n"
     ]
    },
    {
     "name": "stderr",
     "output_type": "stream",
     "text": [
      "\n",
      "12it [04:07, 20.37s/it]"
     ]
    },
    {
     "name": "stdout",
     "output_type": "stream",
     "text": [
      "Best_fitness: [0.0051868]\n"
     ]
    },
    {
     "name": "stderr",
     "output_type": "stream",
     "text": [
      "\n",
      "13it [04:28, 20.36s/it]"
     ]
    },
    {
     "name": "stdout",
     "output_type": "stream",
     "text": [
      "Best_fitness: [0.00768207]\n"
     ]
    },
    {
     "name": "stderr",
     "output_type": "stream",
     "text": [
      "\n",
      "14it [04:48, 20.21s/it]"
     ]
    },
    {
     "name": "stdout",
     "output_type": "stream",
     "text": [
      "Best_fitness: [0.02576958]\n"
     ]
    },
    {
     "name": "stderr",
     "output_type": "stream",
     "text": [
      "\n",
      "15it [05:07, 20.10s/it]"
     ]
    },
    {
     "name": "stdout",
     "output_type": "stream",
     "text": [
      "Best_fitness: [0.01503224]\n"
     ]
    },
    {
     "name": "stderr",
     "output_type": "stream",
     "text": [
      "\n",
      "16it [05:27, 20.04s/it]"
     ]
    },
    {
     "name": "stdout",
     "output_type": "stream",
     "text": [
      "Best_fitness: [0.02103239]\n"
     ]
    },
    {
     "name": "stderr",
     "output_type": "stream",
     "text": [
      "\n",
      "17it [05:48, 20.13s/it]"
     ]
    },
    {
     "name": "stdout",
     "output_type": "stream",
     "text": [
      "Best_fitness: [0.01710646]\n"
     ]
    },
    {
     "name": "stderr",
     "output_type": "stream",
     "text": [
      "\n",
      "18it [06:08, 20.22s/it]"
     ]
    },
    {
     "name": "stdout",
     "output_type": "stream",
     "text": [
      "Best_fitness: [0.06366005]\n"
     ]
    },
    {
     "name": "stderr",
     "output_type": "stream",
     "text": [
      "\n",
      "19it [06:28, 20.16s/it]"
     ]
    },
    {
     "name": "stdout",
     "output_type": "stream",
     "text": [
      "Best_fitness: [0.03101544]\n"
     ]
    },
    {
     "name": "stderr",
     "output_type": "stream",
     "text": [
      "\n",
      "20it [06:48, 20.44s/it]\n",
      "3it [14:32, 285.22s/it]\n",
      "0it [00:00, ?it/s]"
     ]
    },
    {
     "name": "stdout",
     "output_type": "stream",
     "text": [
      "Best_fitness: [0.03083033]\n"
     ]
    },
    {
     "name": "stderr",
     "output_type": "stream",
     "text": [
      "\n",
      "1it [00:19, 19.53s/it]"
     ]
    },
    {
     "name": "stdout",
     "output_type": "stream",
     "text": [
      "Best_fitness: [0.11080563]\n"
     ]
    },
    {
     "name": "stderr",
     "output_type": "stream",
     "text": [
      "\n",
      "2it [00:39, 19.58s/it]"
     ]
    },
    {
     "name": "stdout",
     "output_type": "stream",
     "text": [
      "Best_fitness: [0.12591114]\n"
     ]
    },
    {
     "name": "stderr",
     "output_type": "stream",
     "text": [
      "\n",
      "3it [00:58, 19.57s/it]"
     ]
    },
    {
     "name": "stdout",
     "output_type": "stream",
     "text": [
      "Best_fitness: [0.00479069]\n"
     ]
    },
    {
     "name": "stderr",
     "output_type": "stream",
     "text": [
      "\n",
      "4it [01:18, 19.54s/it]"
     ]
    },
    {
     "name": "stdout",
     "output_type": "stream",
     "text": [
      "Best_fitness: [0.03644216]\n"
     ]
    },
    {
     "name": "stderr",
     "output_type": "stream",
     "text": [
      "\n",
      "5it [01:37, 19.55s/it]"
     ]
    },
    {
     "name": "stdout",
     "output_type": "stream",
     "text": [
      "Best_fitness: [0.13262767]\n"
     ]
    },
    {
     "name": "stderr",
     "output_type": "stream",
     "text": [
      "\n",
      "6it [01:57, 19.60s/it]"
     ]
    },
    {
     "name": "stdout",
     "output_type": "stream",
     "text": [
      "Best_fitness: [0.18191122]\n"
     ]
    },
    {
     "name": "stderr",
     "output_type": "stream",
     "text": [
      "\n",
      "7it [02:17, 19.62s/it]"
     ]
    },
    {
     "name": "stdout",
     "output_type": "stream",
     "text": [
      "Best_fitness: [0.13108005]\n"
     ]
    },
    {
     "name": "stderr",
     "output_type": "stream",
     "text": [
      "\n",
      "8it [02:37, 19.70s/it]"
     ]
    },
    {
     "name": "stdout",
     "output_type": "stream",
     "text": [
      "Best_fitness: [0.06816518]\n"
     ]
    },
    {
     "name": "stderr",
     "output_type": "stream",
     "text": [
      "\n",
      "9it [02:56, 19.63s/it]"
     ]
    },
    {
     "name": "stdout",
     "output_type": "stream",
     "text": [
      "Best_fitness: [0.19091506]\n"
     ]
    },
    {
     "name": "stderr",
     "output_type": "stream",
     "text": [
      "\n",
      "10it [03:16, 19.62s/it]"
     ]
    },
    {
     "name": "stdout",
     "output_type": "stream",
     "text": [
      "Best_fitness: [0.0715622]\n"
     ]
    },
    {
     "name": "stderr",
     "output_type": "stream",
     "text": [
      "\n",
      "11it [03:35, 19.68s/it]"
     ]
    },
    {
     "name": "stdout",
     "output_type": "stream",
     "text": [
      "Best_fitness: [0.04148149]\n"
     ]
    },
    {
     "name": "stderr",
     "output_type": "stream",
     "text": [
      "\n",
      "12it [03:55, 19.73s/it]"
     ]
    },
    {
     "name": "stdout",
     "output_type": "stream",
     "text": [
      "Best_fitness: [0.08580893]\n"
     ]
    },
    {
     "name": "stderr",
     "output_type": "stream",
     "text": [
      "\n",
      "13it [04:15, 19.71s/it]"
     ]
    },
    {
     "name": "stdout",
     "output_type": "stream",
     "text": [
      "Best_fitness: [0.01580158]\n"
     ]
    },
    {
     "name": "stderr",
     "output_type": "stream",
     "text": [
      "\n",
      "14it [04:35, 19.75s/it]"
     ]
    },
    {
     "name": "stdout",
     "output_type": "stream",
     "text": [
      "Best_fitness: [0.04245003]\n"
     ]
    },
    {
     "name": "stderr",
     "output_type": "stream",
     "text": [
      "\n",
      "15it [04:55, 19.84s/it]"
     ]
    },
    {
     "name": "stdout",
     "output_type": "stream",
     "text": [
      "Best_fitness: [0.12412617]\n"
     ]
    },
    {
     "name": "stderr",
     "output_type": "stream",
     "text": [
      "\n",
      "16it [05:15, 19.79s/it]"
     ]
    },
    {
     "name": "stdout",
     "output_type": "stream",
     "text": [
      "Best_fitness: [0.01512221]\n"
     ]
    },
    {
     "name": "stderr",
     "output_type": "stream",
     "text": [
      "\n",
      "17it [05:34, 19.73s/it]"
     ]
    },
    {
     "name": "stdout",
     "output_type": "stream",
     "text": [
      "Best_fitness: [0.20453066]\n"
     ]
    },
    {
     "name": "stderr",
     "output_type": "stream",
     "text": [
      "\n",
      "18it [05:54, 19.70s/it]"
     ]
    },
    {
     "name": "stdout",
     "output_type": "stream",
     "text": [
      "Best_fitness: [0.07890731]\n"
     ]
    },
    {
     "name": "stderr",
     "output_type": "stream",
     "text": [
      "\n",
      "19it [06:14, 19.73s/it]"
     ]
    },
    {
     "name": "stdout",
     "output_type": "stream",
     "text": [
      "Best_fitness: [0.09896203]\n"
     ]
    },
    {
     "name": "stderr",
     "output_type": "stream",
     "text": [
      "\n",
      "20it [06:33, 19.68s/it]\n",
      "4it [21:05, 316.47s/it]\n"
     ]
    }
   ],
   "source": [
    "perfs = {\n",
    "    \"net_tan\":{},\n",
    "    \"net_linear\":{},\n",
    "    \"net_cubic\":{},\n",
    "    \"net_sine\":{}\n",
    "}\n",
    "\n",
    "for i, dataset in tqdm(enumerate(datasets)):\n",
    "    X_train, y_train = dataset.iloc[:,:-1].to_numpy(), dataset.iloc[:,1].to_numpy()\n",
    "\n",
    "    splitted_X_train, splitted_y_train = shuffle_and_split(X_train, y_train, batch_size=20)\n",
    "    \n",
    "    perfs[list(perfs.keys())[i]][\"batch_size:20 swarmsize:100 itercount:100\"] = []\n",
    "    network = nets[i]\n",
    "    for (x_batch,y_batch) in tqdm(zip(splitted_X_train,splitted_y_train)):\n",
    "        perf = network.train_with_pso(x_batch, y_batch)\n",
    "        perfs[list(perfs.keys())[i]][\"batch_size:20 swarmsize:100 itercount:100\"].append(perf)\n",
    "        "
   ]
  },
  {
   "cell_type": "code",
   "execution_count": 6,
   "metadata": {},
   "outputs": [
    {
     "name": "stderr",
     "output_type": "stream",
     "text": [
      "0it [00:00, ?it/s]\n",
      "0it [00:00, ?it/s]"
     ]
    },
    {
     "name": "stdout",
     "output_type": "stream",
     "text": [
      "Best_fitness: [0.31351796]\n"
     ]
    },
    {
     "name": "stderr",
     "output_type": "stream",
     "text": [
      "\n",
      "1it [00:22, 22.80s/it]"
     ]
    },
    {
     "name": "stdout",
     "output_type": "stream",
     "text": [
      "Best_fitness: [0.25526409]\n"
     ]
    },
    {
     "name": "stderr",
     "output_type": "stream",
     "text": [
      "\n",
      "2it [00:43, 22.23s/it]"
     ]
    },
    {
     "name": "stdout",
     "output_type": "stream",
     "text": [
      "Best_fitness: [0.37382282]\n"
     ]
    },
    {
     "name": "stderr",
     "output_type": "stream",
     "text": [
      "\n",
      "3it [01:04, 21.79s/it]"
     ]
    },
    {
     "name": "stdout",
     "output_type": "stream",
     "text": [
      "Best_fitness: [0.24008838]\n"
     ]
    },
    {
     "name": "stderr",
     "output_type": "stream",
     "text": [
      "\n",
      "4it [01:24, 21.37s/it]"
     ]
    },
    {
     "name": "stdout",
     "output_type": "stream",
     "text": [
      "Best_fitness: [0.2822813]\n"
     ]
    },
    {
     "name": "stderr",
     "output_type": "stream",
     "text": [
      "\n",
      "5it [01:45, 21.25s/it]"
     ]
    },
    {
     "name": "stdout",
     "output_type": "stream",
     "text": [
      "Best_fitness: [0.16997694]\n"
     ]
    },
    {
     "name": "stderr",
     "output_type": "stream",
     "text": [
      "\n",
      "6it [02:06, 21.10s/it]"
     ]
    },
    {
     "name": "stdout",
     "output_type": "stream",
     "text": [
      "Best_fitness: [0.15954923]\n"
     ]
    },
    {
     "name": "stderr",
     "output_type": "stream",
     "text": [
      "\n",
      "7it [02:27, 21.05s/it]"
     ]
    },
    {
     "name": "stdout",
     "output_type": "stream",
     "text": [
      "Best_fitness: [0.24362685]\n"
     ]
    },
    {
     "name": "stderr",
     "output_type": "stream",
     "text": [
      "\n",
      "8it [02:48, 20.98s/it]"
     ]
    },
    {
     "name": "stdout",
     "output_type": "stream",
     "text": [
      "Best_fitness: [0.23983463]\n"
     ]
    },
    {
     "name": "stderr",
     "output_type": "stream",
     "text": [
      "\n",
      "9it [03:09, 21.10s/it]"
     ]
    },
    {
     "name": "stdout",
     "output_type": "stream",
     "text": [
      "Best_fitness: [0.26205826]\n"
     ]
    },
    {
     "name": "stderr",
     "output_type": "stream",
     "text": [
      "\n",
      "10it [03:30, 21.05s/it]\n",
      "1it [03:30, 210.52s/it]\n",
      "0it [00:00, ?it/s]"
     ]
    },
    {
     "name": "stdout",
     "output_type": "stream",
     "text": [
      "Best_fitness: [0.01514333]\n"
     ]
    },
    {
     "name": "stderr",
     "output_type": "stream",
     "text": [
      "\n",
      "1it [00:20, 20.88s/it]"
     ]
    },
    {
     "name": "stdout",
     "output_type": "stream",
     "text": [
      "Best_fitness: [0.02220255]\n"
     ]
    },
    {
     "name": "stderr",
     "output_type": "stream",
     "text": [
      "\n",
      "2it [00:41, 20.84s/it]"
     ]
    },
    {
     "name": "stdout",
     "output_type": "stream",
     "text": [
      "Best_fitness: [0.0080389]\n"
     ]
    },
    {
     "name": "stderr",
     "output_type": "stream",
     "text": [
      "\n",
      "3it [01:02, 20.79s/it]"
     ]
    },
    {
     "name": "stdout",
     "output_type": "stream",
     "text": [
      "Best_fitness: [0.02229078]\n"
     ]
    },
    {
     "name": "stderr",
     "output_type": "stream",
     "text": [
      "\n",
      "4it [01:23, 20.86s/it]"
     ]
    },
    {
     "name": "stdout",
     "output_type": "stream",
     "text": [
      "Best_fitness: [0.03475127]\n"
     ]
    },
    {
     "name": "stderr",
     "output_type": "stream",
     "text": [
      "\n",
      "5it [01:44, 20.85s/it]"
     ]
    },
    {
     "name": "stdout",
     "output_type": "stream",
     "text": [
      "Best_fitness: [0.0140067]\n"
     ]
    },
    {
     "name": "stderr",
     "output_type": "stream",
     "text": [
      "\n",
      "6it [02:05, 20.87s/it]"
     ]
    },
    {
     "name": "stdout",
     "output_type": "stream",
     "text": [
      "Best_fitness: [0.012619]\n"
     ]
    },
    {
     "name": "stderr",
     "output_type": "stream",
     "text": [
      "\n",
      "7it [02:26, 20.93s/it]"
     ]
    },
    {
     "name": "stdout",
     "output_type": "stream",
     "text": [
      "Best_fitness: [0.01176909]\n"
     ]
    },
    {
     "name": "stderr",
     "output_type": "stream",
     "text": [
      "\n",
      "8it [02:46, 20.91s/it]"
     ]
    },
    {
     "name": "stdout",
     "output_type": "stream",
     "text": [
      "Best_fitness: [0.0359715]\n"
     ]
    },
    {
     "name": "stderr",
     "output_type": "stream",
     "text": [
      "\n",
      "9it [03:08, 20.95s/it]"
     ]
    },
    {
     "name": "stdout",
     "output_type": "stream",
     "text": [
      "Best_fitness: [0.0056259]\n"
     ]
    },
    {
     "name": "stderr",
     "output_type": "stream",
     "text": [
      "\n",
      "10it [03:29, 20.92s/it]\n",
      "2it [06:59, 210.14s/it]\n",
      "0it [00:00, ?it/s]"
     ]
    },
    {
     "name": "stdout",
     "output_type": "stream",
     "text": [
      "Best_fitness: [0.09070032]\n"
     ]
    },
    {
     "name": "stderr",
     "output_type": "stream",
     "text": [
      "\n",
      "1it [00:39, 39.01s/it]"
     ]
    },
    {
     "name": "stdout",
     "output_type": "stream",
     "text": [
      "Best_fitness: [0.01676568]\n"
     ]
    },
    {
     "name": "stderr",
     "output_type": "stream",
     "text": [
      "\n",
      "2it [01:14, 38.08s/it]"
     ]
    },
    {
     "name": "stdout",
     "output_type": "stream",
     "text": [
      "Best_fitness: [0.00615383]\n"
     ]
    },
    {
     "name": "stderr",
     "output_type": "stream",
     "text": [
      "\n",
      "3it [01:51, 37.52s/it]"
     ]
    },
    {
     "name": "stdout",
     "output_type": "stream",
     "text": [
      "Best_fitness: [0.04599524]\n"
     ]
    },
    {
     "name": "stderr",
     "output_type": "stream",
     "text": [
      "\n",
      "4it [02:26, 36.82s/it]"
     ]
    },
    {
     "name": "stdout",
     "output_type": "stream",
     "text": [
      "Best_fitness: [0.03694547]\n"
     ]
    },
    {
     "name": "stderr",
     "output_type": "stream",
     "text": [
      "\n",
      "5it [03:01, 36.34s/it]"
     ]
    },
    {
     "name": "stdout",
     "output_type": "stream",
     "text": [
      "Best_fitness: [0.03893809]\n"
     ]
    },
    {
     "name": "stderr",
     "output_type": "stream",
     "text": [
      "\n",
      "6it [03:36, 36.03s/it]"
     ]
    },
    {
     "name": "stdout",
     "output_type": "stream",
     "text": [
      "Best_fitness: [0.05053942]\n"
     ]
    },
    {
     "name": "stderr",
     "output_type": "stream",
     "text": [
      "\n",
      "7it [04:12, 36.01s/it]"
     ]
    },
    {
     "name": "stdout",
     "output_type": "stream",
     "text": [
      "Best_fitness: [0.02722737]\n"
     ]
    },
    {
     "name": "stderr",
     "output_type": "stream",
     "text": [
      "\n",
      "8it [04:48, 35.90s/it]"
     ]
    },
    {
     "name": "stdout",
     "output_type": "stream",
     "text": [
      "Best_fitness: [0.07178217]\n"
     ]
    },
    {
     "name": "stderr",
     "output_type": "stream",
     "text": [
      "\n",
      "9it [05:24, 36.07s/it]"
     ]
    },
    {
     "name": "stdout",
     "output_type": "stream",
     "text": [
      "Best_fitness: [0.06901429]\n"
     ]
    },
    {
     "name": "stderr",
     "output_type": "stream",
     "text": [
      "\n",
      "10it [06:00, 36.08s/it]\n",
      "3it [13:00, 255.33s/it]\n",
      "0it [00:00, ?it/s]"
     ]
    },
    {
     "name": "stdout",
     "output_type": "stream",
     "text": [
      "Best_fitness: [0.10377965]\n"
     ]
    },
    {
     "name": "stderr",
     "output_type": "stream",
     "text": [
      "\n",
      "1it [00:34, 34.61s/it]"
     ]
    },
    {
     "name": "stdout",
     "output_type": "stream",
     "text": [
      "Best_fitness: [0.09373838]\n"
     ]
    },
    {
     "name": "stderr",
     "output_type": "stream",
     "text": [
      "\n",
      "2it [01:09, 34.68s/it]"
     ]
    },
    {
     "name": "stdout",
     "output_type": "stream",
     "text": [
      "Best_fitness: [0.14849027]\n"
     ]
    },
    {
     "name": "stderr",
     "output_type": "stream",
     "text": [
      "\n",
      "3it [01:44, 34.71s/it]"
     ]
    },
    {
     "name": "stdout",
     "output_type": "stream",
     "text": [
      "Best_fitness: [0.16624549]\n"
     ]
    },
    {
     "name": "stderr",
     "output_type": "stream",
     "text": [
      "\n",
      "4it [02:19, 34.93s/it]"
     ]
    },
    {
     "name": "stdout",
     "output_type": "stream",
     "text": [
      "Best_fitness: [0.11289579]\n"
     ]
    },
    {
     "name": "stderr",
     "output_type": "stream",
     "text": [
      "\n",
      "5it [02:54, 34.82s/it]"
     ]
    },
    {
     "name": "stdout",
     "output_type": "stream",
     "text": [
      "Best_fitness: [0.12151392]\n"
     ]
    },
    {
     "name": "stderr",
     "output_type": "stream",
     "text": [
      "\n",
      "6it [03:28, 34.77s/it]"
     ]
    },
    {
     "name": "stdout",
     "output_type": "stream",
     "text": [
      "Best_fitness: [0.09586057]\n"
     ]
    },
    {
     "name": "stderr",
     "output_type": "stream",
     "text": [
      "\n",
      "7it [04:03, 34.76s/it]"
     ]
    },
    {
     "name": "stdout",
     "output_type": "stream",
     "text": [
      "Best_fitness: [0.1216683]\n"
     ]
    },
    {
     "name": "stderr",
     "output_type": "stream",
     "text": [
      "\n",
      "8it [04:38, 34.67s/it]"
     ]
    },
    {
     "name": "stdout",
     "output_type": "stream",
     "text": [
      "Best_fitness: [0.13992826]\n"
     ]
    },
    {
     "name": "stderr",
     "output_type": "stream",
     "text": [
      "\n",
      "9it [05:12, 34.72s/it]"
     ]
    },
    {
     "name": "stdout",
     "output_type": "stream",
     "text": [
      "Best_fitness: [0.12097802]\n"
     ]
    },
    {
     "name": "stderr",
     "output_type": "stream",
     "text": [
      "\n",
      "10it [05:47, 34.74s/it]\n",
      "4it [18:47, 281.98s/it]\n"
     ]
    }
   ],
   "source": [
    "for i, dataset in tqdm(enumerate(datasets)):\n",
    "    X_train, y_train = dataset.iloc[:,:-1].to_numpy(), dataset.iloc[:,1].to_numpy()\n",
    "\n",
    "    splitted_X_train, splitted_y_train = shuffle_and_split(X_train, y_train, batch_size=10)\n",
    "    \n",
    "    perfs[list(perfs.keys())[i]][\"batch_size:10 swarmsize:100 itercount:100\"] = []\n",
    "    network = nets[i]\n",
    "    for (x_batch,y_batch) in tqdm(zip(splitted_X_train,splitted_y_train)):\n",
    "        perf = network.train_with_pso(x_batch, y_batch)\n",
    "        perfs[list(perfs.keys())[i]][\"batch_size:10 swarmsize:100 itercount:100\"].append(perf)\n",
    "        "
   ]
  },
  {
   "cell_type": "code",
   "execution_count": 7,
   "metadata": {},
   "outputs": [
    {
     "name": "stderr",
     "output_type": "stream",
     "text": [
      "0it [00:00, ?it/s]\n",
      "0it [00:00, ?it/s]"
     ]
    },
    {
     "name": "stdout",
     "output_type": "stream",
     "text": [
      "Best_fitness: [0.25759365]\n"
     ]
    },
    {
     "name": "stderr",
     "output_type": "stream",
     "text": [
      "\n",
      "1it [00:27, 27.47s/it]"
     ]
    },
    {
     "name": "stdout",
     "output_type": "stream",
     "text": [
      "Best_fitness: [0.20387701]\n"
     ]
    },
    {
     "name": "stderr",
     "output_type": "stream",
     "text": [
      "\n",
      "2it [00:50, 26.22s/it]"
     ]
    },
    {
     "name": "stdout",
     "output_type": "stream",
     "text": [
      "Best_fitness: [0.20173234]\n"
     ]
    },
    {
     "name": "stderr",
     "output_type": "stream",
     "text": [
      "\n",
      "3it [01:13, 25.20s/it]"
     ]
    },
    {
     "name": "stdout",
     "output_type": "stream",
     "text": [
      "Best_fitness: [0.26495899]\n"
     ]
    },
    {
     "name": "stderr",
     "output_type": "stream",
     "text": [
      "\n",
      "4it [01:36, 24.49s/it]"
     ]
    },
    {
     "name": "stdout",
     "output_type": "stream",
     "text": [
      "Best_fitness: [0.32110909]\n"
     ]
    },
    {
     "name": "stderr",
     "output_type": "stream",
     "text": [
      "\n",
      "5it [01:59, 24.05s/it]"
     ]
    },
    {
     "name": "stdout",
     "output_type": "stream",
     "text": [
      "Best_fitness: [0.25147175]\n"
     ]
    },
    {
     "name": "stderr",
     "output_type": "stream",
     "text": [
      "\n",
      "6it [02:22, 23.76s/it]"
     ]
    },
    {
     "name": "stdout",
     "output_type": "stream",
     "text": [
      "Best_fitness: [0.21961298]\n"
     ]
    },
    {
     "name": "stderr",
     "output_type": "stream",
     "text": [
      "\n",
      "7it [02:45, 23.52s/it]"
     ]
    },
    {
     "name": "stdout",
     "output_type": "stream",
     "text": [
      "Best_fitness: [0.20667658]\n"
     ]
    },
    {
     "name": "stderr",
     "output_type": "stream",
     "text": [
      "\n",
      "8it [03:08, 23.45s/it]"
     ]
    },
    {
     "name": "stdout",
     "output_type": "stream",
     "text": [
      "Best_fitness: [0.29168149]\n"
     ]
    },
    {
     "name": "stderr",
     "output_type": "stream",
     "text": [
      "\n",
      "9it [03:32, 23.41s/it]"
     ]
    },
    {
     "name": "stdout",
     "output_type": "stream",
     "text": [
      "Best_fitness: [0.16309718]\n"
     ]
    },
    {
     "name": "stderr",
     "output_type": "stream",
     "text": [
      "\n",
      "10it [03:55, 23.41s/it]"
     ]
    },
    {
     "name": "stdout",
     "output_type": "stream",
     "text": [
      "Best_fitness: [0.27719596]\n"
     ]
    },
    {
     "name": "stderr",
     "output_type": "stream",
     "text": [
      "\n",
      "11it [04:18, 23.35s/it]"
     ]
    },
    {
     "name": "stdout",
     "output_type": "stream",
     "text": [
      "Best_fitness: [0.13036331]\n"
     ]
    },
    {
     "name": "stderr",
     "output_type": "stream",
     "text": [
      "\n",
      "12it [04:41, 23.24s/it]"
     ]
    },
    {
     "name": "stdout",
     "output_type": "stream",
     "text": [
      "Best_fitness: [0.25612467]\n"
     ]
    },
    {
     "name": "stderr",
     "output_type": "stream",
     "text": [
      "\n",
      "13it [05:04, 23.22s/it]"
     ]
    },
    {
     "name": "stdout",
     "output_type": "stream",
     "text": [
      "Best_fitness: [0.09821276]\n"
     ]
    },
    {
     "name": "stderr",
     "output_type": "stream",
     "text": [
      "\n",
      "14it [05:27, 23.16s/it]"
     ]
    },
    {
     "name": "stdout",
     "output_type": "stream",
     "text": [
      "Best_fitness: [0.32030215]\n"
     ]
    },
    {
     "name": "stderr",
     "output_type": "stream",
     "text": [
      "\n",
      "15it [05:51, 23.17s/it]"
     ]
    },
    {
     "name": "stdout",
     "output_type": "stream",
     "text": [
      "Best_fitness: [0.11872122]\n"
     ]
    },
    {
     "name": "stderr",
     "output_type": "stream",
     "text": [
      "\n",
      "16it [06:13, 23.02s/it]"
     ]
    },
    {
     "name": "stdout",
     "output_type": "stream",
     "text": [
      "Best_fitness: [0.32377615]\n"
     ]
    },
    {
     "name": "stderr",
     "output_type": "stream",
     "text": [
      "\n",
      "17it [06:36, 23.00s/it]"
     ]
    },
    {
     "name": "stdout",
     "output_type": "stream",
     "text": [
      "Best_fitness: [0.1680106]\n"
     ]
    },
    {
     "name": "stderr",
     "output_type": "stream",
     "text": [
      "\n",
      "18it [06:59, 23.02s/it]"
     ]
    },
    {
     "name": "stdout",
     "output_type": "stream",
     "text": [
      "Best_fitness: [0.37795667]\n"
     ]
    },
    {
     "name": "stderr",
     "output_type": "stream",
     "text": [
      "\n",
      "19it [07:22, 23.05s/it]"
     ]
    },
    {
     "name": "stdout",
     "output_type": "stream",
     "text": [
      "Best_fitness: [0.37143785]\n"
     ]
    },
    {
     "name": "stderr",
     "output_type": "stream",
     "text": [
      "\n",
      "20it [07:45, 23.30s/it]\n",
      "1it [07:45, 465.94s/it]\n",
      "0it [00:00, ?it/s]"
     ]
    },
    {
     "name": "stdout",
     "output_type": "stream",
     "text": [
      "Best_fitness: [0.03737224]\n"
     ]
    },
    {
     "name": "stderr",
     "output_type": "stream",
     "text": [
      "\n",
      "1it [00:23, 23.12s/it]"
     ]
    },
    {
     "name": "stdout",
     "output_type": "stream",
     "text": [
      "Best_fitness: [0.00134113]\n"
     ]
    },
    {
     "name": "stderr",
     "output_type": "stream",
     "text": [
      "\n",
      "2it [00:46, 23.12s/it]"
     ]
    },
    {
     "name": "stdout",
     "output_type": "stream",
     "text": [
      "Best_fitness: [0.00848202]\n"
     ]
    },
    {
     "name": "stderr",
     "output_type": "stream",
     "text": [
      "\n",
      "3it [01:09, 23.11s/it]"
     ]
    },
    {
     "name": "stdout",
     "output_type": "stream",
     "text": [
      "Best_fitness: [0.00059508]\n"
     ]
    },
    {
     "name": "stderr",
     "output_type": "stream",
     "text": [
      "\n",
      "4it [01:32, 23.08s/it]"
     ]
    },
    {
     "name": "stdout",
     "output_type": "stream",
     "text": [
      "Best_fitness: [0.00138058]\n"
     ]
    },
    {
     "name": "stderr",
     "output_type": "stream",
     "text": [
      "\n",
      "5it [01:55, 23.09s/it]"
     ]
    },
    {
     "name": "stdout",
     "output_type": "stream",
     "text": [
      "Best_fitness: [0.00510598]\n"
     ]
    },
    {
     "name": "stderr",
     "output_type": "stream",
     "text": [
      "\n",
      "6it [02:18, 22.94s/it]"
     ]
    },
    {
     "name": "stdout",
     "output_type": "stream",
     "text": [
      "Best_fitness: [0.00420098]\n"
     ]
    },
    {
     "name": "stderr",
     "output_type": "stream",
     "text": [
      "\n",
      "7it [02:41, 22.96s/it]"
     ]
    },
    {
     "name": "stdout",
     "output_type": "stream",
     "text": [
      "Best_fitness: [0.01372608]\n"
     ]
    },
    {
     "name": "stderr",
     "output_type": "stream",
     "text": [
      "\n",
      "8it [03:04, 23.03s/it]"
     ]
    },
    {
     "name": "stdout",
     "output_type": "stream",
     "text": [
      "Best_fitness: [0.00041912]\n"
     ]
    },
    {
     "name": "stderr",
     "output_type": "stream",
     "text": [
      "\n",
      "9it [03:27, 23.05s/it]"
     ]
    },
    {
     "name": "stdout",
     "output_type": "stream",
     "text": [
      "Best_fitness: [0.00463415]\n"
     ]
    },
    {
     "name": "stderr",
     "output_type": "stream",
     "text": [
      "\n",
      "10it [03:50, 23.09s/it]"
     ]
    },
    {
     "name": "stdout",
     "output_type": "stream",
     "text": [
      "Best_fitness: [0.03249595]\n"
     ]
    },
    {
     "name": "stderr",
     "output_type": "stream",
     "text": [
      "\n",
      "11it [04:13, 23.08s/it]"
     ]
    },
    {
     "name": "stdout",
     "output_type": "stream",
     "text": [
      "Best_fitness: [0.00521461]\n"
     ]
    },
    {
     "name": "stderr",
     "output_type": "stream",
     "text": [
      "\n",
      "12it [04:36, 23.14s/it]"
     ]
    },
    {
     "name": "stdout",
     "output_type": "stream",
     "text": [
      "Best_fitness: [0.00588384]\n"
     ]
    },
    {
     "name": "stderr",
     "output_type": "stream",
     "text": [
      "\n",
      "13it [04:59, 23.11s/it]"
     ]
    },
    {
     "name": "stdout",
     "output_type": "stream",
     "text": [
      "Best_fitness: [0.02448247]\n"
     ]
    },
    {
     "name": "stderr",
     "output_type": "stream",
     "text": [
      "\n",
      "14it [05:23, 23.20s/it]"
     ]
    },
    {
     "name": "stdout",
     "output_type": "stream",
     "text": [
      "Best_fitness: [0.02092228]\n"
     ]
    },
    {
     "name": "stderr",
     "output_type": "stream",
     "text": [
      "\n",
      "15it [05:46, 23.12s/it]"
     ]
    },
    {
     "name": "stdout",
     "output_type": "stream",
     "text": [
      "Best_fitness: [0.02102253]\n"
     ]
    },
    {
     "name": "stderr",
     "output_type": "stream",
     "text": [
      "\n",
      "16it [06:09, 23.04s/it]"
     ]
    },
    {
     "name": "stdout",
     "output_type": "stream",
     "text": [
      "Best_fitness: [0.01351737]\n"
     ]
    },
    {
     "name": "stderr",
     "output_type": "stream",
     "text": [
      "\n",
      "17it [06:32, 23.08s/it]"
     ]
    },
    {
     "name": "stdout",
     "output_type": "stream",
     "text": [
      "Best_fitness: [0.01579168]\n"
     ]
    },
    {
     "name": "stderr",
     "output_type": "stream",
     "text": [
      "\n",
      "18it [06:55, 23.09s/it]"
     ]
    },
    {
     "name": "stdout",
     "output_type": "stream",
     "text": [
      "Best_fitness: [0.0104579]\n"
     ]
    },
    {
     "name": "stderr",
     "output_type": "stream",
     "text": [
      "\n",
      "19it [07:18, 23.05s/it]"
     ]
    },
    {
     "name": "stdout",
     "output_type": "stream",
     "text": [
      "Best_fitness: [0.00265861]\n"
     ]
    },
    {
     "name": "stderr",
     "output_type": "stream",
     "text": [
      "\n",
      "20it [07:41, 23.08s/it]\n",
      "2it [15:27, 464.65s/it]\n",
      "0it [00:00, ?it/s]"
     ]
    },
    {
     "name": "stdout",
     "output_type": "stream",
     "text": [
      "Best_fitness: [0.0250991]\n"
     ]
    },
    {
     "name": "stderr",
     "output_type": "stream",
     "text": [
      "\n",
      "1it [00:46, 46.75s/it]"
     ]
    },
    {
     "name": "stdout",
     "output_type": "stream",
     "text": [
      "Best_fitness: [0.01678299]\n"
     ]
    },
    {
     "name": "stderr",
     "output_type": "stream",
     "text": [
      "\n",
      "2it [01:27, 44.88s/it]"
     ]
    },
    {
     "name": "stdout",
     "output_type": "stream",
     "text": [
      "Best_fitness: [0.0058912]\n"
     ]
    },
    {
     "name": "stderr",
     "output_type": "stream",
     "text": [
      "\n",
      "3it [02:07, 43.61s/it]"
     ]
    },
    {
     "name": "stdout",
     "output_type": "stream",
     "text": [
      "Best_fitness: [0.00712914]\n"
     ]
    },
    {
     "name": "stderr",
     "output_type": "stream",
     "text": [
      "\n",
      "4it [02:48, 42.68s/it]"
     ]
    },
    {
     "name": "stdout",
     "output_type": "stream",
     "text": [
      "Best_fitness: [0.01270434]\n"
     ]
    },
    {
     "name": "stderr",
     "output_type": "stream",
     "text": [
      "\n",
      "5it [03:28, 41.97s/it]"
     ]
    },
    {
     "name": "stdout",
     "output_type": "stream",
     "text": [
      "Best_fitness: [0.03295474]\n"
     ]
    },
    {
     "name": "stderr",
     "output_type": "stream",
     "text": [
      "\n",
      "6it [04:09, 41.54s/it]"
     ]
    },
    {
     "name": "stdout",
     "output_type": "stream",
     "text": [
      "Best_fitness: [0.06630524]\n"
     ]
    },
    {
     "name": "stderr",
     "output_type": "stream",
     "text": [
      "\n",
      "7it [04:49, 41.18s/it]"
     ]
    },
    {
     "name": "stdout",
     "output_type": "stream",
     "text": [
      "Best_fitness: [0.00135349]\n"
     ]
    },
    {
     "name": "stderr",
     "output_type": "stream",
     "text": [
      "\n",
      "8it [05:30, 41.09s/it]"
     ]
    },
    {
     "name": "stdout",
     "output_type": "stream",
     "text": [
      "Best_fitness: [0.01322512]\n"
     ]
    },
    {
     "name": "stderr",
     "output_type": "stream",
     "text": [
      "\n",
      "9it [06:11, 41.04s/it]"
     ]
    },
    {
     "name": "stdout",
     "output_type": "stream",
     "text": [
      "Best_fitness: [0.01566976]\n"
     ]
    },
    {
     "name": "stderr",
     "output_type": "stream",
     "text": [
      "\n",
      "10it [06:52, 40.97s/it]"
     ]
    },
    {
     "name": "stdout",
     "output_type": "stream",
     "text": [
      "Best_fitness: [0.01244103]\n"
     ]
    },
    {
     "name": "stderr",
     "output_type": "stream",
     "text": [
      "\n",
      "11it [07:32, 40.84s/it]"
     ]
    },
    {
     "name": "stdout",
     "output_type": "stream",
     "text": [
      "Best_fitness: [0.02264397]\n"
     ]
    },
    {
     "name": "stderr",
     "output_type": "stream",
     "text": [
      "\n",
      "12it [08:12, 40.65s/it]"
     ]
    },
    {
     "name": "stdout",
     "output_type": "stream",
     "text": [
      "Best_fitness: [0.00792143]\n"
     ]
    },
    {
     "name": "stderr",
     "output_type": "stream",
     "text": [
      "\n",
      "13it [08:53, 40.50s/it]"
     ]
    },
    {
     "name": "stdout",
     "output_type": "stream",
     "text": [
      "Best_fitness: [0.04085297]\n"
     ]
    },
    {
     "name": "stderr",
     "output_type": "stream",
     "text": [
      "\n",
      "14it [09:33, 40.35s/it]"
     ]
    },
    {
     "name": "stdout",
     "output_type": "stream",
     "text": [
      "Best_fitness: [0.00259908]\n"
     ]
    },
    {
     "name": "stderr",
     "output_type": "stream",
     "text": [
      "\n",
      "15it [10:13, 40.49s/it]"
     ]
    },
    {
     "name": "stdout",
     "output_type": "stream",
     "text": [
      "Best_fitness: [0.00504523]\n"
     ]
    },
    {
     "name": "stderr",
     "output_type": "stream",
     "text": [
      "\n",
      "16it [10:54, 40.61s/it]"
     ]
    },
    {
     "name": "stdout",
     "output_type": "stream",
     "text": [
      "Best_fitness: [0.02308269]\n"
     ]
    },
    {
     "name": "stderr",
     "output_type": "stream",
     "text": [
      "\n",
      "17it [11:34, 40.42s/it]"
     ]
    },
    {
     "name": "stdout",
     "output_type": "stream",
     "text": [
      "Best_fitness: [0.05289992]\n"
     ]
    },
    {
     "name": "stderr",
     "output_type": "stream",
     "text": [
      "\n",
      "18it [12:13, 40.05s/it]"
     ]
    },
    {
     "name": "stdout",
     "output_type": "stream",
     "text": [
      "Best_fitness: [0.00038342]\n"
     ]
    },
    {
     "name": "stderr",
     "output_type": "stream",
     "text": [
      "\n",
      "19it [12:54, 40.31s/it]"
     ]
    },
    {
     "name": "stdout",
     "output_type": "stream",
     "text": [
      "Best_fitness: [0.01039214]\n"
     ]
    },
    {
     "name": "stderr",
     "output_type": "stream",
     "text": [
      "\n",
      "20it [13:35, 40.75s/it]\n",
      "3it [29:02, 569.79s/it]\n",
      "0it [00:00, ?it/s]"
     ]
    },
    {
     "name": "stdout",
     "output_type": "stream",
     "text": [
      "Best_fitness: [0.20959336]\n"
     ]
    },
    {
     "name": "stderr",
     "output_type": "stream",
     "text": [
      "\n",
      "1it [00:39, 39.43s/it]"
     ]
    },
    {
     "name": "stdout",
     "output_type": "stream",
     "text": [
      "Best_fitness: [0.11097489]\n"
     ]
    },
    {
     "name": "stderr",
     "output_type": "stream",
     "text": [
      "\n",
      "2it [01:19, 39.50s/it]"
     ]
    },
    {
     "name": "stdout",
     "output_type": "stream",
     "text": [
      "Best_fitness: [0.11329225]\n"
     ]
    },
    {
     "name": "stderr",
     "output_type": "stream",
     "text": [
      "\n",
      "3it [01:58, 39.51s/it]"
     ]
    },
    {
     "name": "stdout",
     "output_type": "stream",
     "text": [
      "Best_fitness: [0.14209831]\n"
     ]
    },
    {
     "name": "stderr",
     "output_type": "stream",
     "text": [
      "\n",
      "4it [02:38, 39.48s/it]"
     ]
    },
    {
     "name": "stdout",
     "output_type": "stream",
     "text": [
      "Best_fitness: [0.03404695]\n"
     ]
    },
    {
     "name": "stderr",
     "output_type": "stream",
     "text": [
      "\n",
      "5it [03:17, 39.51s/it]"
     ]
    },
    {
     "name": "stdout",
     "output_type": "stream",
     "text": [
      "Best_fitness: [0.07750249]\n"
     ]
    },
    {
     "name": "stderr",
     "output_type": "stream",
     "text": [
      "\n",
      "6it [03:57, 39.53s/it]"
     ]
    },
    {
     "name": "stdout",
     "output_type": "stream",
     "text": [
      "Best_fitness: [0.13898216]\n"
     ]
    },
    {
     "name": "stderr",
     "output_type": "stream",
     "text": [
      "\n",
      "7it [04:36, 39.54s/it]"
     ]
    },
    {
     "name": "stdout",
     "output_type": "stream",
     "text": [
      "Best_fitness: [0.00430528]\n"
     ]
    },
    {
     "name": "stderr",
     "output_type": "stream",
     "text": [
      "\n",
      "8it [05:16, 39.48s/it]"
     ]
    },
    {
     "name": "stdout",
     "output_type": "stream",
     "text": [
      "Best_fitness: [0.01068312]\n"
     ]
    },
    {
     "name": "stderr",
     "output_type": "stream",
     "text": [
      "\n",
      "9it [05:55, 39.55s/it]"
     ]
    },
    {
     "name": "stdout",
     "output_type": "stream",
     "text": [
      "Best_fitness: [0.04270033]\n"
     ]
    },
    {
     "name": "stderr",
     "output_type": "stream",
     "text": [
      "\n",
      "10it [06:36, 39.83s/it]"
     ]
    },
    {
     "name": "stdout",
     "output_type": "stream",
     "text": [
      "Best_fitness: [0.02630206]\n"
     ]
    },
    {
     "name": "stderr",
     "output_type": "stream",
     "text": [
      "\n",
      "11it [07:15, 39.75s/it]"
     ]
    },
    {
     "name": "stdout",
     "output_type": "stream",
     "text": [
      "Best_fitness: [0.19737949]\n"
     ]
    },
    {
     "name": "stderr",
     "output_type": "stream",
     "text": [
      "\n",
      "12it [07:55, 39.73s/it]"
     ]
    },
    {
     "name": "stdout",
     "output_type": "stream",
     "text": [
      "Best_fitness: [0.06855033]\n"
     ]
    },
    {
     "name": "stderr",
     "output_type": "stream",
     "text": [
      "\n",
      "13it [08:35, 39.66s/it]"
     ]
    },
    {
     "name": "stdout",
     "output_type": "stream",
     "text": [
      "Best_fitness: [0.03968841]\n"
     ]
    },
    {
     "name": "stderr",
     "output_type": "stream",
     "text": [
      "\n",
      "14it [09:14, 39.59s/it]"
     ]
    },
    {
     "name": "stdout",
     "output_type": "stream",
     "text": [
      "Best_fitness: [0.01822222]\n"
     ]
    },
    {
     "name": "stderr",
     "output_type": "stream",
     "text": [
      "\n",
      "15it [09:53, 39.48s/it]"
     ]
    },
    {
     "name": "stdout",
     "output_type": "stream",
     "text": [
      "Best_fitness: [0.03313825]\n"
     ]
    },
    {
     "name": "stderr",
     "output_type": "stream",
     "text": [
      "\n",
      "16it [10:32, 39.37s/it]"
     ]
    },
    {
     "name": "stdout",
     "output_type": "stream",
     "text": [
      "Best_fitness: [0.05085779]\n"
     ]
    },
    {
     "name": "stderr",
     "output_type": "stream",
     "text": [
      "\n",
      "17it [11:12, 39.46s/it]"
     ]
    },
    {
     "name": "stdout",
     "output_type": "stream",
     "text": [
      "Best_fitness: [0.03994577]\n"
     ]
    },
    {
     "name": "stderr",
     "output_type": "stream",
     "text": [
      "\n",
      "18it [11:51, 39.40s/it]"
     ]
    },
    {
     "name": "stdout",
     "output_type": "stream",
     "text": [
      "Best_fitness: [0.05395857]\n"
     ]
    },
    {
     "name": "stderr",
     "output_type": "stream",
     "text": [
      "\n",
      "19it [12:32, 39.67s/it]"
     ]
    },
    {
     "name": "stdout",
     "output_type": "stream",
     "text": [
      "Best_fitness: [0.05814223]\n"
     ]
    },
    {
     "name": "stderr",
     "output_type": "stream",
     "text": [
      "\n",
      "20it [13:11, 39.57s/it]\n",
      "4it [42:14, 633.52s/it]\n"
     ]
    }
   ],
   "source": [
    "for i, dataset in tqdm(enumerate(datasets)):\n",
    "    X_train, y_train = dataset.iloc[:,:-1].to_numpy(), dataset.iloc[:,1].to_numpy()\n",
    "\n",
    "    splitted_X_train, splitted_y_train = shuffle_and_split(X_train, y_train, batch_size=20)\n",
    "    \n",
    "    perfs[list(perfs.keys())[i]][\"batch_size:20 swarmsize:200 itercount:100\"] = []\n",
    "    network = nets[i]\n",
    "    for (x_batch,y_batch) in tqdm(zip(splitted_X_train,splitted_y_train)):\n",
    "        perf = network.train_with_pso(x_batch, y_batch, swarm_size=200)\n",
    "        perfs[list(perfs.keys())[i]][\"batch_size:20 swarmsize:200 itercount:100\"].append(perf)\n",
    " "
   ]
  },
  {
   "cell_type": "code",
   "execution_count": 8,
   "metadata": {},
   "outputs": [
    {
     "name": "stderr",
     "output_type": "stream",
     "text": [
      "0it [00:00, ?it/s]\n",
      "0it [00:00, ?it/s]"
     ]
    },
    {
     "name": "stdout",
     "output_type": "stream",
     "text": [
      "Best_fitness: [0.2547329]\n"
     ]
    },
    {
     "name": "stderr",
     "output_type": "stream",
     "text": [
      "\n",
      "1it [08:37, 517.77s/it]"
     ]
    },
    {
     "name": "stdout",
     "output_type": "stream",
     "text": [
      "Best_fitness: [0.19849738]\n"
     ]
    },
    {
     "name": "stderr",
     "output_type": "stream",
     "text": [
      "\n",
      "2it [16:18, 500.54s/it]"
     ]
    },
    {
     "name": "stdout",
     "output_type": "stream",
     "text": [
      "Best_fitness: [0.1692353]\n"
     ]
    },
    {
     "name": "stderr",
     "output_type": "stream",
     "text": [
      "\n",
      "3it [23:25, 478.49s/it]"
     ]
    },
    {
     "name": "stdout",
     "output_type": "stream",
     "text": [
      "Best_fitness: [0.34617529]\n"
     ]
    },
    {
     "name": "stderr",
     "output_type": "stream",
     "text": [
      "\n",
      "4it [31:05, 472.95s/it]"
     ]
    },
    {
     "name": "stdout",
     "output_type": "stream",
     "text": [
      "Best_fitness: [0.1821286]\n"
     ]
    },
    {
     "name": "stderr",
     "output_type": "stream",
     "text": [
      "\n",
      "5it [38:45, 469.16s/it]"
     ]
    },
    {
     "name": "stdout",
     "output_type": "stream",
     "text": [
      "Best_fitness: [0.35664903]\n"
     ]
    },
    {
     "name": "stderr",
     "output_type": "stream",
     "text": [
      "\n",
      "6it [46:30, 467.80s/it]"
     ]
    },
    {
     "name": "stdout",
     "output_type": "stream",
     "text": [
      "Best_fitness: [0.10144074]\n"
     ]
    },
    {
     "name": "stderr",
     "output_type": "stream",
     "text": [
      "\n",
      "7it [54:09, 465.29s/it]"
     ]
    },
    {
     "name": "stdout",
     "output_type": "stream",
     "text": [
      "Best_fitness: [0.183581]\n"
     ]
    },
    {
     "name": "stderr",
     "output_type": "stream",
     "text": [
      "\n",
      "8it [1:01:50, 463.85s/it]"
     ]
    },
    {
     "name": "stdout",
     "output_type": "stream",
     "text": [
      "Best_fitness: [0.33000513]\n"
     ]
    },
    {
     "name": "stderr",
     "output_type": "stream",
     "text": [
      "\n",
      "9it [1:09:30, 462.97s/it]"
     ]
    },
    {
     "name": "stdout",
     "output_type": "stream",
     "text": [
      "Best_fitness: [0.22498043]\n"
     ]
    },
    {
     "name": "stderr",
     "output_type": "stream",
     "text": [
      "\n",
      "10it [1:17:11, 462.27s/it]"
     ]
    },
    {
     "name": "stdout",
     "output_type": "stream",
     "text": [
      "Best_fitness: [0.10054867]\n"
     ]
    },
    {
     "name": "stderr",
     "output_type": "stream",
     "text": [
      "\n",
      "11it [1:24:50, 461.34s/it]"
     ]
    },
    {
     "name": "stdout",
     "output_type": "stream",
     "text": [
      "Best_fitness: [0.16352821]\n"
     ]
    },
    {
     "name": "stderr",
     "output_type": "stream",
     "text": [
      "\n",
      "12it [1:32:43, 464.81s/it]"
     ]
    },
    {
     "name": "stdout",
     "output_type": "stream",
     "text": [
      "Best_fitness: [0.09483362]\n"
     ]
    },
    {
     "name": "stderr",
     "output_type": "stream",
     "text": [
      "\n",
      "13it [1:40:25, 463.92s/it]"
     ]
    },
    {
     "name": "stdout",
     "output_type": "stream",
     "text": [
      "Best_fitness: [0.29127197]\n"
     ]
    },
    {
     "name": "stderr",
     "output_type": "stream",
     "text": [
      "\n",
      "14it [1:48:06, 462.91s/it]"
     ]
    },
    {
     "name": "stdout",
     "output_type": "stream",
     "text": [
      "Best_fitness: [0.13412244]\n"
     ]
    },
    {
     "name": "stderr",
     "output_type": "stream",
     "text": [
      "\n",
      "15it [1:55:47, 462.38s/it]"
     ]
    },
    {
     "name": "stdout",
     "output_type": "stream",
     "text": [
      "Best_fitness: [0.35486104]\n"
     ]
    },
    {
     "name": "stderr",
     "output_type": "stream",
     "text": [
      "\n",
      "16it [2:03:26, 461.57s/it]"
     ]
    },
    {
     "name": "stdout",
     "output_type": "stream",
     "text": [
      "Best_fitness: [0.16735633]\n"
     ]
    },
    {
     "name": "stderr",
     "output_type": "stream",
     "text": [
      "\n",
      "17it [2:11:06, 461.12s/it]"
     ]
    },
    {
     "name": "stdout",
     "output_type": "stream",
     "text": [
      "Best_fitness: [0.46369673]\n"
     ]
    },
    {
     "name": "stderr",
     "output_type": "stream",
     "text": [
      "\n",
      "18it [2:18:13, 450.66s/it]"
     ]
    },
    {
     "name": "stdout",
     "output_type": "stream",
     "text": [
      "Best_fitness: [0.21883231]\n"
     ]
    },
    {
     "name": "stderr",
     "output_type": "stream",
     "text": [
      "\n",
      "19it [2:25:22, 444.15s/it]"
     ]
    },
    {
     "name": "stdout",
     "output_type": "stream",
     "text": [
      "Best_fitness: [0.07848875]\n"
     ]
    },
    {
     "name": "stderr",
     "output_type": "stream",
     "text": [
      "\n",
      "20it [2:33:01, 459.09s/it]\n",
      "1it [2:33:01, 9181.88s/it]\n",
      "0it [00:00, ?it/s]"
     ]
    },
    {
     "name": "stdout",
     "output_type": "stream",
     "text": [
      "Best_fitness: [0.00206061]\n"
     ]
    },
    {
     "name": "stderr",
     "output_type": "stream",
     "text": [
      "\n",
      "1it [07:54, 474.76s/it]"
     ]
    },
    {
     "name": "stdout",
     "output_type": "stream",
     "text": [
      "Best_fitness: [0.00367242]\n"
     ]
    },
    {
     "name": "stderr",
     "output_type": "stream",
     "text": [
      "\n",
      "2it [15:28, 468.32s/it]"
     ]
    },
    {
     "name": "stdout",
     "output_type": "stream",
     "text": [
      "Best_fitness: [0.00073437]\n"
     ]
    },
    {
     "name": "stderr",
     "output_type": "stream",
     "text": [
      "\n",
      "3it [23:08, 465.96s/it]"
     ]
    },
    {
     "name": "stdout",
     "output_type": "stream",
     "text": [
      "Best_fitness: [0.0158552]\n"
     ]
    },
    {
     "name": "stderr",
     "output_type": "stream",
     "text": [
      "\n",
      "4it [31:02, 468.35s/it]"
     ]
    },
    {
     "name": "stdout",
     "output_type": "stream",
     "text": [
      "Best_fitness: [0.00439951]\n"
     ]
    },
    {
     "name": "stderr",
     "output_type": "stream",
     "text": [
      "\n",
      "5it [38:07, 455.50s/it]"
     ]
    },
    {
     "name": "stdout",
     "output_type": "stream",
     "text": [
      "Best_fitness: [0.02608779]\n"
     ]
    },
    {
     "name": "stderr",
     "output_type": "stream",
     "text": [
      "\n",
      "6it [45:15, 447.03s/it]"
     ]
    },
    {
     "name": "stdout",
     "output_type": "stream",
     "text": [
      "Best_fitness: [0.00152688]\n"
     ]
    },
    {
     "name": "stderr",
     "output_type": "stream",
     "text": [
      "\n",
      "7it [52:56, 451.38s/it]"
     ]
    },
    {
     "name": "stdout",
     "output_type": "stream",
     "text": [
      "Best_fitness: [0.00222992]\n"
     ]
    },
    {
     "name": "stderr",
     "output_type": "stream",
     "text": [
      "\n",
      "8it [1:00:24, 450.37s/it]"
     ]
    },
    {
     "name": "stdout",
     "output_type": "stream",
     "text": [
      "Best_fitness: [0.00822751]\n"
     ]
    },
    {
     "name": "stderr",
     "output_type": "stream",
     "text": [
      "\n",
      "9it [1:08:06, 453.84s/it]"
     ]
    },
    {
     "name": "stdout",
     "output_type": "stream",
     "text": [
      "Best_fitness: [0.00746677]\n"
     ]
    },
    {
     "name": "stderr",
     "output_type": "stream",
     "text": [
      "\n",
      "10it [1:15:48, 456.09s/it]"
     ]
    },
    {
     "name": "stdout",
     "output_type": "stream",
     "text": [
      "Best_fitness: [0.00123925]\n"
     ]
    },
    {
     "name": "stderr",
     "output_type": "stream",
     "text": [
      "\n",
      "11it [1:23:27, 457.06s/it]"
     ]
    },
    {
     "name": "stdout",
     "output_type": "stream",
     "text": [
      "Best_fitness: [0.00504003]\n"
     ]
    },
    {
     "name": "stderr",
     "output_type": "stream",
     "text": [
      "\n",
      "12it [1:30:37, 449.12s/it]"
     ]
    },
    {
     "name": "stdout",
     "output_type": "stream",
     "text": [
      "Best_fitness: [0.02176279]\n"
     ]
    },
    {
     "name": "stderr",
     "output_type": "stream",
     "text": [
      "\n",
      "13it [1:38:19, 452.84s/it]"
     ]
    },
    {
     "name": "stdout",
     "output_type": "stream",
     "text": [
      "Best_fitness: [0.00089119]\n"
     ]
    },
    {
     "name": "stderr",
     "output_type": "stream",
     "text": [
      "\n",
      "14it [1:46:00, 455.41s/it]"
     ]
    },
    {
     "name": "stdout",
     "output_type": "stream",
     "text": [
      "Best_fitness: [0.00629091]\n"
     ]
    },
    {
     "name": "stderr",
     "output_type": "stream",
     "text": [
      "\n",
      "15it [1:53:06, 446.53s/it]"
     ]
    },
    {
     "name": "stdout",
     "output_type": "stream",
     "text": [
      "Best_fitness: [0.00791468]\n"
     ]
    },
    {
     "name": "stderr",
     "output_type": "stream",
     "text": [
      "\n",
      "16it [2:00:27, 444.94s/it]"
     ]
    },
    {
     "name": "stdout",
     "output_type": "stream",
     "text": [
      "Best_fitness: [0.00368181]\n"
     ]
    },
    {
     "name": "stderr",
     "output_type": "stream",
     "text": [
      "\n",
      "17it [2:08:08, 449.56s/it]"
     ]
    },
    {
     "name": "stdout",
     "output_type": "stream",
     "text": [
      "Best_fitness: [0.00308621]\n"
     ]
    },
    {
     "name": "stderr",
     "output_type": "stream",
     "text": [
      "\n",
      "18it [2:15:14, 442.68s/it]"
     ]
    },
    {
     "name": "stdout",
     "output_type": "stream",
     "text": [
      "Best_fitness: [0.00604775]\n"
     ]
    },
    {
     "name": "stderr",
     "output_type": "stream",
     "text": [
      "\n",
      "19it [2:22:51, 447.00s/it]"
     ]
    },
    {
     "name": "stdout",
     "output_type": "stream",
     "text": [
      "Best_fitness: [0.01377576]\n"
     ]
    },
    {
     "name": "stderr",
     "output_type": "stream",
     "text": [
      "\n",
      "20it [2:30:31, 451.60s/it]\n",
      "2it [5:03:33, 9136.90s/it]\n",
      "0it [00:00, ?it/s]"
     ]
    },
    {
     "name": "stdout",
     "output_type": "stream",
     "text": [
      "Best_fitness: [0.01209818]\n"
     ]
    },
    {
     "name": "stderr",
     "output_type": "stream",
     "text": [
      "\n",
      "1it [15:15, 915.36s/it]"
     ]
    },
    {
     "name": "stdout",
     "output_type": "stream",
     "text": [
      "Best_fitness: [0.01122039]\n"
     ]
    },
    {
     "name": "stderr",
     "output_type": "stream",
     "text": [
      "\n",
      "2it [29:08, 890.68s/it]"
     ]
    },
    {
     "name": "stdout",
     "output_type": "stream",
     "text": [
      "Best_fitness: [0.0099555]\n"
     ]
    },
    {
     "name": "stderr",
     "output_type": "stream",
     "text": [
      "\n",
      "3it [42:55, 871.52s/it]"
     ]
    },
    {
     "name": "stdout",
     "output_type": "stream",
     "text": [
      "Best_fitness: [0.05265587]\n"
     ]
    },
    {
     "name": "stderr",
     "output_type": "stream",
     "text": [
      "\n",
      "4it [56:50, 860.66s/it]"
     ]
    },
    {
     "name": "stdout",
     "output_type": "stream",
     "text": [
      "Best_fitness: [0.01018781]\n"
     ]
    },
    {
     "name": "stderr",
     "output_type": "stream",
     "text": [
      "\n",
      "5it [1:11:12, 861.02s/it]"
     ]
    },
    {
     "name": "stdout",
     "output_type": "stream",
     "text": [
      "Best_fitness: [0.04138132]\n"
     ]
    },
    {
     "name": "stderr",
     "output_type": "stream",
     "text": [
      "\n",
      "6it [1:24:28, 841.50s/it]"
     ]
    },
    {
     "name": "stdout",
     "output_type": "stream",
     "text": [
      "Best_fitness: [0.04965032]\n"
     ]
    },
    {
     "name": "stderr",
     "output_type": "stream",
     "text": [
      "\n",
      "7it [1:37:43, 827.59s/it]"
     ]
    },
    {
     "name": "stdout",
     "output_type": "stream",
     "text": [
      "Best_fitness: [0.00023793]\n"
     ]
    },
    {
     "name": "stderr",
     "output_type": "stream",
     "text": [
      "\n",
      "8it [1:51:50, 833.33s/it]"
     ]
    },
    {
     "name": "stdout",
     "output_type": "stream",
     "text": [
      "Best_fitness: [0.01563323]\n"
     ]
    },
    {
     "name": "stderr",
     "output_type": "stream",
     "text": [
      "\n",
      "9it [2:05:04, 821.51s/it]"
     ]
    },
    {
     "name": "stdout",
     "output_type": "stream",
     "text": [
      "Best_fitness: [0.00507896]\n"
     ]
    },
    {
     "name": "stderr",
     "output_type": "stream",
     "text": [
      "\n",
      "10it [2:19:01, 826.28s/it]"
     ]
    },
    {
     "name": "stdout",
     "output_type": "stream",
     "text": [
      "Best_fitness: [0.01764211]\n"
     ]
    },
    {
     "name": "stderr",
     "output_type": "stream",
     "text": [
      "\n",
      "11it [2:32:20, 818.00s/it]"
     ]
    },
    {
     "name": "stdout",
     "output_type": "stream",
     "text": [
      "Best_fitness: [0.01653754]\n"
     ]
    },
    {
     "name": "stderr",
     "output_type": "stream",
     "text": [
      "\n",
      "12it [2:46:26, 826.57s/it]"
     ]
    },
    {
     "name": "stdout",
     "output_type": "stream",
     "text": [
      "Best_fitness: [0.02082358]\n"
     ]
    },
    {
     "name": "stderr",
     "output_type": "stream",
     "text": [
      "\n",
      "13it [3:00:21, 829.00s/it]"
     ]
    },
    {
     "name": "stdout",
     "output_type": "stream",
     "text": [
      "Best_fitness: [0.02464814]\n"
     ]
    },
    {
     "name": "stderr",
     "output_type": "stream",
     "text": [
      "\n",
      "14it [3:15:44, 857.12s/it]"
     ]
    },
    {
     "name": "stdout",
     "output_type": "stream",
     "text": [
      "Best_fitness: [0.02121937]\n"
     ]
    },
    {
     "name": "stderr",
     "output_type": "stream",
     "text": [
      "\n",
      "15it [3:29:03, 839.83s/it]"
     ]
    },
    {
     "name": "stdout",
     "output_type": "stream",
     "text": [
      "Best_fitness: [0.01884036]\n"
     ]
    },
    {
     "name": "stderr",
     "output_type": "stream",
     "text": [
      "\n",
      "16it [3:42:27, 829.06s/it]"
     ]
    },
    {
     "name": "stdout",
     "output_type": "stream",
     "text": [
      "Best_fitness: [0.03383621]\n"
     ]
    },
    {
     "name": "stderr",
     "output_type": "stream",
     "text": [
      "\n",
      "17it [3:56:01, 824.38s/it]"
     ]
    },
    {
     "name": "stdout",
     "output_type": "stream",
     "text": [
      "Best_fitness: [0.0284667]\n"
     ]
    },
    {
     "name": "stderr",
     "output_type": "stream",
     "text": [
      "\n",
      "18it [4:09:33, 820.82s/it]"
     ]
    },
    {
     "name": "stdout",
     "output_type": "stream",
     "text": [
      "Best_fitness: [0.02421934]\n"
     ]
    },
    {
     "name": "stderr",
     "output_type": "stream",
     "text": [
      "\n",
      "19it [4:23:47, 830.87s/it]"
     ]
    },
    {
     "name": "stdout",
     "output_type": "stream",
     "text": [
      "Best_fitness: [0.0041443]\n"
     ]
    },
    {
     "name": "stderr",
     "output_type": "stream",
     "text": [
      "\n",
      "20it [4:37:58, 833.92s/it]\n",
      "3it [9:41:32, 11399.37s/it]\n",
      "0it [00:00, ?it/s]"
     ]
    },
    {
     "name": "stdout",
     "output_type": "stream",
     "text": [
      "Best_fitness: [0.11101405]\n"
     ]
    },
    {
     "name": "stderr",
     "output_type": "stream",
     "text": [
      "\n",
      "1it [13:54, 834.97s/it]"
     ]
    },
    {
     "name": "stdout",
     "output_type": "stream",
     "text": [
      "Best_fitness: [0.16611737]\n"
     ]
    },
    {
     "name": "stderr",
     "output_type": "stream",
     "text": [
      "\n",
      "2it [27:33, 829.93s/it]"
     ]
    },
    {
     "name": "stdout",
     "output_type": "stream",
     "text": [
      "Best_fitness: [0.04341239]\n"
     ]
    },
    {
     "name": "stderr",
     "output_type": "stream",
     "text": [
      "\n",
      "3it [40:31, 814.52s/it]"
     ]
    },
    {
     "name": "stdout",
     "output_type": "stream",
     "text": [
      "Best_fitness: [0.02677967]\n"
     ]
    },
    {
     "name": "stderr",
     "output_type": "stream",
     "text": [
      "\n",
      "4it [53:48, 809.20s/it]"
     ]
    },
    {
     "name": "stdout",
     "output_type": "stream",
     "text": [
      "Best_fitness: [0.06296343]\n"
     ]
    },
    {
     "name": "stderr",
     "output_type": "stream",
     "text": [
      "\n",
      "5it [1:07:09, 806.75s/it]"
     ]
    },
    {
     "name": "stdout",
     "output_type": "stream",
     "text": [
      "Best_fitness: [0.02545586]\n"
     ]
    },
    {
     "name": "stderr",
     "output_type": "stream",
     "text": [
      "\n",
      "6it [1:20:30, 804.90s/it]"
     ]
    },
    {
     "name": "stdout",
     "output_type": "stream",
     "text": [
      "Best_fitness: [0.22505402]\n"
     ]
    },
    {
     "name": "stderr",
     "output_type": "stream",
     "text": [
      "\n",
      "7it [1:33:36, 799.20s/it]"
     ]
    },
    {
     "name": "stdout",
     "output_type": "stream",
     "text": [
      "Best_fitness: [0.00441714]\n"
     ]
    },
    {
     "name": "stderr",
     "output_type": "stream",
     "text": [
      "\n",
      "8it [1:46:56, 799.68s/it]"
     ]
    },
    {
     "name": "stdout",
     "output_type": "stream",
     "text": [
      "Best_fitness: [0.12714241]\n"
     ]
    },
    {
     "name": "stderr",
     "output_type": "stream",
     "text": [
      "\n",
      "9it [2:00:27, 802.96s/it]"
     ]
    },
    {
     "name": "stdout",
     "output_type": "stream",
     "text": [
      "Best_fitness: [0.04822035]\n"
     ]
    },
    {
     "name": "stderr",
     "output_type": "stream",
     "text": [
      "\n",
      "10it [2:13:46, 801.79s/it]"
     ]
    },
    {
     "name": "stdout",
     "output_type": "stream",
     "text": [
      "Best_fitness: [0.12495979]\n"
     ]
    },
    {
     "name": "stderr",
     "output_type": "stream",
     "text": [
      "\n",
      "11it [2:27:17, 804.47s/it]"
     ]
    },
    {
     "name": "stdout",
     "output_type": "stream",
     "text": [
      "Best_fitness: [0.00557207]\n"
     ]
    },
    {
     "name": "stderr",
     "output_type": "stream",
     "text": [
      "\n",
      "12it [2:40:21, 798.38s/it]"
     ]
    },
    {
     "name": "stdout",
     "output_type": "stream",
     "text": [
      "Best_fitness: [0.03934816]\n"
     ]
    },
    {
     "name": "stderr",
     "output_type": "stream",
     "text": [
      "\n",
      "13it [2:53:20, 792.67s/it]"
     ]
    },
    {
     "name": "stdout",
     "output_type": "stream",
     "text": [
      "Best_fitness: [0.06504642]\n"
     ]
    },
    {
     "name": "stderr",
     "output_type": "stream",
     "text": [
      "\n",
      "14it [3:06:19, 788.40s/it]"
     ]
    },
    {
     "name": "stdout",
     "output_type": "stream",
     "text": [
      "Best_fitness: [0.07260976]\n"
     ]
    },
    {
     "name": "stderr",
     "output_type": "stream",
     "text": [
      "\n",
      "15it [3:19:42, 792.97s/it]"
     ]
    },
    {
     "name": "stdout",
     "output_type": "stream",
     "text": [
      "Best_fitness: [0.00565104]\n"
     ]
    },
    {
     "name": "stderr",
     "output_type": "stream",
     "text": [
      "\n",
      "16it [3:32:43, 789.19s/it]"
     ]
    },
    {
     "name": "stdout",
     "output_type": "stream",
     "text": [
      "Best_fitness: [0.0194473]\n"
     ]
    },
    {
     "name": "stderr",
     "output_type": "stream",
     "text": [
      "\n",
      "17it [3:45:55, 790.15s/it]"
     ]
    },
    {
     "name": "stdout",
     "output_type": "stream",
     "text": [
      "Best_fitness: [0.09637254]\n"
     ]
    },
    {
     "name": "stderr",
     "output_type": "stream",
     "text": [
      "\n",
      "18it [3:59:11, 791.75s/it]"
     ]
    },
    {
     "name": "stdout",
     "output_type": "stream",
     "text": [
      "Best_fitness: [0.03445244]\n"
     ]
    },
    {
     "name": "stderr",
     "output_type": "stream",
     "text": [
      "\n",
      "19it [4:12:28, 793.42s/it]"
     ]
    },
    {
     "name": "stdout",
     "output_type": "stream",
     "text": [
      "Best_fitness: [0.06544985]\n"
     ]
    },
    {
     "name": "stderr",
     "output_type": "stream",
     "text": [
      "\n",
      "20it [4:25:36, 796.83s/it]\n",
      "4it [14:07:08, 12707.22s/it]\n"
     ]
    }
   ],
   "source": [
    "       \n",
    "for i, dataset in tqdm(enumerate(datasets)):\n",
    "    X_train, y_train = dataset.iloc[:,:-1].to_numpy(), dataset.iloc[:,1].to_numpy()\n",
    "\n",
    "    splitted_X_train, splitted_y_train = shuffle_and_split(X_train, y_train, batch_size=20)\n",
    "    \n",
    "    perfs[list(perfs.keys())[i]][\"batch_size:20 swarmsize:200 itercount:200\"] = []\n",
    "    network = nets[i]\n",
    "    for (x_batch,y_batch) in tqdm(zip(splitted_X_train,splitted_y_train)):\n",
    "        perf = network.train_with_pso(x_batch, y_batch, swarm_size=200, iter_count=200)\n",
    "        perfs[list(perfs.keys())[i]][\"batch_size:20 swarmsize:200 itercount:200\"].append(perf)\n",
    " "
   ]
  },
  {
   "cell_type": "code",
   "execution_count": 14,
   "metadata": {},
   "outputs": [
    {
     "name": "stderr",
     "output_type": "stream",
     "text": [
      "\r",
      "0it [00:00, ?it/s]"
     ]
    },
    {
     "name": "stdout",
     "output_type": "stream",
     "text": [
      "data/1in_tanh.txt\n",
      "0.3105594808220541\n",
      "{'weights': {'w1': array([[1.29959325]])}, 'biases': {'b1': array([[0.40102346]])}, 'activationFunctions': {'a1': 'arctan'}, 'fp_activation': {'w1': array([[1.03923075]])}, 'deltas': {}}\n",
      "data/1in_linear.txt\n",
      "0.010075521452264546\n",
      "{'weights': {'w1': array([[0.97585357]])}, 'biases': {'b1': array([[0.01854913]])}, 'activationFunctions': {'a1': 'prelu'}, 'fp_activation': {'w1': array([[0.97488562]])}, 'deltas': {}}\n",
      "data/1in_cubic.txt\n",
      "0.08386435972999291\n",
      "{'weights': {'w1': array([[0.61622556],\n",
      "       [0.73985546],\n",
      "       [0.85676743]]), 'w2': array([[0.62846182, 0.88063874, 0.95142929]])}, 'biases': {'b1': array([[0.72151288],\n",
      "       [0.76771017],\n",
      "       [0.7278703 ]]), 'b2': array([[0.68174396]])}, 'activationFunctions': {'a1': 'cosine', 'a2': 'gaussian'}, 'fp_activation': {'w1': array([[ 0.23095381],\n",
      "       [ 0.06318857],\n",
      "       [-0.01384096]]), 'w2': array([[0.68529925]])}, 'deltas': {}}\n",
      "data/1in_sine.txt\n",
      "0.13163535141178523\n",
      "{'weights': {'w1': array([[0.90703318],\n",
      "       [0.63139022],\n",
      "       [0.82136837]]), 'w2': array([[0.5219364 , 0.48086067, 0.77103374]])}, 'biases': {'b1': array([[0.38656499],\n",
      "       [0.56380128],\n",
      "       [0.4081431 ]]), 'b2': array([[0.64001335]])}, 'activationFunctions': {'a1': 'relu', 'a2': 'cosine'}, 'fp_activation': {'w1': array([[1.25767965],\n",
      "       [1.17018845],\n",
      "       [1.19698528]]), 'w2': array([[-0.93605987]])}, 'deltas': {}}\n"
     ]
    },
    {
     "name": "stderr",
     "output_type": "stream",
     "text": [
      "4it [00:00, 66.81it/s]\n"
     ]
    }
   ],
   "source": [
    "for i, dataset in tqdm(enumerate(datasets)):\n",
    "    print(ONE_IN_FILES[i])\n",
    "    network = nets[i]\n",
    "    X_train, y_train = dataset.iloc[:,:-1].to_numpy(), dataset.iloc[:,1].to_numpy()\n",
    "    print(network.test(X_train, y_train))\n",
    "    print(network.network)"
   ]
  },
  {
   "cell_type": "code",
   "execution_count": 17,
   "metadata": {},
   "outputs": [
    {
     "ename": "IndexError",
     "evalue": "tuple index out of range",
     "output_type": "error",
     "traceback": [
      "\u001b[1;31m---------------------------------------------------------------------------\u001b[0m",
      "\u001b[1;31mIndexError\u001b[0m                                Traceback (most recent call last)",
      "\u001b[1;32m<ipython-input-17-b0d5ea47eda9>\u001b[0m in \u001b[0;36m<module>\u001b[1;34m\u001b[0m\n\u001b[1;32m----> 1\u001b[1;33m \u001b[0mnp\u001b[0m\u001b[1;33m.\u001b[0m\u001b[0msquare\u001b[0m\u001b[1;33m(\u001b[0m\u001b[0mnp\u001b[0m\u001b[1;33m.\u001b[0m\u001b[0marray\u001b[0m\u001b[1;33m(\u001b[0m\u001b[1;33m[\u001b[0m\u001b[1;36m1\u001b[0m\u001b[1;33m,\u001b[0m\u001b[1;36m2\u001b[0m\u001b[1;33m,\u001b[0m\u001b[1;36m3\u001b[0m\u001b[1;33m,\u001b[0m\u001b[1;36m4\u001b[0m\u001b[1;33m,\u001b[0m\u001b[1;36m5\u001b[0m\u001b[1;33m,\u001b[0m\u001b[1;36m6\u001b[0m\u001b[1;33m]\u001b[0m\u001b[1;33m)\u001b[0m \u001b[1;33m-\u001b[0m \u001b[0mnp\u001b[0m\u001b[1;33m.\u001b[0m\u001b[0marray\u001b[0m\u001b[1;33m(\u001b[0m\u001b[1;33m[\u001b[0m\u001b[1;36m0\u001b[0m\u001b[1;33m,\u001b[0m\u001b[1;36m0\u001b[0m\u001b[1;33m,\u001b[0m\u001b[1;36m0\u001b[0m\u001b[1;33m,\u001b[0m\u001b[1;36m0\u001b[0m\u001b[1;33m,\u001b[0m\u001b[1;36m0\u001b[0m\u001b[1;33m,\u001b[0m\u001b[1;36m0\u001b[0m\u001b[1;33m]\u001b[0m\u001b[1;33m)\u001b[0m\u001b[1;33m)\u001b[0m\u001b[1;33m.\u001b[0m\u001b[0mmean\u001b[0m\u001b[1;33m(\u001b[0m\u001b[0maxis\u001b[0m\u001b[1;33m=\u001b[0m\u001b[1;36m1\u001b[0m\u001b[1;33m)\u001b[0m\u001b[1;33m\u001b[0m\u001b[1;33m\u001b[0m\u001b[0m\n\u001b[0m",
      "\u001b[1;32m~\\AppData\\Local\\Continuum\\anaconda3\\lib\\site-packages\\numpy\\core\\_methods.py\u001b[0m in \u001b[0;36m_mean\u001b[1;34m(a, axis, dtype, out, keepdims)\u001b[0m\n\u001b[0;32m     60\u001b[0m \u001b[1;33m\u001b[0m\u001b[0m\n\u001b[0;32m     61\u001b[0m     \u001b[0mis_float16_result\u001b[0m \u001b[1;33m=\u001b[0m \u001b[1;32mFalse\u001b[0m\u001b[1;33m\u001b[0m\u001b[1;33m\u001b[0m\u001b[0m\n\u001b[1;32m---> 62\u001b[1;33m     \u001b[0mrcount\u001b[0m \u001b[1;33m=\u001b[0m \u001b[0m_count_reduce_items\u001b[0m\u001b[1;33m(\u001b[0m\u001b[0marr\u001b[0m\u001b[1;33m,\u001b[0m \u001b[0maxis\u001b[0m\u001b[1;33m)\u001b[0m\u001b[1;33m\u001b[0m\u001b[1;33m\u001b[0m\u001b[0m\n\u001b[0m\u001b[0;32m     63\u001b[0m     \u001b[1;31m# Make this warning show up first\u001b[0m\u001b[1;33m\u001b[0m\u001b[1;33m\u001b[0m\u001b[1;33m\u001b[0m\u001b[0m\n\u001b[0;32m     64\u001b[0m     \u001b[1;32mif\u001b[0m \u001b[0mrcount\u001b[0m \u001b[1;33m==\u001b[0m \u001b[1;36m0\u001b[0m\u001b[1;33m:\u001b[0m\u001b[1;33m\u001b[0m\u001b[1;33m\u001b[0m\u001b[0m\n",
      "\u001b[1;32m~\\AppData\\Local\\Continuum\\anaconda3\\lib\\site-packages\\numpy\\core\\_methods.py\u001b[0m in \u001b[0;36m_count_reduce_items\u001b[1;34m(arr, axis)\u001b[0m\n\u001b[0;32m     53\u001b[0m     \u001b[0mitems\u001b[0m \u001b[1;33m=\u001b[0m \u001b[1;36m1\u001b[0m\u001b[1;33m\u001b[0m\u001b[1;33m\u001b[0m\u001b[0m\n\u001b[0;32m     54\u001b[0m     \u001b[1;32mfor\u001b[0m \u001b[0max\u001b[0m \u001b[1;32min\u001b[0m \u001b[0maxis\u001b[0m\u001b[1;33m:\u001b[0m\u001b[1;33m\u001b[0m\u001b[1;33m\u001b[0m\u001b[0m\n\u001b[1;32m---> 55\u001b[1;33m         \u001b[0mitems\u001b[0m \u001b[1;33m*=\u001b[0m \u001b[0marr\u001b[0m\u001b[1;33m.\u001b[0m\u001b[0mshape\u001b[0m\u001b[1;33m[\u001b[0m\u001b[0max\u001b[0m\u001b[1;33m]\u001b[0m\u001b[1;33m\u001b[0m\u001b[1;33m\u001b[0m\u001b[0m\n\u001b[0m\u001b[0;32m     56\u001b[0m     \u001b[1;32mreturn\u001b[0m \u001b[0mitems\u001b[0m\u001b[1;33m\u001b[0m\u001b[1;33m\u001b[0m\u001b[0m\n\u001b[0;32m     57\u001b[0m \u001b[1;33m\u001b[0m\u001b[0m\n",
      "\u001b[1;31mIndexError\u001b[0m: tuple index out of range"
     ]
    }
   ],
   "source": [
    "np.square().mean(axis=1)"
   ]
  },
  {
   "cell_type": "code",
   "execution_count": 1,
   "metadata": {},
   "outputs": [
    {
     "ename": "NameError",
     "evalue": "name 'perfs' is not defined",
     "output_type": "error",
     "traceback": [
      "\u001b[1;31m---------------------------------------------------------------------------\u001b[0m",
      "\u001b[1;31mNameError\u001b[0m                                 Traceback (most recent call last)",
      "\u001b[1;32m<ipython-input-1-2e69aab510b2>\u001b[0m in \u001b[0;36m<module>\u001b[1;34m\u001b[0m\n\u001b[1;32m----> 1\u001b[1;33m \u001b[0mperfs\u001b[0m\u001b[1;33m\u001b[0m\u001b[1;33m\u001b[0m\u001b[0m\n\u001b[0m",
      "\u001b[1;31mNameError\u001b[0m: name 'perfs' is not defined"
     ]
    }
   ],
   "source": [
    "perfs"
   ]
  }
 ],
 "metadata": {
  "kernelspec": {
   "display_name": "Python 3",
   "language": "python",
   "name": "python3"
  },
  "language_info": {
   "codemirror_mode": {
    "name": "ipython",
    "version": 3
   },
   "file_extension": ".py",
   "mimetype": "text/x-python",
   "name": "python",
   "nbconvert_exporter": "python",
   "pygments_lexer": "ipython3",
   "version": "3.7.3"
  }
 },
 "nbformat": 4,
 "nbformat_minor": 2
}
