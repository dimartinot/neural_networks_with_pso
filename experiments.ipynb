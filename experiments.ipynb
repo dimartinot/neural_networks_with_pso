{
 "cells": [
  {
   "cell_type": "code",
   "execution_count": 82,
   "metadata": {},
   "outputs": [],
   "source": [
    "from classes.network import Network\n",
    "import pandas as pd\n",
    "import numpy as np\n",
    "from tqdm import tqdm\n",
    "import time\n",
    "\n",
    "def shuffle_and_split(X_train, y_train, batch_size=10):\n",
    "    p = np.random.permutation(len(X_train))\n",
    "\n",
    "    new_X_train = X_train[p]\n",
    "    new_y_train = y_train[p]\n",
    "\n",
    "    splitted_X_train = np.array_split(new_X_train, batch_size)\n",
    "    splitted_y_train = np.array_split(new_y_train, batch_size)\n",
    "\n",
    "    return splitted_X_train[:-1], splitted_y_train[:-1], splitted_X_train[-1], splitted_y_train[-1]\n",
    "\n",
    "ONE_IN_FILES = [\n",
    "    \"data/1in_tanh.txt\",\n",
    "    \"data/1in_linear.txt\",\n",
    "    \"data/1in_cubic.txt\",\n",
    "    \"data/1in_sine.txt\"\n",
    "]"
   ]
  },
  {
   "cell_type": "code",
   "execution_count": 6,
   "metadata": {},
   "outputs": [
    {
     "name": "stdout",
     "output_type": "stream",
     "text": [
      "Best_fitness: 0.24666885972889335\n"
     ]
    }
   ],
   "source": [
    "network = Network(error=\"l2\")\n",
    "network.addLayer(3, inputSize=1, activation=\"tanh\")\n",
    "network.addLayer(1, activation=\"tanh\")\n",
    "\n",
    "ds = pd.read_csv(\"data/1in_tanh.txt\", sep=r\"\\s+\", header=None)\n",
    "X_train, y_train = ds.iloc[:,:-1].to_numpy(), ds.iloc[:,1].to_numpy()\n",
    "\n",
    "splitted_X_train, splitted_y_train = shuffle_and_split(X_train, y_train, batch_size=20)\n",
    "\n",
    "p = np.random.permutation(len(X_train))\n",
    "\n",
    "new_X_train = X_train[p][:10]\n",
    "new_y_train = y_train[p][:10]\n",
    "\n",
    "\n",
    "#network.train(new_X_train, new_y_train)\n",
    "#network.train_with_pso(new_X_train, np.expand_dims(new_y_train, axis=1), iter_count=100)\n",
    "\n",
    "perf = network.train_with_pso(X_train, y_train)\n",
    "\n",
    "#for (x_batch,y_batch) in tqdm(zip(splitted_X_train,splitted_y_train)):\n",
    "#    perf = network.train_with_pso(x_batch, y_batch)"
   ]
  },
  {
   "cell_type": "code",
   "execution_count": 12,
   "metadata": {},
   "outputs": [
    {
     "data": {
      "text/plain": [
       "[1, 2, 3]"
      ]
     },
     "execution_count": 12,
     "metadata": {},
     "output_type": "execute_result"
    }
   ],
   "source": [
    "a[:-1]"
   ]
  },
  {
   "cell_type": "markdown",
   "metadata": {},
   "source": [
    "# Shallow vs Deep neural networks\n",
    "\n",
    "When training neural networks, we have to come up with a design that fits its intention. Here, we tried to find, given a certain dataset, which architecture was the most ideal."
   ]
  },
  {
   "cell_type": "code",
   "execution_count": 16,
   "metadata": {},
   "outputs": [],
   "source": [
    "DATA_FILES = [\n",
    "    \"data/1in_tanh.txt\",\n",
    "    \"data/1in_linear.txt\",\n",
    "    \"data/1in_cubic.txt\",\n",
    "    \"data/1in_sine.txt\",\n",
    "    \"data/2in_complex.txt\",\n",
    "    \"data/2in_xor.txt\"\n",
    "]\n",
    "def load_dataset(path):\n",
    "    ds = pd.read_csv(path, sep=r\"\\s+\", header=None)\n",
    "    X_train, y_train = ds.iloc[:,:-1].to_numpy(), ds.iloc[:,1].to_numpy()\n",
    "    return X_train, y_train"
   ]
  },
  {
   "cell_type": "code",
   "execution_count": 83,
   "metadata": {
    "scrolled": true
   },
   "outputs": [
    {
     "name": "stdout",
     "output_type": "stream",
     "text": [
      "-----------------------------\n",
      "\tTraining shallow on 1in_tan\n",
      "Best_fitness: 0.2103871019794531\n",
      "Best_fitness: 0.0455906612952442\n",
      "Best_fitness: 0.29271410180362856\n",
      "Best_fitness: 0.18206954732919806\n",
      "Best_fitness: 0.4721164461194058\n",
      "Best_fitness: 0.10384565845561244\n",
      "Best_fitness: 0.24906490769168146\n",
      "Best_fitness: 0.1093259270706779\n",
      "Best_fitness: 0.15032911513211467\n",
      "Best_fitness: 0.2927384913201504\n",
      "Best_fitness: 0.18444690734727281\n",
      "Best_fitness: 0.23764189535827832\n",
      "Best_fitness: 0.40106839593079807\n",
      "Best_fitness: 0.13539688845854153\n",
      "Best_fitness: 0.5143778913755506\n",
      "Best_fitness: 0.39654508876076144\n",
      "Best_fitness: 0.5088323156783991\n",
      "Best_fitness: 0.31362225851409686\n",
      "Best_fitness: 0.3471119185104138\n",
      "Error on test: 0.24356816493468614\n",
      "-----------------------------\n",
      "\tTraining deep on 1in_tan\n",
      "Time: 238.13657689094543\n",
      "Best_fitness: 0.05696864103106072\n",
      "Best_fitness: 0.0094067055204669\n",
      "Best_fitness: 0.046266394632666644\n",
      "Best_fitness: 0.05565470036256337\n",
      "Best_fitness: 0.0669014560737281\n",
      "Best_fitness: 0.010300814410512098\n",
      "Best_fitness: 0.0971976754531481\n",
      "Best_fitness: 0.00502861154157095\n",
      "Best_fitness: 0.07629134261332247\n",
      "Best_fitness: 0.08810631196229533\n",
      "Best_fitness: 0.0012113012050342924\n",
      "Best_fitness: 0.1992277258314462\n",
      "Best_fitness: 0.08811690619073512\n",
      "Best_fitness: 0.007719592663721147\n",
      "Best_fitness: 0.2372287407891191\n",
      "Best_fitness: 0.15831620711875546\n",
      "Best_fitness: 0.07520217809547837\n",
      "Best_fitness: 0.04225055985060826\n",
      "Best_fitness: 0.0117605787923575\n",
      "Error on test: 0.1760324525893639\n",
      "Time: 575.7654454708099\n",
      "-----------------------------\n",
      "\tTraining shallow on 1in_linear\n",
      "Best_fitness: 0.01379277680216586\n",
      "Best_fitness: 0.026897606283788743\n",
      "Best_fitness: 0.002775691583050118\n",
      "Best_fitness: 0.026351923861064424\n",
      "Best_fitness: 0.0062519544451322155\n",
      "Best_fitness: 0.005931711453741795\n",
      "Best_fitness: 0.009092952679115487\n",
      "Best_fitness: 0.009459727826789603\n",
      "Best_fitness: 0.05126892894938706\n",
      "Best_fitness: 0.016703374506937256\n",
      "Best_fitness: 0.02309247299142018\n",
      "Best_fitness: 0.0054357517057380955\n",
      "Best_fitness: 0.004965996076548798\n",
      "Best_fitness: 0.06821138584495345\n",
      "Best_fitness: 0.016569119612737403\n",
      "Best_fitness: 0.01574635007311994\n",
      "Best_fitness: 0.035228312976224904\n",
      "Best_fitness: 0.02791425203971115\n",
      "Best_fitness: 0.04314951018373166\n",
      "Error on test: 0.06685678429008321\n",
      "-----------------------------\n",
      "\tTraining deep on 1in_linear\n",
      "Time: 234.06910943984985\n",
      "Best_fitness: 0.0007951476796170257\n",
      "Best_fitness: 0.00010740125195221939\n",
      "Best_fitness: 0.002866192811995241\n",
      "Best_fitness: 0.0046660507171244385\n",
      "Best_fitness: 0.004172398737073148\n",
      "Best_fitness: 0.010989057337980751\n",
      "Best_fitness: 0.005206355510560672\n",
      "Best_fitness: 0.0002512420976604888\n",
      "Best_fitness: 0.0014436224833703965\n",
      "Best_fitness: 0.029963789015242197\n",
      "Best_fitness: 0.022790191478430918\n",
      "Best_fitness: 0.0027320094034050425\n",
      "Best_fitness: 0.012791984243900595\n",
      "Best_fitness: 0.0025380023783826587\n",
      "Best_fitness: 0.009040922058275625\n",
      "Best_fitness: 0.0006098285567624133\n",
      "Best_fitness: 0.0014131353262170879\n",
      "Best_fitness: 0.012007773846232138\n",
      "Best_fitness: 0.013160967596537187\n",
      "Error on test: 0.017914526699612864\n",
      "Time: 580.9539804458618\n",
      "-----------------------------\n",
      "\tTraining shallow on 1in_cubic\n",
      "Best_fitness: 0.05994273763312855\n",
      "Best_fitness: 0.03769686686135682\n",
      "Best_fitness: 0.003659974043264679\n",
      "Best_fitness: 0.0042906536287749385\n",
      "Best_fitness: 0.019304300519888396\n",
      "Best_fitness: 0.008320923454050234\n",
      "Best_fitness: 0.002289593344609109\n",
      "Best_fitness: 0.034926450314433886\n",
      "Best_fitness: 0.025667708088054058\n",
      "Best_fitness: 0.03157029668448631\n",
      "Best_fitness: 0.014223462444586407\n",
      "Best_fitness: 0.06930623398459587\n",
      "Best_fitness: 0.032896916637860124\n",
      "Best_fitness: 0.01817799137619831\n",
      "Best_fitness: 0.026634870913104756\n",
      "Best_fitness: 0.062416726248778864\n",
      "Best_fitness: 0.035766345627292626\n",
      "Best_fitness: 0.05349271570114654\n",
      "Best_fitness: 0.02380119735112575\n",
      "Error on test: 0.05257504225793043\n",
      "-----------------------------\n",
      "\tTraining deep on 1in_cubic\n",
      "Time: 239.19633984565735\n",
      "Best_fitness: 0.00986126464771138\n",
      "Best_fitness: 0.025493445594853358\n",
      "Best_fitness: 0.022000741145881672\n",
      "Best_fitness: 0.0026627797177136447\n",
      "Best_fitness: 0.00930055653249599\n",
      "Best_fitness: 0.011876223746588425\n",
      "Best_fitness: 0.007617195545714045\n",
      "Best_fitness: 0.013409153996499914\n",
      "Best_fitness: 0.00274016962296888\n",
      "Best_fitness: 0.01807314899136017\n",
      "Best_fitness: 0.0173746550647421\n",
      "Best_fitness: 0.012544402831237412\n",
      "Best_fitness: 0.01715781927191441\n",
      "Best_fitness: 0.02567019959707758\n",
      "Best_fitness: 0.006339644231784661\n",
      "Best_fitness: 0.052562473631155036\n",
      "Best_fitness: 0.016186617652302653\n",
      "Best_fitness: 0.010512858042869097\n",
      "Best_fitness: 0.0181231128289397\n",
      "Error on test: 0.05930116168155726\n",
      "Time: 591.2588489055634\n",
      "-----------------------------\n",
      "\tTraining shallow on 1in_sine\n",
      "Best_fitness: 0.009621172063712897\n",
      "Best_fitness: 0.4718682432447519\n",
      "Best_fitness: 0.22925925836365915\n",
      "Best_fitness: 0.23869986038568142\n",
      "Best_fitness: 0.1870198132387444\n",
      "Best_fitness: 0.21855830054345077\n",
      "Best_fitness: 0.2706317101679554\n",
      "Best_fitness: 0.210513037376296\n",
      "Best_fitness: 0.23744961470751846\n",
      "Best_fitness: 0.2324107334160162\n",
      "Best_fitness: 0.4005645007128904\n",
      "Best_fitness: 0.29543142031715164\n",
      "Best_fitness: 0.210392528870387\n",
      "Best_fitness: 0.42949894272914635\n",
      "Best_fitness: 0.19960887884704653\n",
      "Best_fitness: 0.15937586264583992\n",
      "Best_fitness: 0.36020932273921297\n",
      "Best_fitness: 0.15528591430887723\n",
      "Best_fitness: 0.5049958174311637\n",
      "Error on test: 0.5579309458207481\n",
      "-----------------------------\n",
      "\tTraining deep on 1in_sine\n",
      "Time: 239.03581166267395\n",
      "Best_fitness: 0.030747581947978254\n",
      "Best_fitness: 0.2849183861048166\n",
      "Best_fitness: 0.13372390016952196\n",
      "Best_fitness: 0.03882664461624314\n",
      "Best_fitness: 0.06458471579994296\n",
      "Best_fitness: 0.13801660689857467\n",
      "Best_fitness: 0.032399105957480565\n",
      "Best_fitness: 0.0959141382882856\n",
      "Best_fitness: 0.022546141728304898\n",
      "Best_fitness: 0.08543216604732104\n",
      "Best_fitness: 0.07809674476865411\n",
      "Best_fitness: 0.055420967531863076\n",
      "Best_fitness: 0.18108889659598038\n",
      "Best_fitness: 0.08278623611316976\n",
      "Best_fitness: 0.040603769220746995\n",
      "Best_fitness: 0.1593586841645603\n",
      "Best_fitness: 0.022448313942937233\n",
      "Best_fitness: 0.09087883363469049\n",
      "Best_fitness: 0.1890739452957076\n",
      "Error on test: 0.23484866874234625\n",
      "Time: 582.1644060611725\n",
      "-----------------------------\n",
      "\tTraining shallow on 2in_complex\n",
      "Best_fitness: 0.03045107622509665\n",
      "Best_fitness: 0.039169907694725024\n",
      "Best_fitness: 0.01510439269320887\n",
      "Best_fitness: 0.04060677111251091\n",
      "Best_fitness: 0.13300112628109662\n",
      "Best_fitness: 0.06312259637119658\n",
      "Best_fitness: 0.11357472378373305\n",
      "Best_fitness: 0.07839335044277265\n",
      "Best_fitness: 0.08288314888642942\n",
      "Best_fitness: 0.07948413487471617\n",
      "Best_fitness: 0.015887760754951807\n",
      "Best_fitness: 0.06082927138376186\n",
      "Best_fitness: 0.15818227137158672\n",
      "Best_fitness: 0.12257336176031763\n",
      "Best_fitness: 0.07080507421582419\n",
      "Best_fitness: 0.008848067334071981\n",
      "Best_fitness: 0.131472824614832\n",
      "Best_fitness: 0.017343568467698377\n",
      "Best_fitness: 0.015221433339888507\n",
      "Error on test: 0.17466573440244915\n",
      "-----------------------------\n",
      "\tTraining deep on 2in_complex\n",
      "Time: 241.55433249473572\n",
      "Best_fitness: 0.022149367986553262\n",
      "Best_fitness: 0.05750857446258693\n",
      "Best_fitness: 0.024250619601908403\n",
      "Best_fitness: 0.0324784764661326\n",
      "Best_fitness: 0.014820951211270948\n",
      "Best_fitness: 0.015082398723952983\n",
      "Best_fitness: 0.03261784718114888\n",
      "Best_fitness: 0.13223438701578122\n",
      "Best_fitness: 0.04357470860553355\n",
      "Best_fitness: 0.062426549183656255\n",
      "Best_fitness: 0.006651992611985136\n",
      "Best_fitness: 0.00695195196005983\n",
      "Best_fitness: 0.02722582639150555\n",
      "Best_fitness: 0.04456070523450645\n",
      "Best_fitness: 0.0457776161298525\n",
      "Best_fitness: 0.017447015773551264\n",
      "Best_fitness: 0.022167229763411088\n",
      "Best_fitness: 0.09771682582814294\n",
      "Best_fitness: 0.009426666916058483\n",
      "Error on test: 0.18706985714846866\n",
      "Time: 591.2960805892944\n",
      "-----------------------------\n",
      "\tTraining shallow on 2in_xor\n",
      "Best_fitness: 0.025564105051648058\n",
      "Best_fitness: 0.00116095750475327\n",
      "Best_fitness: 0.09259559701879501\n",
      "Best_fitness: 0.04389322148717691\n",
      "Best_fitness: 0.000195514398332375\n",
      "Best_fitness: 0.030979922265370156\n",
      "Best_fitness: 0.10080515901761791\n",
      "Best_fitness: 0.07468936060583306\n",
      "Best_fitness: 0.038122143537781386\n",
      "Best_fitness: 0.10690244370693905\n",
      "Best_fitness: 0.07947894017927706\n",
      "Best_fitness: 0.04063876136529106\n"
     ]
    },
    {
     "name": "stdout",
     "output_type": "stream",
     "text": [
      "Best_fitness: 0.06411074635501066\n",
      "Best_fitness: 0.00025126741317806317\n",
      "Best_fitness: 0.07836699410592918\n",
      "Best_fitness: 0.00021945374869083593\n",
      "Best_fitness: 0.04373131947805849\n",
      "Best_fitness: 0.12386312761792473\n",
      "Best_fitness: 0.15222889150010802\n",
      "Error on test: 0.11562780091810754\n",
      "-----------------------------\n",
      "\tTraining deep on 2in_xor\n",
      "Time: 247.64712953567505\n",
      "Best_fitness: 6.798917397277762e-05\n",
      "Best_fitness: 5.744546015961237e-05\n",
      "Best_fitness: 0.05069628041923681\n",
      "Best_fitness: 0.09887257288325282\n",
      "Best_fitness: 1.2753262957985491e-05\n",
      "Best_fitness: 0.004435070956000231\n",
      "Best_fitness: 0.056777631008383546\n",
      "Best_fitness: 0.05604298359174935\n",
      "Best_fitness: 1.8229327749940385e-05\n",
      "Best_fitness: 0.031229293203202134\n",
      "Best_fitness: 0.00017695738730108318\n",
      "Best_fitness: 0.09088703790752355\n",
      "Best_fitness: 0.05964144003691372\n",
      "Best_fitness: 8.113910475508333e-06\n",
      "Best_fitness: 0.09217590958246799\n",
      "Best_fitness: 4.51585884149932e-05\n",
      "Best_fitness: 0.10304915837567677\n",
      "Best_fitness: 7.778583158472289e-07\n",
      "Best_fitness: 0.0032868439300126505\n",
      "Error on test: 0.1092946313206294\n",
      "Time: 600.1404643058777\n"
     ]
    }
   ],
   "source": [
    "result_networks_n = {\n",
    "    \"1in_tan\":{},\n",
    "    \"1in_linear\":{},\n",
    "    \"1in_cubic\":{},\n",
    "    \"1in_sine\":{},\n",
    "    \"2in_complex\":{},\n",
    "    \"2in_xor\":{}\n",
    "}\n",
    "\n",
    "#batch:20,swarm:100,iter:10\n",
    "for i, dataset in enumerate(result_networks_n.keys()):\n",
    "    #Loading the dataset\n",
    "    X_train, y_train = load_dataset(DATA_FILES[i])\n",
    "    splitted_X_train, splitted_y_train, X_test, y_test = shuffle_and_split(X_train, y_train, batch_size=20)\n",
    "    \n",
    "    # First, creating a shallow network\n",
    "    shallow = Network(error=\"l2\")\n",
    "    shallow.addLayer(1, inputSize=eval(dataset[0]), activation=\"tanh\")\n",
    "    print('-----------------------------')\n",
    "    print(f\"\\tTraining shallow on {dataset}\")\n",
    "    \n",
    "    start_shallow = time.time()\n",
    "    shallow_train_perfs = []\n",
    "    for (x_batch,y_batch) in zip(splitted_X_train,splitted_y_train):\n",
    "        perf = shallow.train_with_pso(x_batch, y_batch)\n",
    "        shallow_train_perfs.append(perf)\n",
    "        \n",
    "    shallow_test = shallow.test(X_test, y_test)\n",
    "    print(f\"Error on test: {shallow_test}\")\n",
    "    end_shallow = time.time()\n",
    "        \n",
    "    print(f\"Time: {end_shallow - start_shallow}\")\n",
    "    \n",
    "    start_deep = time.time()\n",
    "    # Then, creating a deep network\n",
    "    deep = Network(error=\"l2\")\n",
    "    deep.addLayer(3, inputSize=eval(dataset[0]), activation=\"tanh\")\n",
    "    deep.addLayer(3, activation=\"tanh\")\n",
    "    deep.addLayer(1, activation=\"tanh\")\n",
    "    print('-----------------------------')\n",
    "    print(f\"\\tTraining deep on {dataset}\")\n",
    "    \n",
    "    deep_train_perfs = []\n",
    "    for (x_batch,y_batch) in zip(splitted_X_train,splitted_y_train):\n",
    "        perf = deep.train_with_pso(x_batch, y_batch)\n",
    "        deep_train_perfs.append(perf)\n",
    "        \n",
    "    deep_test = deep.test(X_test, y_test)\n",
    "    print(f\"Error on test: {deep_test}\")\n",
    "    end_deep = time.time()\n",
    "    \n",
    "    print(f\"Time: {end_deep - start_deep}\")\n",
    "    \n",
    "    result_networks_n[dataset][\"shallow\"] = {\n",
    "        \"model\": shallow,\n",
    "        \"train_perfs\": shallow_train_perfs,\n",
    "        \"test_perfs\": shallow_test,\n",
    "        \"exec_time\": end_shallow - start_shallow\n",
    "    }\n",
    "    \n",
    "    result_networks_n[dataset][\"deep\"] = {\n",
    "        \"model\": deep,\n",
    "        \"train_perfs\": deep_train_perfs,\n",
    "        \"test_perfs\": deep_test,\n",
    "        \"exec_time\": end_deep - start_deep\n",
    "    }\n",
    "    \n",
    "    "
   ]
  },
  {
   "cell_type": "code",
   "execution_count": 84,
   "metadata": {},
   "outputs": [
    {
     "name": "stdout",
     "output_type": "stream",
     "text": [
      "For dataset '1in_tan':\n",
      "\tSHALLOW\n",
      "Test perfs: 0.38824816006610957\n",
      "Exec time: -0.0007770000001983135\n",
      "\tDEEP\n",
      "Test perfs: 0.29896031900950215\n",
      "Exec time: -0.00015849999954298255\n",
      " -----------------\n",
      "\n",
      "For dataset '1in_linear':\n",
      "\tSHALLOW\n",
      "Test perfs: 0.011827324932823966\n",
      "Exec time: -0.0019315000008646166\n",
      "\tDEEP\n",
      "Test perfs: 0.011349200814112427\n",
      "Exec time: 5.539999983739108e-05\n",
      " -----------------\n",
      "\n",
      "For dataset '1in_cubic':\n",
      "\tSHALLOW\n",
      "Test perfs: 0.006408835749083383\n",
      "Exec time: 0.0024451999997836538\n",
      "\tDEEP\n",
      "Test perfs: 0.028563092705184194\n",
      "Exec time: 0.00017110000044340268\n",
      " -----------------\n",
      "\n",
      "For dataset '1in_sine':\n",
      "\tSHALLOW\n",
      "Test perfs: 0.04884908371852646\n",
      "Exec time: -1.1699999959091656e-05\n",
      "\tDEEP\n",
      "Test perfs: 0.09984686398727441\n",
      "Exec time: -2.0899999071843922e-05\n",
      " -----------------\n",
      "\n",
      "For dataset '2in_complex':\n",
      "\tSHALLOW\n",
      "Test perfs: 0.06502299035036482\n",
      "Exec time: -0.0009059999993041856\n",
      "\tDEEP\n",
      "Test perfs: 0.21276196445915163\n",
      "Exec time: 0.00012910000077681616\n",
      " -----------------\n",
      "\n",
      "For dataset '2in_xor':\n",
      "\tSHALLOW\n",
      "Test perfs: 0.1967307115016586\n",
      "Exec time: -0.0006847000004199799\n",
      "\tDEEP\n",
      "Test perfs: 0.3854679761595824\n",
      "Exec time: 0.0030791999997745734\n",
      " -----------------\n",
      "\n"
     ]
    }
   ],
   "source": [
    "for i, dataset in enumerate(result_networks.keys()):\n",
    "    print(f\"For dataset '{dataset}':\")\n",
    "    print(\"\\tSHALLOW\")\n",
    "    print(f\"Test perfs: {result_networks[dataset]['shallow']['test_perfs']}\")\n",
    "    print(f\"Exec time: {result_networks[dataset]['shallow']['exec_time']}\")\n",
    "          \n",
    "    print(\"\\tDEEP\")\n",
    "    print(f\"Test perfs: {result_networks[dataset]['deep']['test_perfs']}\")\n",
    "    print(f\"Exec time: {result_networks[dataset]['deep']['exec_time']}\")\n",
    "    print(\"\",\"-----------------\\n\")"
   ]
  },
  {
   "cell_type": "code",
   "execution_count": 79,
   "metadata": {},
   "outputs": [],
   "source": [
    "X_train, y_train = load_dataset(\"data/2in_xor.txt\")\n",
    "\n",
    "y_pred = result_networks[\"2in_xor\"][\"shallow\"][\"model\"].predict(X_train)"
   ]
  },
  {
   "cell_type": "code",
   "execution_count": 80,
   "metadata": {},
   "outputs": [
    {
     "data": {
      "text/plain": [
       "0.1307838517765549"
      ]
     },
     "execution_count": 80,
     "metadata": {},
     "output_type": "execute_result"
    }
   ],
   "source": [
    "np.square(y_train-np.array(y_pred)).mean()"
   ]
  },
  {
   "cell_type": "markdown",
   "metadata": {},
   "source": [
    "## Trying to improve Deep architecture training by tuning PSO parameters such as swarm size and iterations\n",
    "\n",
    "Giving PSO the right tools for it to reach better convergence is the reason that motivates these investigations ! "
   ]
  },
  {
   "cell_type": "code",
   "execution_count": null,
   "metadata": {
    "scrolled": true
   },
   "outputs": [
    {
     "name": "stdout",
     "output_type": "stream",
     "text": [
      "-----------------------------\n",
      "\tTraining shallow on 1in_tan\n",
      "Best_fitness: 0.36891633677912133\n",
      "Best_fitness: 0.12000245007772414\n",
      "Best_fitness: 2.8328908257249755e-05\n",
      "Best_fitness: 0.0817705455604457\n",
      "Best_fitness: 0.5686625791755207\n",
      "Best_fitness: 0.5341732491910387\n",
      "Best_fitness: 0.36738097802905334\n",
      "Best_fitness: 0.20430529522477373\n",
      "Best_fitness: 0.2785488108431602\n",
      "Best_fitness: 0.3874664079920215\n",
      "Best_fitness: 0.0004833183263129269\n",
      "Best_fitness: 0.3493640531385038\n",
      "Best_fitness: 0.12674348921277398\n",
      "Best_fitness: 0.20045381899087994\n"
     ]
    }
   ],
   "source": [
    "result_networks_custom = {\n",
    "    \"1in_tan\":{},\n",
    "    \"1in_linear\":{},\n",
    "    \"1in_cubic\":{},\n",
    "    \"1in_sine\":{},\n",
    "    \"2in_complex\":{},\n",
    "    \"2in_xor\":{}\n",
    "}\n",
    "\n",
    "#batch:50,swarm:100,iter:100\n",
    "for i, dataset in enumerate(result_networks_n.keys()):\n",
    "    #Loading the dataset\n",
    "    X_train, y_train = load_dataset(DATA_FILES[i])\n",
    "    splitted_X_train, splitted_y_train, X_test, y_test = shuffle_and_split(X_train, y_train, batch_size=50)\n",
    "    \n",
    "    # First, creating a shallow network\n",
    "    shallow = Network(error=\"l2\")\n",
    "    shallow.addLayer(1, inputSize=eval(dataset[0]), activation=\"tanh\")\n",
    "    print('-----------------------------')\n",
    "    print(f\"\\tTraining shallow on {dataset}\")\n",
    "    \n",
    "    start_shallow = time.time()\n",
    "    shallow_train_perfs = []\n",
    "    for (x_batch,y_batch) in zip(splitted_X_train,splitted_y_train):\n",
    "        perf = shallow.train_with_pso(x_batch, y_batch, iter_count=100)\n",
    "        shallow_train_perfs.append(perf)\n",
    "        \n",
    "    shallow_test = shallow.test(X_test, y_test)\n",
    "    print(f\"Error on test: {shallow_test}\")\n",
    "    end_shallow = time.time()\n",
    "    \n",
    "    start_deep = time.time()\n",
    "    # Then, creating a deep network\n",
    "    deep = Network(error=\"l2\")\n",
    "    deep.addLayer(3, inputSize=eval(dataset[0]), activation=\"tanh\")\n",
    "    deep.addLayer(3, activation=\"tanh\")\n",
    "    deep.addLayer(1, activation=\"tanh\")\n",
    "    print('-----------------------------')\n",
    "    print(f\"\\tTraining deep on {dataset}\")\n",
    "        \n",
    "    print(f\"Time: {end_shallow - start_shallow}\")\n",
    "    \n",
    "    deep_train_perfs = []\n",
    "    for (x_batch,y_batch) in zip(splitted_X_train,splitted_y_train):\n",
    "        perf = deep.train_with_pso(x_batch, y_batch)\n",
    "        deep_train_perfs.append(perf)\n",
    "        \n",
    "    deep_test = deep.test(X_test, y_test)\n",
    "    print(f\"Error on test: {deep_test}\")\n",
    "    end_deep = time.time()\n",
    "    \n",
    "    print(f\"Time: {end_deep - start_deep}\")\n",
    "    \n",
    "    result_networks_custom[dataset][\"shallow\"] = {\n",
    "        \"model\": shallow,\n",
    "        \"train_perfs\": shallow_train_perfs,\n",
    "        \"test_perfs\": shallow_test,\n",
    "        \"exec_time\": end_shallow - start_shallow\n",
    "    }\n",
    "    \n",
    "    result_networks_custom[dataset][\"deep\"] = {\n",
    "        \"model\": deep,\n",
    "        \"train_perfs\": deep_train_perfs,\n",
    "        \"test_perfs\": deep_test,\n",
    "        \"exec_time\": end_deep - start_deep\n",
    "    }\n",
    "    \n",
    "    "
   ]
  },
  {
   "cell_type": "code",
   "execution_count": null,
   "metadata": {},
   "outputs": [],
   "source": [
    "for i, dataset in enumerate(result_networks.keys()):\n",
    "    print(f\"For dataset '{dataset}':\")\n",
    "    print(\"\\tSHALLOW\")\n",
    "    print(f\"Test perfs: {result_networks_custom[dataset]['shallow']['test_perfs']}\")\n",
    "    print(f\"Exec time: {result_networks_custom[dataset]['shallow']['exec_time']}\")\n",
    "          \n",
    "    print(\"\\tDEEP\")\n",
    "    print(f\"Test perfs: {result_networks_custom[dataset]['deep']['test_perfs']}\")\n",
    "    print(f\"Exec time: {result_networks_custom[dataset]['deep']['exec_time']}\")\n",
    "    print(\"\",\"-----------------\\n\")"
   ]
  },
  {
   "cell_type": "code",
   "execution_count": null,
   "metadata": {},
   "outputs": [],
   "source": []
  },
  {
   "cell_type": "code",
   "execution_count": 3,
   "metadata": {},
   "outputs": [],
   "source": [
    "net1 = Network(error=\"l2\")\n",
    "net1.addLayer(1, inputSize=1, activation=\"identity\")\n",
    "\n",
    "net2 = Network(error=\"l2\")\n",
    "net2.addLayer(1, inputSize=1, activation=\"identity\")\n",
    "\n",
    "net3 = Network(error=\"l2\")\n",
    "net3.addLayer(3, inputSize=1, activation=\"identity\")\n",
    "net3.addLayer(1, activation=\"identity\")\n",
    "\n",
    "net4 = Network(error=\"l2\")\n",
    "net4.addLayer(3, inputSize=1, activation=\"identity\")\n",
    "net4.addLayer(1, inputSize=1, activation=\"identity\")\n",
    "\n",
    "nets = [net1,net2,net3,net4]"
   ]
  },
  {
   "cell_type": "code",
   "execution_count": 4,
   "metadata": {},
   "outputs": [],
   "source": [
    "datasets = [\n",
    "    pd.read_csv(filename, sep=r\"\\s+\", header=None) for filename in ONE_IN_FILES\n",
    "]"
   ]
  },
  {
   "cell_type": "code",
   "execution_count": 5,
   "metadata": {},
   "outputs": [
    {
     "name": "stderr",
     "output_type": "stream",
     "text": [
      "0it [00:00, ?it/s]\n",
      "0it [00:00, ?it/s]"
     ]
    },
    {
     "name": "stdout",
     "output_type": "stream",
     "text": [
      "Best_fitness: [0.29270773]\n"
     ]
    },
    {
     "name": "stderr",
     "output_type": "stream",
     "text": [
      "\n",
      "1it [00:13, 13.46s/it]"
     ]
    },
    {
     "name": "stdout",
     "output_type": "stream",
     "text": [
      "Best_fitness: [0.37899608]\n"
     ]
    },
    {
     "name": "stderr",
     "output_type": "stream",
     "text": [
      "\n",
      "2it [00:25, 12.90s/it]"
     ]
    },
    {
     "name": "stdout",
     "output_type": "stream",
     "text": [
      "Best_fitness: [0.06063335]\n"
     ]
    },
    {
     "name": "stderr",
     "output_type": "stream",
     "text": [
      "\n",
      "3it [00:36, 12.52s/it]"
     ]
    },
    {
     "name": "stdout",
     "output_type": "stream",
     "text": [
      "Best_fitness: [0.28623992]\n"
     ]
    },
    {
     "name": "stderr",
     "output_type": "stream",
     "text": [
      "\n",
      "4it [00:48, 12.25s/it]"
     ]
    },
    {
     "name": "stdout",
     "output_type": "stream",
     "text": [
      "Best_fitness: [0.43215229]\n"
     ]
    },
    {
     "name": "stderr",
     "output_type": "stream",
     "text": [
      "\n",
      "5it [00:59, 12.03s/it]"
     ]
    },
    {
     "name": "stdout",
     "output_type": "stream",
     "text": [
      "Best_fitness: [0.28004295]\n"
     ]
    },
    {
     "name": "stderr",
     "output_type": "stream",
     "text": [
      "\n",
      "6it [01:11, 11.85s/it]"
     ]
    },
    {
     "name": "stdout",
     "output_type": "stream",
     "text": [
      "Best_fitness: [0.13964254]\n"
     ]
    },
    {
     "name": "stderr",
     "output_type": "stream",
     "text": [
      "\n",
      "7it [01:22, 11.78s/it]"
     ]
    },
    {
     "name": "stdout",
     "output_type": "stream",
     "text": [
      "Best_fitness: [0.06264018]\n"
     ]
    },
    {
     "name": "stderr",
     "output_type": "stream",
     "text": [
      "\n",
      "8it [01:33, 11.55s/it]"
     ]
    },
    {
     "name": "stdout",
     "output_type": "stream",
     "text": [
      "Best_fitness: [0.48994543]\n"
     ]
    },
    {
     "name": "stderr",
     "output_type": "stream",
     "text": [
      "\n",
      "9it [01:45, 11.56s/it]"
     ]
    },
    {
     "name": "stdout",
     "output_type": "stream",
     "text": [
      "Best_fitness: [0.29658752]\n"
     ]
    },
    {
     "name": "stderr",
     "output_type": "stream",
     "text": [
      "\n",
      "10it [01:56, 11.52s/it]"
     ]
    },
    {
     "name": "stdout",
     "output_type": "stream",
     "text": [
      "Best_fitness: [0.29135317]\n"
     ]
    },
    {
     "name": "stderr",
     "output_type": "stream",
     "text": [
      "\n",
      "11it [02:08, 11.54s/it]"
     ]
    },
    {
     "name": "stdout",
     "output_type": "stream",
     "text": [
      "Best_fitness: [0.20811774]\n"
     ]
    },
    {
     "name": "stderr",
     "output_type": "stream",
     "text": [
      "\n",
      "12it [02:19, 11.52s/it]"
     ]
    },
    {
     "name": "stdout",
     "output_type": "stream",
     "text": [
      "Best_fitness: [0.23540096]\n"
     ]
    },
    {
     "name": "stderr",
     "output_type": "stream",
     "text": [
      "\n",
      "13it [02:31, 11.64s/it]"
     ]
    },
    {
     "name": "stdout",
     "output_type": "stream",
     "text": [
      "Best_fitness: [0.08910484]\n"
     ]
    },
    {
     "name": "stderr",
     "output_type": "stream",
     "text": [
      "\n",
      "14it [02:43, 11.60s/it]"
     ]
    },
    {
     "name": "stdout",
     "output_type": "stream",
     "text": [
      "Best_fitness: [0.21450892]\n"
     ]
    },
    {
     "name": "stderr",
     "output_type": "stream",
     "text": [
      "\n",
      "15it [02:54, 11.59s/it]"
     ]
    },
    {
     "name": "stdout",
     "output_type": "stream",
     "text": [
      "Best_fitness: [0.28549904]\n"
     ]
    },
    {
     "name": "stderr",
     "output_type": "stream",
     "text": [
      "\n",
      "16it [03:06, 11.60s/it]"
     ]
    },
    {
     "name": "stdout",
     "output_type": "stream",
     "text": [
      "Best_fitness: [0.28131095]\n"
     ]
    },
    {
     "name": "stderr",
     "output_type": "stream",
     "text": [
      "\n",
      "17it [03:18, 11.61s/it]"
     ]
    },
    {
     "name": "stdout",
     "output_type": "stream",
     "text": [
      "Best_fitness: [0.09039751]\n"
     ]
    },
    {
     "name": "stderr",
     "output_type": "stream",
     "text": [
      "\n",
      "18it [03:29, 11.59s/it]"
     ]
    },
    {
     "name": "stdout",
     "output_type": "stream",
     "text": [
      "Best_fitness: [0.27041463]\n"
     ]
    },
    {
     "name": "stderr",
     "output_type": "stream",
     "text": [
      "\n",
      "19it [03:41, 11.62s/it]"
     ]
    },
    {
     "name": "stdout",
     "output_type": "stream",
     "text": [
      "Best_fitness: [0.07490406]\n"
     ]
    },
    {
     "name": "stderr",
     "output_type": "stream",
     "text": [
      "\n",
      "20it [03:53, 11.65s/it]\n",
      "1it [03:53, 233.02s/it]\n",
      "0it [00:00, ?it/s]"
     ]
    },
    {
     "name": "stdout",
     "output_type": "stream",
     "text": [
      "Best_fitness: [0.00956438]\n"
     ]
    },
    {
     "name": "stderr",
     "output_type": "stream",
     "text": [
      "\n",
      "1it [00:11, 11.47s/it]"
     ]
    },
    {
     "name": "stdout",
     "output_type": "stream",
     "text": [
      "Best_fitness: [0.01735878]\n"
     ]
    },
    {
     "name": "stderr",
     "output_type": "stream",
     "text": [
      "\n",
      "2it [00:22, 11.48s/it]"
     ]
    },
    {
     "name": "stdout",
     "output_type": "stream",
     "text": [
      "Best_fitness: [0.00220153]\n"
     ]
    },
    {
     "name": "stderr",
     "output_type": "stream",
     "text": [
      "\n",
      "3it [00:34, 11.50s/it]"
     ]
    },
    {
     "name": "stdout",
     "output_type": "stream",
     "text": [
      "Best_fitness: [0.02444673]\n"
     ]
    },
    {
     "name": "stderr",
     "output_type": "stream",
     "text": [
      "\n",
      "4it [00:46, 11.50s/it]"
     ]
    },
    {
     "name": "stdout",
     "output_type": "stream",
     "text": [
      "Best_fitness: [0.03406506]\n"
     ]
    },
    {
     "name": "stderr",
     "output_type": "stream",
     "text": [
      "\n",
      "5it [00:57, 11.50s/it]"
     ]
    },
    {
     "name": "stdout",
     "output_type": "stream",
     "text": [
      "Best_fitness: [0.01524029]\n"
     ]
    },
    {
     "name": "stderr",
     "output_type": "stream",
     "text": [
      "\n",
      "6it [01:09, 11.53s/it]"
     ]
    },
    {
     "name": "stdout",
     "output_type": "stream",
     "text": [
      "Best_fitness: [0.00129518]\n"
     ]
    },
    {
     "name": "stderr",
     "output_type": "stream",
     "text": [
      "\n",
      "7it [01:20, 11.58s/it]"
     ]
    },
    {
     "name": "stdout",
     "output_type": "stream",
     "text": [
      "Best_fitness: [0.01781979]\n"
     ]
    },
    {
     "name": "stderr",
     "output_type": "stream",
     "text": [
      "\n",
      "8it [01:32, 11.56s/it]"
     ]
    },
    {
     "name": "stdout",
     "output_type": "stream",
     "text": [
      "Best_fitness: [0.01902595]\n"
     ]
    },
    {
     "name": "stderr",
     "output_type": "stream",
     "text": [
      "\n",
      "9it [01:43, 11.58s/it]"
     ]
    },
    {
     "name": "stdout",
     "output_type": "stream",
     "text": [
      "Best_fitness: [0.06455049]\n"
     ]
    },
    {
     "name": "stderr",
     "output_type": "stream",
     "text": [
      "\n",
      "10it [01:55, 11.60s/it]"
     ]
    },
    {
     "name": "stdout",
     "output_type": "stream",
     "text": [
      "Best_fitness: [0.00801392]\n"
     ]
    },
    {
     "name": "stderr",
     "output_type": "stream",
     "text": [
      "\n",
      "11it [02:07, 11.57s/it]"
     ]
    },
    {
     "name": "stdout",
     "output_type": "stream",
     "text": [
      "Best_fitness: [0.02014661]\n"
     ]
    },
    {
     "name": "stderr",
     "output_type": "stream",
     "text": [
      "\n",
      "12it [02:18, 11.54s/it]"
     ]
    },
    {
     "name": "stdout",
     "output_type": "stream",
     "text": [
      "Best_fitness: [0.05954071]\n"
     ]
    },
    {
     "name": "stderr",
     "output_type": "stream",
     "text": [
      "\n",
      "13it [02:30, 11.57s/it]"
     ]
    },
    {
     "name": "stdout",
     "output_type": "stream",
     "text": [
      "Best_fitness: [0.01056806]\n"
     ]
    },
    {
     "name": "stderr",
     "output_type": "stream",
     "text": [
      "\n",
      "14it [02:41, 11.58s/it]"
     ]
    },
    {
     "name": "stdout",
     "output_type": "stream",
     "text": [
      "Best_fitness: [0.0006427]\n"
     ]
    },
    {
     "name": "stderr",
     "output_type": "stream",
     "text": [
      "\n",
      "15it [02:53, 11.56s/it]"
     ]
    },
    {
     "name": "stdout",
     "output_type": "stream",
     "text": [
      "Best_fitness: [0.01383103]\n"
     ]
    },
    {
     "name": "stderr",
     "output_type": "stream",
     "text": [
      "\n",
      "16it [03:04, 11.52s/it]"
     ]
    },
    {
     "name": "stdout",
     "output_type": "stream",
     "text": [
      "Best_fitness: [0.00759113]\n"
     ]
    },
    {
     "name": "stderr",
     "output_type": "stream",
     "text": [
      "\n",
      "17it [03:15, 11.41s/it]"
     ]
    },
    {
     "name": "stdout",
     "output_type": "stream",
     "text": [
      "Best_fitness: [0.02591851]\n"
     ]
    },
    {
     "name": "stderr",
     "output_type": "stream",
     "text": [
      "\n",
      "18it [03:27, 11.45s/it]"
     ]
    },
    {
     "name": "stdout",
     "output_type": "stream",
     "text": [
      "Best_fitness: [0.01067756]\n"
     ]
    },
    {
     "name": "stderr",
     "output_type": "stream",
     "text": [
      "\n",
      "19it [03:39, 11.49s/it]"
     ]
    },
    {
     "name": "stdout",
     "output_type": "stream",
     "text": [
      "Best_fitness: [0.00074737]\n"
     ]
    },
    {
     "name": "stderr",
     "output_type": "stream",
     "text": [
      "\n",
      "20it [03:50, 11.53s/it]\n",
      "2it [07:43, 232.28s/it]\n",
      "0it [00:00, ?it/s]"
     ]
    },
    {
     "name": "stdout",
     "output_type": "stream",
     "text": [
      "Best_fitness: [0.0017297]\n"
     ]
    },
    {
     "name": "stderr",
     "output_type": "stream",
     "text": [
      "\n",
      "1it [00:22, 22.97s/it]"
     ]
    },
    {
     "name": "stdout",
     "output_type": "stream",
     "text": [
      "Best_fitness: [0.00658267]\n"
     ]
    },
    {
     "name": "stderr",
     "output_type": "stream",
     "text": [
      "\n",
      "2it [00:43, 22.12s/it]"
     ]
    },
    {
     "name": "stdout",
     "output_type": "stream",
     "text": [
      "Best_fitness: [0.03481558]\n"
     ]
    },
    {
     "name": "stderr",
     "output_type": "stream",
     "text": [
      "\n",
      "3it [01:04, 22.01s/it]"
     ]
    },
    {
     "name": "stdout",
     "output_type": "stream",
     "text": [
      "Best_fitness: [0.01581079]\n"
     ]
    },
    {
     "name": "stderr",
     "output_type": "stream",
     "text": [
      "\n",
      "4it [01:25, 21.62s/it]"
     ]
    },
    {
     "name": "stdout",
     "output_type": "stream",
     "text": [
      "Best_fitness: [0.02516403]\n"
     ]
    },
    {
     "name": "stderr",
     "output_type": "stream",
     "text": [
      "\n",
      "5it [01:45, 21.22s/it]"
     ]
    },
    {
     "name": "stdout",
     "output_type": "stream",
     "text": [
      "Best_fitness: [0.04475842]\n"
     ]
    },
    {
     "name": "stderr",
     "output_type": "stream",
     "text": [
      "\n",
      "6it [02:06, 21.05s/it]"
     ]
    },
    {
     "name": "stdout",
     "output_type": "stream",
     "text": [
      "Best_fitness: [7.95526046e-05]\n"
     ]
    },
    {
     "name": "stderr",
     "output_type": "stream",
     "text": [
      "\n",
      "7it [02:26, 20.83s/it]"
     ]
    },
    {
     "name": "stdout",
     "output_type": "stream",
     "text": [
      "Best_fitness: [0.01070514]\n"
     ]
    },
    {
     "name": "stderr",
     "output_type": "stream",
     "text": [
      "\n",
      "8it [02:46, 20.63s/it]"
     ]
    },
    {
     "name": "stdout",
     "output_type": "stream",
     "text": [
      "Best_fitness: [0.03093098]\n"
     ]
    },
    {
     "name": "stderr",
     "output_type": "stream",
     "text": [
      "\n",
      "9it [03:07, 20.55s/it]"
     ]
    },
    {
     "name": "stdout",
     "output_type": "stream",
     "text": [
      "Best_fitness: [0.00560983]\n"
     ]
    },
    {
     "name": "stderr",
     "output_type": "stream",
     "text": [
      "\n",
      "10it [03:27, 20.36s/it]"
     ]
    },
    {
     "name": "stdout",
     "output_type": "stream",
     "text": [
      "Best_fitness: [0.05351157]\n"
     ]
    },
    {
     "name": "stderr",
     "output_type": "stream",
     "text": [
      "\n",
      "11it [03:47, 20.18s/it]"
     ]
    },
    {
     "name": "stdout",
     "output_type": "stream",
     "text": [
      "Best_fitness: [0.00309229]\n"
     ]
    },
    {
     "name": "stderr",
     "output_type": "stream",
     "text": [
      "\n",
      "12it [04:07, 20.37s/it]"
     ]
    },
    {
     "name": "stdout",
     "output_type": "stream",
     "text": [
      "Best_fitness: [0.0051868]\n"
     ]
    },
    {
     "name": "stderr",
     "output_type": "stream",
     "text": [
      "\n",
      "13it [04:28, 20.36s/it]"
     ]
    },
    {
     "name": "stdout",
     "output_type": "stream",
     "text": [
      "Best_fitness: [0.00768207]\n"
     ]
    },
    {
     "name": "stderr",
     "output_type": "stream",
     "text": [
      "\n",
      "14it [04:48, 20.21s/it]"
     ]
    },
    {
     "name": "stdout",
     "output_type": "stream",
     "text": [
      "Best_fitness: [0.02576958]\n"
     ]
    },
    {
     "name": "stderr",
     "output_type": "stream",
     "text": [
      "\n",
      "15it [05:07, 20.10s/it]"
     ]
    },
    {
     "name": "stdout",
     "output_type": "stream",
     "text": [
      "Best_fitness: [0.01503224]\n"
     ]
    },
    {
     "name": "stderr",
     "output_type": "stream",
     "text": [
      "\n",
      "16it [05:27, 20.04s/it]"
     ]
    },
    {
     "name": "stdout",
     "output_type": "stream",
     "text": [
      "Best_fitness: [0.02103239]\n"
     ]
    },
    {
     "name": "stderr",
     "output_type": "stream",
     "text": [
      "\n",
      "17it [05:48, 20.13s/it]"
     ]
    },
    {
     "name": "stdout",
     "output_type": "stream",
     "text": [
      "Best_fitness: [0.01710646]\n"
     ]
    },
    {
     "name": "stderr",
     "output_type": "stream",
     "text": [
      "\n",
      "18it [06:08, 20.22s/it]"
     ]
    },
    {
     "name": "stdout",
     "output_type": "stream",
     "text": [
      "Best_fitness: [0.06366005]\n"
     ]
    },
    {
     "name": "stderr",
     "output_type": "stream",
     "text": [
      "\n",
      "19it [06:28, 20.16s/it]"
     ]
    },
    {
     "name": "stdout",
     "output_type": "stream",
     "text": [
      "Best_fitness: [0.03101544]\n"
     ]
    },
    {
     "name": "stderr",
     "output_type": "stream",
     "text": [
      "\n",
      "20it [06:48, 20.44s/it]\n",
      "3it [14:32, 285.22s/it]\n",
      "0it [00:00, ?it/s]"
     ]
    },
    {
     "name": "stdout",
     "output_type": "stream",
     "text": [
      "Best_fitness: [0.03083033]\n"
     ]
    },
    {
     "name": "stderr",
     "output_type": "stream",
     "text": [
      "\n",
      "1it [00:19, 19.53s/it]"
     ]
    },
    {
     "name": "stdout",
     "output_type": "stream",
     "text": [
      "Best_fitness: [0.11080563]\n"
     ]
    },
    {
     "name": "stderr",
     "output_type": "stream",
     "text": [
      "\n",
      "2it [00:39, 19.58s/it]"
     ]
    },
    {
     "name": "stdout",
     "output_type": "stream",
     "text": [
      "Best_fitness: [0.12591114]\n"
     ]
    },
    {
     "name": "stderr",
     "output_type": "stream",
     "text": [
      "\n",
      "3it [00:58, 19.57s/it]"
     ]
    },
    {
     "name": "stdout",
     "output_type": "stream",
     "text": [
      "Best_fitness: [0.00479069]\n"
     ]
    },
    {
     "name": "stderr",
     "output_type": "stream",
     "text": [
      "\n",
      "4it [01:18, 19.54s/it]"
     ]
    },
    {
     "name": "stdout",
     "output_type": "stream",
     "text": [
      "Best_fitness: [0.03644216]\n"
     ]
    },
    {
     "name": "stderr",
     "output_type": "stream",
     "text": [
      "\n",
      "5it [01:37, 19.55s/it]"
     ]
    },
    {
     "name": "stdout",
     "output_type": "stream",
     "text": [
      "Best_fitness: [0.13262767]\n"
     ]
    },
    {
     "name": "stderr",
     "output_type": "stream",
     "text": [
      "\n",
      "6it [01:57, 19.60s/it]"
     ]
    },
    {
     "name": "stdout",
     "output_type": "stream",
     "text": [
      "Best_fitness: [0.18191122]\n"
     ]
    },
    {
     "name": "stderr",
     "output_type": "stream",
     "text": [
      "\n",
      "7it [02:17, 19.62s/it]"
     ]
    },
    {
     "name": "stdout",
     "output_type": "stream",
     "text": [
      "Best_fitness: [0.13108005]\n"
     ]
    },
    {
     "name": "stderr",
     "output_type": "stream",
     "text": [
      "\n",
      "8it [02:37, 19.70s/it]"
     ]
    },
    {
     "name": "stdout",
     "output_type": "stream",
     "text": [
      "Best_fitness: [0.06816518]\n"
     ]
    },
    {
     "name": "stderr",
     "output_type": "stream",
     "text": [
      "\n",
      "9it [02:56, 19.63s/it]"
     ]
    },
    {
     "name": "stdout",
     "output_type": "stream",
     "text": [
      "Best_fitness: [0.19091506]\n"
     ]
    },
    {
     "name": "stderr",
     "output_type": "stream",
     "text": [
      "\n",
      "10it [03:16, 19.62s/it]"
     ]
    },
    {
     "name": "stdout",
     "output_type": "stream",
     "text": [
      "Best_fitness: [0.0715622]\n"
     ]
    },
    {
     "name": "stderr",
     "output_type": "stream",
     "text": [
      "\n",
      "11it [03:35, 19.68s/it]"
     ]
    },
    {
     "name": "stdout",
     "output_type": "stream",
     "text": [
      "Best_fitness: [0.04148149]\n"
     ]
    },
    {
     "name": "stderr",
     "output_type": "stream",
     "text": [
      "\n",
      "12it [03:55, 19.73s/it]"
     ]
    },
    {
     "name": "stdout",
     "output_type": "stream",
     "text": [
      "Best_fitness: [0.08580893]\n"
     ]
    },
    {
     "name": "stderr",
     "output_type": "stream",
     "text": [
      "\n",
      "13it [04:15, 19.71s/it]"
     ]
    },
    {
     "name": "stdout",
     "output_type": "stream",
     "text": [
      "Best_fitness: [0.01580158]\n"
     ]
    },
    {
     "name": "stderr",
     "output_type": "stream",
     "text": [
      "\n",
      "14it [04:35, 19.75s/it]"
     ]
    },
    {
     "name": "stdout",
     "output_type": "stream",
     "text": [
      "Best_fitness: [0.04245003]\n"
     ]
    },
    {
     "name": "stderr",
     "output_type": "stream",
     "text": [
      "\n",
      "15it [04:55, 19.84s/it]"
     ]
    },
    {
     "name": "stdout",
     "output_type": "stream",
     "text": [
      "Best_fitness: [0.12412617]\n"
     ]
    },
    {
     "name": "stderr",
     "output_type": "stream",
     "text": [
      "\n",
      "16it [05:15, 19.79s/it]"
     ]
    },
    {
     "name": "stdout",
     "output_type": "stream",
     "text": [
      "Best_fitness: [0.01512221]\n"
     ]
    },
    {
     "name": "stderr",
     "output_type": "stream",
     "text": [
      "\n",
      "17it [05:34, 19.73s/it]"
     ]
    },
    {
     "name": "stdout",
     "output_type": "stream",
     "text": [
      "Best_fitness: [0.20453066]\n"
     ]
    },
    {
     "name": "stderr",
     "output_type": "stream",
     "text": [
      "\n",
      "18it [05:54, 19.70s/it]"
     ]
    },
    {
     "name": "stdout",
     "output_type": "stream",
     "text": [
      "Best_fitness: [0.07890731]\n"
     ]
    },
    {
     "name": "stderr",
     "output_type": "stream",
     "text": [
      "\n",
      "19it [06:14, 19.73s/it]"
     ]
    },
    {
     "name": "stdout",
     "output_type": "stream",
     "text": [
      "Best_fitness: [0.09896203]\n"
     ]
    },
    {
     "name": "stderr",
     "output_type": "stream",
     "text": [
      "\n",
      "20it [06:33, 19.68s/it]\n",
      "4it [21:05, 316.47s/it]\n"
     ]
    }
   ],
   "source": [
    "perfs = {\n",
    "    \"net_tan\":{},\n",
    "    \"net_linear\":{},\n",
    "    \"net_cubic\":{},\n",
    "    \"net_sine\":{}\n",
    "}\n",
    "\n",
    "for i, dataset in tqdm(enumerate(datasets)):\n",
    "    X_train, y_train = dataset.iloc[:,:-1].to_numpy(), dataset.iloc[:,1].to_numpy()\n",
    "\n",
    "    splitted_X_train, splitted_y_train = shuffle_and_split(X_train, y_train, batch_size=20)\n",
    "    \n",
    "    perfs[list(perfs.keys())[i]][\"batch_size:20 swarmsize:100 itercount:100\"] = []\n",
    "    network = nets[i]\n",
    "    for (x_batch,y_batch) in tqdm(zip(splitted_X_train,splitted_y_train)):\n",
    "        perf = network.train_with_pso(x_batch, y_batch)\n",
    "        perfs[list(perfs.keys())[i]][\"batch_size:20 swarmsize:100 itercount:100\"].append(perf)\n",
    "        "
   ]
  },
  {
   "cell_type": "code",
   "execution_count": 6,
   "metadata": {},
   "outputs": [
    {
     "name": "stderr",
     "output_type": "stream",
     "text": [
      "0it [00:00, ?it/s]\n",
      "0it [00:00, ?it/s]"
     ]
    },
    {
     "name": "stdout",
     "output_type": "stream",
     "text": [
      "Best_fitness: [0.31351796]\n"
     ]
    },
    {
     "name": "stderr",
     "output_type": "stream",
     "text": [
      "\n",
      "1it [00:22, 22.80s/it]"
     ]
    },
    {
     "name": "stdout",
     "output_type": "stream",
     "text": [
      "Best_fitness: [0.25526409]\n"
     ]
    },
    {
     "name": "stderr",
     "output_type": "stream",
     "text": [
      "\n",
      "2it [00:43, 22.23s/it]"
     ]
    },
    {
     "name": "stdout",
     "output_type": "stream",
     "text": [
      "Best_fitness: [0.37382282]\n"
     ]
    },
    {
     "name": "stderr",
     "output_type": "stream",
     "text": [
      "\n",
      "3it [01:04, 21.79s/it]"
     ]
    },
    {
     "name": "stdout",
     "output_type": "stream",
     "text": [
      "Best_fitness: [0.24008838]\n"
     ]
    },
    {
     "name": "stderr",
     "output_type": "stream",
     "text": [
      "\n",
      "4it [01:24, 21.37s/it]"
     ]
    },
    {
     "name": "stdout",
     "output_type": "stream",
     "text": [
      "Best_fitness: [0.2822813]\n"
     ]
    },
    {
     "name": "stderr",
     "output_type": "stream",
     "text": [
      "\n",
      "5it [01:45, 21.25s/it]"
     ]
    },
    {
     "name": "stdout",
     "output_type": "stream",
     "text": [
      "Best_fitness: [0.16997694]\n"
     ]
    },
    {
     "name": "stderr",
     "output_type": "stream",
     "text": [
      "\n",
      "6it [02:06, 21.10s/it]"
     ]
    },
    {
     "name": "stdout",
     "output_type": "stream",
     "text": [
      "Best_fitness: [0.15954923]\n"
     ]
    },
    {
     "name": "stderr",
     "output_type": "stream",
     "text": [
      "\n",
      "7it [02:27, 21.05s/it]"
     ]
    },
    {
     "name": "stdout",
     "output_type": "stream",
     "text": [
      "Best_fitness: [0.24362685]\n"
     ]
    },
    {
     "name": "stderr",
     "output_type": "stream",
     "text": [
      "\n",
      "8it [02:48, 20.98s/it]"
     ]
    },
    {
     "name": "stdout",
     "output_type": "stream",
     "text": [
      "Best_fitness: [0.23983463]\n"
     ]
    },
    {
     "name": "stderr",
     "output_type": "stream",
     "text": [
      "\n",
      "9it [03:09, 21.10s/it]"
     ]
    },
    {
     "name": "stdout",
     "output_type": "stream",
     "text": [
      "Best_fitness: [0.26205826]\n"
     ]
    },
    {
     "name": "stderr",
     "output_type": "stream",
     "text": [
      "\n",
      "10it [03:30, 21.05s/it]\n",
      "1it [03:30, 210.52s/it]\n",
      "0it [00:00, ?it/s]"
     ]
    },
    {
     "name": "stdout",
     "output_type": "stream",
     "text": [
      "Best_fitness: [0.01514333]\n"
     ]
    },
    {
     "name": "stderr",
     "output_type": "stream",
     "text": [
      "\n",
      "1it [00:20, 20.88s/it]"
     ]
    },
    {
     "name": "stdout",
     "output_type": "stream",
     "text": [
      "Best_fitness: [0.02220255]\n"
     ]
    },
    {
     "name": "stderr",
     "output_type": "stream",
     "text": [
      "\n",
      "2it [00:41, 20.84s/it]"
     ]
    },
    {
     "name": "stdout",
     "output_type": "stream",
     "text": [
      "Best_fitness: [0.0080389]\n"
     ]
    },
    {
     "name": "stderr",
     "output_type": "stream",
     "text": [
      "\n",
      "3it [01:02, 20.79s/it]"
     ]
    },
    {
     "name": "stdout",
     "output_type": "stream",
     "text": [
      "Best_fitness: [0.02229078]\n"
     ]
    },
    {
     "name": "stderr",
     "output_type": "stream",
     "text": [
      "\n",
      "4it [01:23, 20.86s/it]"
     ]
    },
    {
     "name": "stdout",
     "output_type": "stream",
     "text": [
      "Best_fitness: [0.03475127]\n"
     ]
    },
    {
     "name": "stderr",
     "output_type": "stream",
     "text": [
      "\n",
      "5it [01:44, 20.85s/it]"
     ]
    },
    {
     "name": "stdout",
     "output_type": "stream",
     "text": [
      "Best_fitness: [0.0140067]\n"
     ]
    },
    {
     "name": "stderr",
     "output_type": "stream",
     "text": [
      "\n",
      "6it [02:05, 20.87s/it]"
     ]
    },
    {
     "name": "stdout",
     "output_type": "stream",
     "text": [
      "Best_fitness: [0.012619]\n"
     ]
    },
    {
     "name": "stderr",
     "output_type": "stream",
     "text": [
      "\n",
      "7it [02:26, 20.93s/it]"
     ]
    },
    {
     "name": "stdout",
     "output_type": "stream",
     "text": [
      "Best_fitness: [0.01176909]\n"
     ]
    },
    {
     "name": "stderr",
     "output_type": "stream",
     "text": [
      "\n",
      "8it [02:46, 20.91s/it]"
     ]
    },
    {
     "name": "stdout",
     "output_type": "stream",
     "text": [
      "Best_fitness: [0.0359715]\n"
     ]
    },
    {
     "name": "stderr",
     "output_type": "stream",
     "text": [
      "\n",
      "9it [03:08, 20.95s/it]"
     ]
    },
    {
     "name": "stdout",
     "output_type": "stream",
     "text": [
      "Best_fitness: [0.0056259]\n"
     ]
    },
    {
     "name": "stderr",
     "output_type": "stream",
     "text": [
      "\n",
      "10it [03:29, 20.92s/it]\n",
      "2it [06:59, 210.14s/it]\n",
      "0it [00:00, ?it/s]"
     ]
    },
    {
     "name": "stdout",
     "output_type": "stream",
     "text": [
      "Best_fitness: [0.09070032]\n"
     ]
    },
    {
     "name": "stderr",
     "output_type": "stream",
     "text": [
      "\n",
      "1it [00:39, 39.01s/it]"
     ]
    },
    {
     "name": "stdout",
     "output_type": "stream",
     "text": [
      "Best_fitness: [0.01676568]\n"
     ]
    },
    {
     "name": "stderr",
     "output_type": "stream",
     "text": [
      "\n",
      "2it [01:14, 38.08s/it]"
     ]
    },
    {
     "name": "stdout",
     "output_type": "stream",
     "text": [
      "Best_fitness: [0.00615383]\n"
     ]
    },
    {
     "name": "stderr",
     "output_type": "stream",
     "text": [
      "\n",
      "3it [01:51, 37.52s/it]"
     ]
    },
    {
     "name": "stdout",
     "output_type": "stream",
     "text": [
      "Best_fitness: [0.04599524]\n"
     ]
    },
    {
     "name": "stderr",
     "output_type": "stream",
     "text": [
      "\n",
      "4it [02:26, 36.82s/it]"
     ]
    },
    {
     "name": "stdout",
     "output_type": "stream",
     "text": [
      "Best_fitness: [0.03694547]\n"
     ]
    },
    {
     "name": "stderr",
     "output_type": "stream",
     "text": [
      "\n",
      "5it [03:01, 36.34s/it]"
     ]
    },
    {
     "name": "stdout",
     "output_type": "stream",
     "text": [
      "Best_fitness: [0.03893809]\n"
     ]
    },
    {
     "name": "stderr",
     "output_type": "stream",
     "text": [
      "\n",
      "6it [03:36, 36.03s/it]"
     ]
    },
    {
     "name": "stdout",
     "output_type": "stream",
     "text": [
      "Best_fitness: [0.05053942]\n"
     ]
    },
    {
     "name": "stderr",
     "output_type": "stream",
     "text": [
      "\n",
      "7it [04:12, 36.01s/it]"
     ]
    },
    {
     "name": "stdout",
     "output_type": "stream",
     "text": [
      "Best_fitness: [0.02722737]\n"
     ]
    },
    {
     "name": "stderr",
     "output_type": "stream",
     "text": [
      "\n",
      "8it [04:48, 35.90s/it]"
     ]
    },
    {
     "name": "stdout",
     "output_type": "stream",
     "text": [
      "Best_fitness: [0.07178217]\n"
     ]
    },
    {
     "name": "stderr",
     "output_type": "stream",
     "text": [
      "\n",
      "9it [05:24, 36.07s/it]"
     ]
    },
    {
     "name": "stdout",
     "output_type": "stream",
     "text": [
      "Best_fitness: [0.06901429]\n"
     ]
    },
    {
     "name": "stderr",
     "output_type": "stream",
     "text": [
      "\n",
      "10it [06:00, 36.08s/it]\n",
      "3it [13:00, 255.33s/it]\n",
      "0it [00:00, ?it/s]"
     ]
    },
    {
     "name": "stdout",
     "output_type": "stream",
     "text": [
      "Best_fitness: [0.10377965]\n"
     ]
    },
    {
     "name": "stderr",
     "output_type": "stream",
     "text": [
      "\n",
      "1it [00:34, 34.61s/it]"
     ]
    },
    {
     "name": "stdout",
     "output_type": "stream",
     "text": [
      "Best_fitness: [0.09373838]\n"
     ]
    },
    {
     "name": "stderr",
     "output_type": "stream",
     "text": [
      "\n",
      "2it [01:09, 34.68s/it]"
     ]
    },
    {
     "name": "stdout",
     "output_type": "stream",
     "text": [
      "Best_fitness: [0.14849027]\n"
     ]
    },
    {
     "name": "stderr",
     "output_type": "stream",
     "text": [
      "\n",
      "3it [01:44, 34.71s/it]"
     ]
    },
    {
     "name": "stdout",
     "output_type": "stream",
     "text": [
      "Best_fitness: [0.16624549]\n"
     ]
    },
    {
     "name": "stderr",
     "output_type": "stream",
     "text": [
      "\n",
      "4it [02:19, 34.93s/it]"
     ]
    },
    {
     "name": "stdout",
     "output_type": "stream",
     "text": [
      "Best_fitness: [0.11289579]\n"
     ]
    },
    {
     "name": "stderr",
     "output_type": "stream",
     "text": [
      "\n",
      "5it [02:54, 34.82s/it]"
     ]
    },
    {
     "name": "stdout",
     "output_type": "stream",
     "text": [
      "Best_fitness: [0.12151392]\n"
     ]
    },
    {
     "name": "stderr",
     "output_type": "stream",
     "text": [
      "\n",
      "6it [03:28, 34.77s/it]"
     ]
    },
    {
     "name": "stdout",
     "output_type": "stream",
     "text": [
      "Best_fitness: [0.09586057]\n"
     ]
    },
    {
     "name": "stderr",
     "output_type": "stream",
     "text": [
      "\n",
      "7it [04:03, 34.76s/it]"
     ]
    },
    {
     "name": "stdout",
     "output_type": "stream",
     "text": [
      "Best_fitness: [0.1216683]\n"
     ]
    },
    {
     "name": "stderr",
     "output_type": "stream",
     "text": [
      "\n",
      "8it [04:38, 34.67s/it]"
     ]
    },
    {
     "name": "stdout",
     "output_type": "stream",
     "text": [
      "Best_fitness: [0.13992826]\n"
     ]
    },
    {
     "name": "stderr",
     "output_type": "stream",
     "text": [
      "\n",
      "9it [05:12, 34.72s/it]"
     ]
    },
    {
     "name": "stdout",
     "output_type": "stream",
     "text": [
      "Best_fitness: [0.12097802]\n"
     ]
    },
    {
     "name": "stderr",
     "output_type": "stream",
     "text": [
      "\n",
      "10it [05:47, 34.74s/it]\n",
      "4it [18:47, 281.98s/it]\n"
     ]
    }
   ],
   "source": [
    "for i, dataset in tqdm(enumerate(datasets)):\n",
    "    X_train, y_train = dataset.iloc[:,:-1].to_numpy(), dataset.iloc[:,1].to_numpy()\n",
    "\n",
    "    splitted_X_train, splitted_y_train = shuffle_and_split(X_train, y_train, batch_size=10)\n",
    "    \n",
    "    perfs[list(perfs.keys())[i]][\"batch_size:10 swarmsize:100 itercount:100\"] = []\n",
    "    network = nets[i]\n",
    "    for (x_batch,y_batch) in tqdm(zip(splitted_X_train,splitted_y_train)):\n",
    "        perf = network.train_with_pso(x_batch, y_batch)\n",
    "        perfs[list(perfs.keys())[i]][\"batch_size:10 swarmsize:100 itercount:100\"].append(perf)\n",
    "        "
   ]
  },
  {
   "cell_type": "code",
   "execution_count": 7,
   "metadata": {},
   "outputs": [
    {
     "name": "stderr",
     "output_type": "stream",
     "text": [
      "0it [00:00, ?it/s]\n",
      "0it [00:00, ?it/s]"
     ]
    },
    {
     "name": "stdout",
     "output_type": "stream",
     "text": [
      "Best_fitness: [0.25759365]\n"
     ]
    },
    {
     "name": "stderr",
     "output_type": "stream",
     "text": [
      "\n",
      "1it [00:27, 27.47s/it]"
     ]
    },
    {
     "name": "stdout",
     "output_type": "stream",
     "text": [
      "Best_fitness: [0.20387701]\n"
     ]
    },
    {
     "name": "stderr",
     "output_type": "stream",
     "text": [
      "\n",
      "2it [00:50, 26.22s/it]"
     ]
    },
    {
     "name": "stdout",
     "output_type": "stream",
     "text": [
      "Best_fitness: [0.20173234]\n"
     ]
    },
    {
     "name": "stderr",
     "output_type": "stream",
     "text": [
      "\n",
      "3it [01:13, 25.20s/it]"
     ]
    },
    {
     "name": "stdout",
     "output_type": "stream",
     "text": [
      "Best_fitness: [0.26495899]\n"
     ]
    },
    {
     "name": "stderr",
     "output_type": "stream",
     "text": [
      "\n",
      "4it [01:36, 24.49s/it]"
     ]
    },
    {
     "name": "stdout",
     "output_type": "stream",
     "text": [
      "Best_fitness: [0.32110909]\n"
     ]
    },
    {
     "name": "stderr",
     "output_type": "stream",
     "text": [
      "\n",
      "5it [01:59, 24.05s/it]"
     ]
    },
    {
     "name": "stdout",
     "output_type": "stream",
     "text": [
      "Best_fitness: [0.25147175]\n"
     ]
    },
    {
     "name": "stderr",
     "output_type": "stream",
     "text": [
      "\n",
      "6it [02:22, 23.76s/it]"
     ]
    },
    {
     "name": "stdout",
     "output_type": "stream",
     "text": [
      "Best_fitness: [0.21961298]\n"
     ]
    },
    {
     "name": "stderr",
     "output_type": "stream",
     "text": [
      "\n",
      "7it [02:45, 23.52s/it]"
     ]
    },
    {
     "name": "stdout",
     "output_type": "stream",
     "text": [
      "Best_fitness: [0.20667658]\n"
     ]
    },
    {
     "name": "stderr",
     "output_type": "stream",
     "text": [
      "\n",
      "8it [03:08, 23.45s/it]"
     ]
    },
    {
     "name": "stdout",
     "output_type": "stream",
     "text": [
      "Best_fitness: [0.29168149]\n"
     ]
    },
    {
     "name": "stderr",
     "output_type": "stream",
     "text": [
      "\n",
      "9it [03:32, 23.41s/it]"
     ]
    },
    {
     "name": "stdout",
     "output_type": "stream",
     "text": [
      "Best_fitness: [0.16309718]\n"
     ]
    },
    {
     "name": "stderr",
     "output_type": "stream",
     "text": [
      "\n",
      "10it [03:55, 23.41s/it]"
     ]
    },
    {
     "name": "stdout",
     "output_type": "stream",
     "text": [
      "Best_fitness: [0.27719596]\n"
     ]
    },
    {
     "name": "stderr",
     "output_type": "stream",
     "text": [
      "\n",
      "11it [04:18, 23.35s/it]"
     ]
    },
    {
     "name": "stdout",
     "output_type": "stream",
     "text": [
      "Best_fitness: [0.13036331]\n"
     ]
    },
    {
     "name": "stderr",
     "output_type": "stream",
     "text": [
      "\n",
      "12it [04:41, 23.24s/it]"
     ]
    },
    {
     "name": "stdout",
     "output_type": "stream",
     "text": [
      "Best_fitness: [0.25612467]\n"
     ]
    },
    {
     "name": "stderr",
     "output_type": "stream",
     "text": [
      "\n",
      "13it [05:04, 23.22s/it]"
     ]
    },
    {
     "name": "stdout",
     "output_type": "stream",
     "text": [
      "Best_fitness: [0.09821276]\n"
     ]
    },
    {
     "name": "stderr",
     "output_type": "stream",
     "text": [
      "\n",
      "14it [05:27, 23.16s/it]"
     ]
    },
    {
     "name": "stdout",
     "output_type": "stream",
     "text": [
      "Best_fitness: [0.32030215]\n"
     ]
    },
    {
     "name": "stderr",
     "output_type": "stream",
     "text": [
      "\n",
      "15it [05:51, 23.17s/it]"
     ]
    },
    {
     "name": "stdout",
     "output_type": "stream",
     "text": [
      "Best_fitness: [0.11872122]\n"
     ]
    },
    {
     "name": "stderr",
     "output_type": "stream",
     "text": [
      "\n",
      "16it [06:13, 23.02s/it]"
     ]
    },
    {
     "name": "stdout",
     "output_type": "stream",
     "text": [
      "Best_fitness: [0.32377615]\n"
     ]
    },
    {
     "name": "stderr",
     "output_type": "stream",
     "text": [
      "\n",
      "17it [06:36, 23.00s/it]"
     ]
    },
    {
     "name": "stdout",
     "output_type": "stream",
     "text": [
      "Best_fitness: [0.1680106]\n"
     ]
    },
    {
     "name": "stderr",
     "output_type": "stream",
     "text": [
      "\n",
      "18it [06:59, 23.02s/it]"
     ]
    },
    {
     "name": "stdout",
     "output_type": "stream",
     "text": [
      "Best_fitness: [0.37795667]\n"
     ]
    },
    {
     "name": "stderr",
     "output_type": "stream",
     "text": [
      "\n",
      "19it [07:22, 23.05s/it]"
     ]
    },
    {
     "name": "stdout",
     "output_type": "stream",
     "text": [
      "Best_fitness: [0.37143785]\n"
     ]
    },
    {
     "name": "stderr",
     "output_type": "stream",
     "text": [
      "\n",
      "20it [07:45, 23.30s/it]\n",
      "1it [07:45, 465.94s/it]\n",
      "0it [00:00, ?it/s]"
     ]
    },
    {
     "name": "stdout",
     "output_type": "stream",
     "text": [
      "Best_fitness: [0.03737224]\n"
     ]
    },
    {
     "name": "stderr",
     "output_type": "stream",
     "text": [
      "\n",
      "1it [00:23, 23.12s/it]"
     ]
    },
    {
     "name": "stdout",
     "output_type": "stream",
     "text": [
      "Best_fitness: [0.00134113]\n"
     ]
    },
    {
     "name": "stderr",
     "output_type": "stream",
     "text": [
      "\n",
      "2it [00:46, 23.12s/it]"
     ]
    },
    {
     "name": "stdout",
     "output_type": "stream",
     "text": [
      "Best_fitness: [0.00848202]\n"
     ]
    },
    {
     "name": "stderr",
     "output_type": "stream",
     "text": [
      "\n",
      "3it [01:09, 23.11s/it]"
     ]
    },
    {
     "name": "stdout",
     "output_type": "stream",
     "text": [
      "Best_fitness: [0.00059508]\n"
     ]
    },
    {
     "name": "stderr",
     "output_type": "stream",
     "text": [
      "\n",
      "4it [01:32, 23.08s/it]"
     ]
    },
    {
     "name": "stdout",
     "output_type": "stream",
     "text": [
      "Best_fitness: [0.00138058]\n"
     ]
    },
    {
     "name": "stderr",
     "output_type": "stream",
     "text": [
      "\n",
      "5it [01:55, 23.09s/it]"
     ]
    },
    {
     "name": "stdout",
     "output_type": "stream",
     "text": [
      "Best_fitness: [0.00510598]\n"
     ]
    },
    {
     "name": "stderr",
     "output_type": "stream",
     "text": [
      "\n",
      "6it [02:18, 22.94s/it]"
     ]
    },
    {
     "name": "stdout",
     "output_type": "stream",
     "text": [
      "Best_fitness: [0.00420098]\n"
     ]
    },
    {
     "name": "stderr",
     "output_type": "stream",
     "text": [
      "\n",
      "7it [02:41, 22.96s/it]"
     ]
    },
    {
     "name": "stdout",
     "output_type": "stream",
     "text": [
      "Best_fitness: [0.01372608]\n"
     ]
    },
    {
     "name": "stderr",
     "output_type": "stream",
     "text": [
      "\n",
      "8it [03:04, 23.03s/it]"
     ]
    },
    {
     "name": "stdout",
     "output_type": "stream",
     "text": [
      "Best_fitness: [0.00041912]\n"
     ]
    },
    {
     "name": "stderr",
     "output_type": "stream",
     "text": [
      "\n",
      "9it [03:27, 23.05s/it]"
     ]
    },
    {
     "name": "stdout",
     "output_type": "stream",
     "text": [
      "Best_fitness: [0.00463415]\n"
     ]
    },
    {
     "name": "stderr",
     "output_type": "stream",
     "text": [
      "\n",
      "10it [03:50, 23.09s/it]"
     ]
    },
    {
     "name": "stdout",
     "output_type": "stream",
     "text": [
      "Best_fitness: [0.03249595]\n"
     ]
    },
    {
     "name": "stderr",
     "output_type": "stream",
     "text": [
      "\n",
      "11it [04:13, 23.08s/it]"
     ]
    },
    {
     "name": "stdout",
     "output_type": "stream",
     "text": [
      "Best_fitness: [0.00521461]\n"
     ]
    },
    {
     "name": "stderr",
     "output_type": "stream",
     "text": [
      "\n",
      "12it [04:36, 23.14s/it]"
     ]
    },
    {
     "name": "stdout",
     "output_type": "stream",
     "text": [
      "Best_fitness: [0.00588384]\n"
     ]
    },
    {
     "name": "stderr",
     "output_type": "stream",
     "text": [
      "\n",
      "13it [04:59, 23.11s/it]"
     ]
    },
    {
     "name": "stdout",
     "output_type": "stream",
     "text": [
      "Best_fitness: [0.02448247]\n"
     ]
    },
    {
     "name": "stderr",
     "output_type": "stream",
     "text": [
      "\n",
      "14it [05:23, 23.20s/it]"
     ]
    },
    {
     "name": "stdout",
     "output_type": "stream",
     "text": [
      "Best_fitness: [0.02092228]\n"
     ]
    },
    {
     "name": "stderr",
     "output_type": "stream",
     "text": [
      "\n",
      "15it [05:46, 23.12s/it]"
     ]
    },
    {
     "name": "stdout",
     "output_type": "stream",
     "text": [
      "Best_fitness: [0.02102253]\n"
     ]
    },
    {
     "name": "stderr",
     "output_type": "stream",
     "text": [
      "\n",
      "16it [06:09, 23.04s/it]"
     ]
    },
    {
     "name": "stdout",
     "output_type": "stream",
     "text": [
      "Best_fitness: [0.01351737]\n"
     ]
    },
    {
     "name": "stderr",
     "output_type": "stream",
     "text": [
      "\n",
      "17it [06:32, 23.08s/it]"
     ]
    },
    {
     "name": "stdout",
     "output_type": "stream",
     "text": [
      "Best_fitness: [0.01579168]\n"
     ]
    },
    {
     "name": "stderr",
     "output_type": "stream",
     "text": [
      "\n",
      "18it [06:55, 23.09s/it]"
     ]
    },
    {
     "name": "stdout",
     "output_type": "stream",
     "text": [
      "Best_fitness: [0.0104579]\n"
     ]
    },
    {
     "name": "stderr",
     "output_type": "stream",
     "text": [
      "\n",
      "19it [07:18, 23.05s/it]"
     ]
    },
    {
     "name": "stdout",
     "output_type": "stream",
     "text": [
      "Best_fitness: [0.00265861]\n"
     ]
    },
    {
     "name": "stderr",
     "output_type": "stream",
     "text": [
      "\n",
      "20it [07:41, 23.08s/it]\n",
      "2it [15:27, 464.65s/it]\n",
      "0it [00:00, ?it/s]"
     ]
    },
    {
     "name": "stdout",
     "output_type": "stream",
     "text": [
      "Best_fitness: [0.0250991]\n"
     ]
    },
    {
     "name": "stderr",
     "output_type": "stream",
     "text": [
      "\n",
      "1it [00:46, 46.75s/it]"
     ]
    },
    {
     "name": "stdout",
     "output_type": "stream",
     "text": [
      "Best_fitness: [0.01678299]\n"
     ]
    },
    {
     "name": "stderr",
     "output_type": "stream",
     "text": [
      "\n",
      "2it [01:27, 44.88s/it]"
     ]
    },
    {
     "name": "stdout",
     "output_type": "stream",
     "text": [
      "Best_fitness: [0.0058912]\n"
     ]
    },
    {
     "name": "stderr",
     "output_type": "stream",
     "text": [
      "\n",
      "3it [02:07, 43.61s/it]"
     ]
    },
    {
     "name": "stdout",
     "output_type": "stream",
     "text": [
      "Best_fitness: [0.00712914]\n"
     ]
    },
    {
     "name": "stderr",
     "output_type": "stream",
     "text": [
      "\n",
      "4it [02:48, 42.68s/it]"
     ]
    },
    {
     "name": "stdout",
     "output_type": "stream",
     "text": [
      "Best_fitness: [0.01270434]\n"
     ]
    },
    {
     "name": "stderr",
     "output_type": "stream",
     "text": [
      "\n",
      "5it [03:28, 41.97s/it]"
     ]
    },
    {
     "name": "stdout",
     "output_type": "stream",
     "text": [
      "Best_fitness: [0.03295474]\n"
     ]
    },
    {
     "name": "stderr",
     "output_type": "stream",
     "text": [
      "\n",
      "6it [04:09, 41.54s/it]"
     ]
    },
    {
     "name": "stdout",
     "output_type": "stream",
     "text": [
      "Best_fitness: [0.06630524]\n"
     ]
    },
    {
     "name": "stderr",
     "output_type": "stream",
     "text": [
      "\n",
      "7it [04:49, 41.18s/it]"
     ]
    },
    {
     "name": "stdout",
     "output_type": "stream",
     "text": [
      "Best_fitness: [0.00135349]\n"
     ]
    },
    {
     "name": "stderr",
     "output_type": "stream",
     "text": [
      "\n",
      "8it [05:30, 41.09s/it]"
     ]
    },
    {
     "name": "stdout",
     "output_type": "stream",
     "text": [
      "Best_fitness: [0.01322512]\n"
     ]
    },
    {
     "name": "stderr",
     "output_type": "stream",
     "text": [
      "\n",
      "9it [06:11, 41.04s/it]"
     ]
    },
    {
     "name": "stdout",
     "output_type": "stream",
     "text": [
      "Best_fitness: [0.01566976]\n"
     ]
    },
    {
     "name": "stderr",
     "output_type": "stream",
     "text": [
      "\n",
      "10it [06:52, 40.97s/it]"
     ]
    },
    {
     "name": "stdout",
     "output_type": "stream",
     "text": [
      "Best_fitness: [0.01244103]\n"
     ]
    },
    {
     "name": "stderr",
     "output_type": "stream",
     "text": [
      "\n",
      "11it [07:32, 40.84s/it]"
     ]
    },
    {
     "name": "stdout",
     "output_type": "stream",
     "text": [
      "Best_fitness: [0.02264397]\n"
     ]
    },
    {
     "name": "stderr",
     "output_type": "stream",
     "text": [
      "\n",
      "12it [08:12, 40.65s/it]"
     ]
    },
    {
     "name": "stdout",
     "output_type": "stream",
     "text": [
      "Best_fitness: [0.00792143]\n"
     ]
    },
    {
     "name": "stderr",
     "output_type": "stream",
     "text": [
      "\n",
      "13it [08:53, 40.50s/it]"
     ]
    },
    {
     "name": "stdout",
     "output_type": "stream",
     "text": [
      "Best_fitness: [0.04085297]\n"
     ]
    },
    {
     "name": "stderr",
     "output_type": "stream",
     "text": [
      "\n",
      "14it [09:33, 40.35s/it]"
     ]
    },
    {
     "name": "stdout",
     "output_type": "stream",
     "text": [
      "Best_fitness: [0.00259908]\n"
     ]
    },
    {
     "name": "stderr",
     "output_type": "stream",
     "text": [
      "\n",
      "15it [10:13, 40.49s/it]"
     ]
    },
    {
     "name": "stdout",
     "output_type": "stream",
     "text": [
      "Best_fitness: [0.00504523]\n"
     ]
    },
    {
     "name": "stderr",
     "output_type": "stream",
     "text": [
      "\n",
      "16it [10:54, 40.61s/it]"
     ]
    },
    {
     "name": "stdout",
     "output_type": "stream",
     "text": [
      "Best_fitness: [0.02308269]\n"
     ]
    },
    {
     "name": "stderr",
     "output_type": "stream",
     "text": [
      "\n",
      "17it [11:34, 40.42s/it]"
     ]
    },
    {
     "name": "stdout",
     "output_type": "stream",
     "text": [
      "Best_fitness: [0.05289992]\n"
     ]
    },
    {
     "name": "stderr",
     "output_type": "stream",
     "text": [
      "\n",
      "18it [12:13, 40.05s/it]"
     ]
    },
    {
     "name": "stdout",
     "output_type": "stream",
     "text": [
      "Best_fitness: [0.00038342]\n"
     ]
    },
    {
     "name": "stderr",
     "output_type": "stream",
     "text": [
      "\n",
      "19it [12:54, 40.31s/it]"
     ]
    },
    {
     "name": "stdout",
     "output_type": "stream",
     "text": [
      "Best_fitness: [0.01039214]\n"
     ]
    },
    {
     "name": "stderr",
     "output_type": "stream",
     "text": [
      "\n",
      "20it [13:35, 40.75s/it]\n",
      "3it [29:02, 569.79s/it]\n",
      "0it [00:00, ?it/s]"
     ]
    },
    {
     "name": "stdout",
     "output_type": "stream",
     "text": [
      "Best_fitness: [0.20959336]\n"
     ]
    },
    {
     "name": "stderr",
     "output_type": "stream",
     "text": [
      "\n",
      "1it [00:39, 39.43s/it]"
     ]
    },
    {
     "name": "stdout",
     "output_type": "stream",
     "text": [
      "Best_fitness: [0.11097489]\n"
     ]
    },
    {
     "name": "stderr",
     "output_type": "stream",
     "text": [
      "\n",
      "2it [01:19, 39.50s/it]"
     ]
    },
    {
     "name": "stdout",
     "output_type": "stream",
     "text": [
      "Best_fitness: [0.11329225]\n"
     ]
    },
    {
     "name": "stderr",
     "output_type": "stream",
     "text": [
      "\n",
      "3it [01:58, 39.51s/it]"
     ]
    },
    {
     "name": "stdout",
     "output_type": "stream",
     "text": [
      "Best_fitness: [0.14209831]\n"
     ]
    },
    {
     "name": "stderr",
     "output_type": "stream",
     "text": [
      "\n",
      "4it [02:38, 39.48s/it]"
     ]
    },
    {
     "name": "stdout",
     "output_type": "stream",
     "text": [
      "Best_fitness: [0.03404695]\n"
     ]
    },
    {
     "name": "stderr",
     "output_type": "stream",
     "text": [
      "\n",
      "5it [03:17, 39.51s/it]"
     ]
    },
    {
     "name": "stdout",
     "output_type": "stream",
     "text": [
      "Best_fitness: [0.07750249]\n"
     ]
    },
    {
     "name": "stderr",
     "output_type": "stream",
     "text": [
      "\n",
      "6it [03:57, 39.53s/it]"
     ]
    },
    {
     "name": "stdout",
     "output_type": "stream",
     "text": [
      "Best_fitness: [0.13898216]\n"
     ]
    },
    {
     "name": "stderr",
     "output_type": "stream",
     "text": [
      "\n",
      "7it [04:36, 39.54s/it]"
     ]
    },
    {
     "name": "stdout",
     "output_type": "stream",
     "text": [
      "Best_fitness: [0.00430528]\n"
     ]
    },
    {
     "name": "stderr",
     "output_type": "stream",
     "text": [
      "\n",
      "8it [05:16, 39.48s/it]"
     ]
    },
    {
     "name": "stdout",
     "output_type": "stream",
     "text": [
      "Best_fitness: [0.01068312]\n"
     ]
    },
    {
     "name": "stderr",
     "output_type": "stream",
     "text": [
      "\n",
      "9it [05:55, 39.55s/it]"
     ]
    },
    {
     "name": "stdout",
     "output_type": "stream",
     "text": [
      "Best_fitness: [0.04270033]\n"
     ]
    },
    {
     "name": "stderr",
     "output_type": "stream",
     "text": [
      "\n",
      "10it [06:36, 39.83s/it]"
     ]
    },
    {
     "name": "stdout",
     "output_type": "stream",
     "text": [
      "Best_fitness: [0.02630206]\n"
     ]
    },
    {
     "name": "stderr",
     "output_type": "stream",
     "text": [
      "\n",
      "11it [07:15, 39.75s/it]"
     ]
    },
    {
     "name": "stdout",
     "output_type": "stream",
     "text": [
      "Best_fitness: [0.19737949]\n"
     ]
    },
    {
     "name": "stderr",
     "output_type": "stream",
     "text": [
      "\n",
      "12it [07:55, 39.73s/it]"
     ]
    },
    {
     "name": "stdout",
     "output_type": "stream",
     "text": [
      "Best_fitness: [0.06855033]\n"
     ]
    },
    {
     "name": "stderr",
     "output_type": "stream",
     "text": [
      "\n",
      "13it [08:35, 39.66s/it]"
     ]
    },
    {
     "name": "stdout",
     "output_type": "stream",
     "text": [
      "Best_fitness: [0.03968841]\n"
     ]
    },
    {
     "name": "stderr",
     "output_type": "stream",
     "text": [
      "\n",
      "14it [09:14, 39.59s/it]"
     ]
    },
    {
     "name": "stdout",
     "output_type": "stream",
     "text": [
      "Best_fitness: [0.01822222]\n"
     ]
    },
    {
     "name": "stderr",
     "output_type": "stream",
     "text": [
      "\n",
      "15it [09:53, 39.48s/it]"
     ]
    },
    {
     "name": "stdout",
     "output_type": "stream",
     "text": [
      "Best_fitness: [0.03313825]\n"
     ]
    },
    {
     "name": "stderr",
     "output_type": "stream",
     "text": [
      "\n",
      "16it [10:32, 39.37s/it]"
     ]
    },
    {
     "name": "stdout",
     "output_type": "stream",
     "text": [
      "Best_fitness: [0.05085779]\n"
     ]
    },
    {
     "name": "stderr",
     "output_type": "stream",
     "text": [
      "\n",
      "17it [11:12, 39.46s/it]"
     ]
    },
    {
     "name": "stdout",
     "output_type": "stream",
     "text": [
      "Best_fitness: [0.03994577]\n"
     ]
    },
    {
     "name": "stderr",
     "output_type": "stream",
     "text": [
      "\n",
      "18it [11:51, 39.40s/it]"
     ]
    },
    {
     "name": "stdout",
     "output_type": "stream",
     "text": [
      "Best_fitness: [0.05395857]\n"
     ]
    },
    {
     "name": "stderr",
     "output_type": "stream",
     "text": [
      "\n",
      "19it [12:32, 39.67s/it]"
     ]
    },
    {
     "name": "stdout",
     "output_type": "stream",
     "text": [
      "Best_fitness: [0.05814223]\n"
     ]
    },
    {
     "name": "stderr",
     "output_type": "stream",
     "text": [
      "\n",
      "20it [13:11, 39.57s/it]\n",
      "4it [42:14, 633.52s/it]\n"
     ]
    }
   ],
   "source": [
    "for i, dataset in tqdm(enumerate(datasets)):\n",
    "    X_train, y_train = dataset.iloc[:,:-1].to_numpy(), dataset.iloc[:,1].to_numpy()\n",
    "\n",
    "    splitted_X_train, splitted_y_train = shuffle_and_split(X_train, y_train, batch_size=20)\n",
    "    \n",
    "    perfs[list(perfs.keys())[i]][\"batch_size:20 swarmsize:200 itercount:100\"] = []\n",
    "    network = nets[i]\n",
    "    for (x_batch,y_batch) in tqdm(zip(splitted_X_train,splitted_y_train)):\n",
    "        perf = network.train_with_pso(x_batch, y_batch, swarm_size=200)\n",
    "        perfs[list(perfs.keys())[i]][\"batch_size:20 swarmsize:200 itercount:100\"].append(perf)\n",
    " "
   ]
  },
  {
   "cell_type": "code",
   "execution_count": 8,
   "metadata": {},
   "outputs": [
    {
     "name": "stderr",
     "output_type": "stream",
     "text": [
      "0it [00:00, ?it/s]\n",
      "0it [00:00, ?it/s]"
     ]
    },
    {
     "name": "stdout",
     "output_type": "stream",
     "text": [
      "Best_fitness: [0.2547329]\n"
     ]
    },
    {
     "name": "stderr",
     "output_type": "stream",
     "text": [
      "\n",
      "1it [08:37, 517.77s/it]"
     ]
    },
    {
     "name": "stdout",
     "output_type": "stream",
     "text": [
      "Best_fitness: [0.19849738]\n"
     ]
    },
    {
     "name": "stderr",
     "output_type": "stream",
     "text": [
      "\n",
      "2it [16:18, 500.54s/it]"
     ]
    },
    {
     "name": "stdout",
     "output_type": "stream",
     "text": [
      "Best_fitness: [0.1692353]\n"
     ]
    },
    {
     "name": "stderr",
     "output_type": "stream",
     "text": [
      "\n",
      "3it [23:25, 478.49s/it]"
     ]
    },
    {
     "name": "stdout",
     "output_type": "stream",
     "text": [
      "Best_fitness: [0.34617529]\n"
     ]
    },
    {
     "name": "stderr",
     "output_type": "stream",
     "text": [
      "\n",
      "4it [31:05, 472.95s/it]"
     ]
    },
    {
     "name": "stdout",
     "output_type": "stream",
     "text": [
      "Best_fitness: [0.1821286]\n"
     ]
    },
    {
     "name": "stderr",
     "output_type": "stream",
     "text": [
      "\n",
      "5it [38:45, 469.16s/it]"
     ]
    },
    {
     "name": "stdout",
     "output_type": "stream",
     "text": [
      "Best_fitness: [0.35664903]\n"
     ]
    },
    {
     "name": "stderr",
     "output_type": "stream",
     "text": [
      "\n",
      "6it [46:30, 467.80s/it]"
     ]
    },
    {
     "name": "stdout",
     "output_type": "stream",
     "text": [
      "Best_fitness: [0.10144074]\n"
     ]
    },
    {
     "name": "stderr",
     "output_type": "stream",
     "text": [
      "\n",
      "7it [54:09, 465.29s/it]"
     ]
    },
    {
     "name": "stdout",
     "output_type": "stream",
     "text": [
      "Best_fitness: [0.183581]\n"
     ]
    },
    {
     "name": "stderr",
     "output_type": "stream",
     "text": [
      "\n",
      "8it [1:01:50, 463.85s/it]"
     ]
    },
    {
     "name": "stdout",
     "output_type": "stream",
     "text": [
      "Best_fitness: [0.33000513]\n"
     ]
    },
    {
     "name": "stderr",
     "output_type": "stream",
     "text": [
      "\n",
      "9it [1:09:30, 462.97s/it]"
     ]
    },
    {
     "name": "stdout",
     "output_type": "stream",
     "text": [
      "Best_fitness: [0.22498043]\n"
     ]
    },
    {
     "name": "stderr",
     "output_type": "stream",
     "text": [
      "\n",
      "10it [1:17:11, 462.27s/it]"
     ]
    },
    {
     "name": "stdout",
     "output_type": "stream",
     "text": [
      "Best_fitness: [0.10054867]\n"
     ]
    },
    {
     "name": "stderr",
     "output_type": "stream",
     "text": [
      "\n",
      "11it [1:24:50, 461.34s/it]"
     ]
    },
    {
     "name": "stdout",
     "output_type": "stream",
     "text": [
      "Best_fitness: [0.16352821]\n"
     ]
    },
    {
     "name": "stderr",
     "output_type": "stream",
     "text": [
      "\n",
      "12it [1:32:43, 464.81s/it]"
     ]
    },
    {
     "name": "stdout",
     "output_type": "stream",
     "text": [
      "Best_fitness: [0.09483362]\n"
     ]
    },
    {
     "name": "stderr",
     "output_type": "stream",
     "text": [
      "\n",
      "13it [1:40:25, 463.92s/it]"
     ]
    },
    {
     "name": "stdout",
     "output_type": "stream",
     "text": [
      "Best_fitness: [0.29127197]\n"
     ]
    },
    {
     "name": "stderr",
     "output_type": "stream",
     "text": [
      "\n",
      "14it [1:48:06, 462.91s/it]"
     ]
    },
    {
     "name": "stdout",
     "output_type": "stream",
     "text": [
      "Best_fitness: [0.13412244]\n"
     ]
    },
    {
     "name": "stderr",
     "output_type": "stream",
     "text": [
      "\n",
      "15it [1:55:47, 462.38s/it]"
     ]
    },
    {
     "name": "stdout",
     "output_type": "stream",
     "text": [
      "Best_fitness: [0.35486104]\n"
     ]
    },
    {
     "name": "stderr",
     "output_type": "stream",
     "text": [
      "\n",
      "16it [2:03:26, 461.57s/it]"
     ]
    },
    {
     "name": "stdout",
     "output_type": "stream",
     "text": [
      "Best_fitness: [0.16735633]\n"
     ]
    },
    {
     "name": "stderr",
     "output_type": "stream",
     "text": [
      "\n",
      "17it [2:11:06, 461.12s/it]"
     ]
    },
    {
     "name": "stdout",
     "output_type": "stream",
     "text": [
      "Best_fitness: [0.46369673]\n"
     ]
    },
    {
     "name": "stderr",
     "output_type": "stream",
     "text": [
      "\n",
      "18it [2:18:13, 450.66s/it]"
     ]
    },
    {
     "name": "stdout",
     "output_type": "stream",
     "text": [
      "Best_fitness: [0.21883231]\n"
     ]
    },
    {
     "name": "stderr",
     "output_type": "stream",
     "text": [
      "\n",
      "19it [2:25:22, 444.15s/it]"
     ]
    },
    {
     "name": "stdout",
     "output_type": "stream",
     "text": [
      "Best_fitness: [0.07848875]\n"
     ]
    },
    {
     "name": "stderr",
     "output_type": "stream",
     "text": [
      "\n",
      "20it [2:33:01, 459.09s/it]\n",
      "1it [2:33:01, 9181.88s/it]\n",
      "0it [00:00, ?it/s]"
     ]
    },
    {
     "name": "stdout",
     "output_type": "stream",
     "text": [
      "Best_fitness: [0.00206061]\n"
     ]
    },
    {
     "name": "stderr",
     "output_type": "stream",
     "text": [
      "\n",
      "1it [07:54, 474.76s/it]"
     ]
    },
    {
     "name": "stdout",
     "output_type": "stream",
     "text": [
      "Best_fitness: [0.00367242]\n"
     ]
    },
    {
     "name": "stderr",
     "output_type": "stream",
     "text": [
      "\n",
      "2it [15:28, 468.32s/it]"
     ]
    },
    {
     "name": "stdout",
     "output_type": "stream",
     "text": [
      "Best_fitness: [0.00073437]\n"
     ]
    },
    {
     "name": "stderr",
     "output_type": "stream",
     "text": [
      "\n",
      "3it [23:08, 465.96s/it]"
     ]
    },
    {
     "name": "stdout",
     "output_type": "stream",
     "text": [
      "Best_fitness: [0.0158552]\n"
     ]
    },
    {
     "name": "stderr",
     "output_type": "stream",
     "text": [
      "\n",
      "4it [31:02, 468.35s/it]"
     ]
    },
    {
     "name": "stdout",
     "output_type": "stream",
     "text": [
      "Best_fitness: [0.00439951]\n"
     ]
    },
    {
     "name": "stderr",
     "output_type": "stream",
     "text": [
      "\n",
      "5it [38:07, 455.50s/it]"
     ]
    },
    {
     "name": "stdout",
     "output_type": "stream",
     "text": [
      "Best_fitness: [0.02608779]\n"
     ]
    },
    {
     "name": "stderr",
     "output_type": "stream",
     "text": [
      "\n",
      "6it [45:15, 447.03s/it]"
     ]
    },
    {
     "name": "stdout",
     "output_type": "stream",
     "text": [
      "Best_fitness: [0.00152688]\n"
     ]
    },
    {
     "name": "stderr",
     "output_type": "stream",
     "text": [
      "\n",
      "7it [52:56, 451.38s/it]"
     ]
    },
    {
     "name": "stdout",
     "output_type": "stream",
     "text": [
      "Best_fitness: [0.00222992]\n"
     ]
    },
    {
     "name": "stderr",
     "output_type": "stream",
     "text": [
      "\n",
      "8it [1:00:24, 450.37s/it]"
     ]
    },
    {
     "name": "stdout",
     "output_type": "stream",
     "text": [
      "Best_fitness: [0.00822751]\n"
     ]
    },
    {
     "name": "stderr",
     "output_type": "stream",
     "text": [
      "\n",
      "9it [1:08:06, 453.84s/it]"
     ]
    },
    {
     "name": "stdout",
     "output_type": "stream",
     "text": [
      "Best_fitness: [0.00746677]\n"
     ]
    },
    {
     "name": "stderr",
     "output_type": "stream",
     "text": [
      "\n",
      "10it [1:15:48, 456.09s/it]"
     ]
    },
    {
     "name": "stdout",
     "output_type": "stream",
     "text": [
      "Best_fitness: [0.00123925]\n"
     ]
    },
    {
     "name": "stderr",
     "output_type": "stream",
     "text": [
      "\n",
      "11it [1:23:27, 457.06s/it]"
     ]
    },
    {
     "name": "stdout",
     "output_type": "stream",
     "text": [
      "Best_fitness: [0.00504003]\n"
     ]
    },
    {
     "name": "stderr",
     "output_type": "stream",
     "text": [
      "\n",
      "12it [1:30:37, 449.12s/it]"
     ]
    },
    {
     "name": "stdout",
     "output_type": "stream",
     "text": [
      "Best_fitness: [0.02176279]\n"
     ]
    },
    {
     "name": "stderr",
     "output_type": "stream",
     "text": [
      "\n",
      "13it [1:38:19, 452.84s/it]"
     ]
    },
    {
     "name": "stdout",
     "output_type": "stream",
     "text": [
      "Best_fitness: [0.00089119]\n"
     ]
    },
    {
     "name": "stderr",
     "output_type": "stream",
     "text": [
      "\n",
      "14it [1:46:00, 455.41s/it]"
     ]
    },
    {
     "name": "stdout",
     "output_type": "stream",
     "text": [
      "Best_fitness: [0.00629091]\n"
     ]
    },
    {
     "name": "stderr",
     "output_type": "stream",
     "text": [
      "\n",
      "15it [1:53:06, 446.53s/it]"
     ]
    },
    {
     "name": "stdout",
     "output_type": "stream",
     "text": [
      "Best_fitness: [0.00791468]\n"
     ]
    },
    {
     "name": "stderr",
     "output_type": "stream",
     "text": [
      "\n",
      "16it [2:00:27, 444.94s/it]"
     ]
    },
    {
     "name": "stdout",
     "output_type": "stream",
     "text": [
      "Best_fitness: [0.00368181]\n"
     ]
    },
    {
     "name": "stderr",
     "output_type": "stream",
     "text": [
      "\n",
      "17it [2:08:08, 449.56s/it]"
     ]
    },
    {
     "name": "stdout",
     "output_type": "stream",
     "text": [
      "Best_fitness: [0.00308621]\n"
     ]
    },
    {
     "name": "stderr",
     "output_type": "stream",
     "text": [
      "\n",
      "18it [2:15:14, 442.68s/it]"
     ]
    },
    {
     "name": "stdout",
     "output_type": "stream",
     "text": [
      "Best_fitness: [0.00604775]\n"
     ]
    },
    {
     "name": "stderr",
     "output_type": "stream",
     "text": [
      "\n",
      "19it [2:22:51, 447.00s/it]"
     ]
    },
    {
     "name": "stdout",
     "output_type": "stream",
     "text": [
      "Best_fitness: [0.01377576]\n"
     ]
    },
    {
     "name": "stderr",
     "output_type": "stream",
     "text": [
      "\n",
      "20it [2:30:31, 451.60s/it]\n",
      "2it [5:03:33, 9136.90s/it]\n",
      "0it [00:00, ?it/s]"
     ]
    },
    {
     "name": "stdout",
     "output_type": "stream",
     "text": [
      "Best_fitness: [0.01209818]\n"
     ]
    },
    {
     "name": "stderr",
     "output_type": "stream",
     "text": [
      "\n",
      "1it [15:15, 915.36s/it]"
     ]
    },
    {
     "name": "stdout",
     "output_type": "stream",
     "text": [
      "Best_fitness: [0.01122039]\n"
     ]
    },
    {
     "name": "stderr",
     "output_type": "stream",
     "text": [
      "\n",
      "2it [29:08, 890.68s/it]"
     ]
    },
    {
     "name": "stdout",
     "output_type": "stream",
     "text": [
      "Best_fitness: [0.0099555]\n"
     ]
    },
    {
     "name": "stderr",
     "output_type": "stream",
     "text": [
      "\n",
      "3it [42:55, 871.52s/it]"
     ]
    },
    {
     "name": "stdout",
     "output_type": "stream",
     "text": [
      "Best_fitness: [0.05265587]\n"
     ]
    },
    {
     "name": "stderr",
     "output_type": "stream",
     "text": [
      "\n",
      "4it [56:50, 860.66s/it]"
     ]
    },
    {
     "name": "stdout",
     "output_type": "stream",
     "text": [
      "Best_fitness: [0.01018781]\n"
     ]
    },
    {
     "name": "stderr",
     "output_type": "stream",
     "text": [
      "\n",
      "5it [1:11:12, 861.02s/it]"
     ]
    },
    {
     "name": "stdout",
     "output_type": "stream",
     "text": [
      "Best_fitness: [0.04138132]\n"
     ]
    },
    {
     "name": "stderr",
     "output_type": "stream",
     "text": [
      "\n",
      "6it [1:24:28, 841.50s/it]"
     ]
    },
    {
     "name": "stdout",
     "output_type": "stream",
     "text": [
      "Best_fitness: [0.04965032]\n"
     ]
    },
    {
     "name": "stderr",
     "output_type": "stream",
     "text": [
      "\n",
      "7it [1:37:43, 827.59s/it]"
     ]
    },
    {
     "name": "stdout",
     "output_type": "stream",
     "text": [
      "Best_fitness: [0.00023793]\n"
     ]
    },
    {
     "name": "stderr",
     "output_type": "stream",
     "text": [
      "\n",
      "8it [1:51:50, 833.33s/it]"
     ]
    },
    {
     "name": "stdout",
     "output_type": "stream",
     "text": [
      "Best_fitness: [0.01563323]\n"
     ]
    },
    {
     "name": "stderr",
     "output_type": "stream",
     "text": [
      "\n",
      "9it [2:05:04, 821.51s/it]"
     ]
    },
    {
     "name": "stdout",
     "output_type": "stream",
     "text": [
      "Best_fitness: [0.00507896]\n"
     ]
    },
    {
     "name": "stderr",
     "output_type": "stream",
     "text": [
      "\n",
      "10it [2:19:01, 826.28s/it]"
     ]
    },
    {
     "name": "stdout",
     "output_type": "stream",
     "text": [
      "Best_fitness: [0.01764211]\n"
     ]
    },
    {
     "name": "stderr",
     "output_type": "stream",
     "text": [
      "\n",
      "11it [2:32:20, 818.00s/it]"
     ]
    },
    {
     "name": "stdout",
     "output_type": "stream",
     "text": [
      "Best_fitness: [0.01653754]\n"
     ]
    },
    {
     "name": "stderr",
     "output_type": "stream",
     "text": [
      "\n",
      "12it [2:46:26, 826.57s/it]"
     ]
    },
    {
     "name": "stdout",
     "output_type": "stream",
     "text": [
      "Best_fitness: [0.02082358]\n"
     ]
    },
    {
     "name": "stderr",
     "output_type": "stream",
     "text": [
      "\n",
      "13it [3:00:21, 829.00s/it]"
     ]
    },
    {
     "name": "stdout",
     "output_type": "stream",
     "text": [
      "Best_fitness: [0.02464814]\n"
     ]
    },
    {
     "name": "stderr",
     "output_type": "stream",
     "text": [
      "\n",
      "14it [3:15:44, 857.12s/it]"
     ]
    },
    {
     "name": "stdout",
     "output_type": "stream",
     "text": [
      "Best_fitness: [0.02121937]\n"
     ]
    },
    {
     "name": "stderr",
     "output_type": "stream",
     "text": [
      "\n",
      "15it [3:29:03, 839.83s/it]"
     ]
    },
    {
     "name": "stdout",
     "output_type": "stream",
     "text": [
      "Best_fitness: [0.01884036]\n"
     ]
    },
    {
     "name": "stderr",
     "output_type": "stream",
     "text": [
      "\n",
      "16it [3:42:27, 829.06s/it]"
     ]
    },
    {
     "name": "stdout",
     "output_type": "stream",
     "text": [
      "Best_fitness: [0.03383621]\n"
     ]
    },
    {
     "name": "stderr",
     "output_type": "stream",
     "text": [
      "\n",
      "17it [3:56:01, 824.38s/it]"
     ]
    },
    {
     "name": "stdout",
     "output_type": "stream",
     "text": [
      "Best_fitness: [0.0284667]\n"
     ]
    },
    {
     "name": "stderr",
     "output_type": "stream",
     "text": [
      "\n",
      "18it [4:09:33, 820.82s/it]"
     ]
    },
    {
     "name": "stdout",
     "output_type": "stream",
     "text": [
      "Best_fitness: [0.02421934]\n"
     ]
    },
    {
     "name": "stderr",
     "output_type": "stream",
     "text": [
      "\n",
      "19it [4:23:47, 830.87s/it]"
     ]
    },
    {
     "name": "stdout",
     "output_type": "stream",
     "text": [
      "Best_fitness: [0.0041443]\n"
     ]
    },
    {
     "name": "stderr",
     "output_type": "stream",
     "text": [
      "\n",
      "20it [4:37:58, 833.92s/it]\n",
      "3it [9:41:32, 11399.37s/it]\n",
      "0it [00:00, ?it/s]"
     ]
    },
    {
     "name": "stdout",
     "output_type": "stream",
     "text": [
      "Best_fitness: [0.11101405]\n"
     ]
    },
    {
     "name": "stderr",
     "output_type": "stream",
     "text": [
      "\n",
      "1it [13:54, 834.97s/it]"
     ]
    },
    {
     "name": "stdout",
     "output_type": "stream",
     "text": [
      "Best_fitness: [0.16611737]\n"
     ]
    },
    {
     "name": "stderr",
     "output_type": "stream",
     "text": [
      "\n",
      "2it [27:33, 829.93s/it]"
     ]
    },
    {
     "name": "stdout",
     "output_type": "stream",
     "text": [
      "Best_fitness: [0.04341239]\n"
     ]
    },
    {
     "name": "stderr",
     "output_type": "stream",
     "text": [
      "\n",
      "3it [40:31, 814.52s/it]"
     ]
    },
    {
     "name": "stdout",
     "output_type": "stream",
     "text": [
      "Best_fitness: [0.02677967]\n"
     ]
    },
    {
     "name": "stderr",
     "output_type": "stream",
     "text": [
      "\n",
      "4it [53:48, 809.20s/it]"
     ]
    },
    {
     "name": "stdout",
     "output_type": "stream",
     "text": [
      "Best_fitness: [0.06296343]\n"
     ]
    },
    {
     "name": "stderr",
     "output_type": "stream",
     "text": [
      "\n",
      "5it [1:07:09, 806.75s/it]"
     ]
    },
    {
     "name": "stdout",
     "output_type": "stream",
     "text": [
      "Best_fitness: [0.02545586]\n"
     ]
    },
    {
     "name": "stderr",
     "output_type": "stream",
     "text": [
      "\n",
      "6it [1:20:30, 804.90s/it]"
     ]
    },
    {
     "name": "stdout",
     "output_type": "stream",
     "text": [
      "Best_fitness: [0.22505402]\n"
     ]
    },
    {
     "name": "stderr",
     "output_type": "stream",
     "text": [
      "\n",
      "7it [1:33:36, 799.20s/it]"
     ]
    },
    {
     "name": "stdout",
     "output_type": "stream",
     "text": [
      "Best_fitness: [0.00441714]\n"
     ]
    },
    {
     "name": "stderr",
     "output_type": "stream",
     "text": [
      "\n",
      "8it [1:46:56, 799.68s/it]"
     ]
    },
    {
     "name": "stdout",
     "output_type": "stream",
     "text": [
      "Best_fitness: [0.12714241]\n"
     ]
    },
    {
     "name": "stderr",
     "output_type": "stream",
     "text": [
      "\n",
      "9it [2:00:27, 802.96s/it]"
     ]
    },
    {
     "name": "stdout",
     "output_type": "stream",
     "text": [
      "Best_fitness: [0.04822035]\n"
     ]
    },
    {
     "name": "stderr",
     "output_type": "stream",
     "text": [
      "\n",
      "10it [2:13:46, 801.79s/it]"
     ]
    },
    {
     "name": "stdout",
     "output_type": "stream",
     "text": [
      "Best_fitness: [0.12495979]\n"
     ]
    },
    {
     "name": "stderr",
     "output_type": "stream",
     "text": [
      "\n",
      "11it [2:27:17, 804.47s/it]"
     ]
    },
    {
     "name": "stdout",
     "output_type": "stream",
     "text": [
      "Best_fitness: [0.00557207]\n"
     ]
    },
    {
     "name": "stderr",
     "output_type": "stream",
     "text": [
      "\n",
      "12it [2:40:21, 798.38s/it]"
     ]
    },
    {
     "name": "stdout",
     "output_type": "stream",
     "text": [
      "Best_fitness: [0.03934816]\n"
     ]
    },
    {
     "name": "stderr",
     "output_type": "stream",
     "text": [
      "\n",
      "13it [2:53:20, 792.67s/it]"
     ]
    },
    {
     "name": "stdout",
     "output_type": "stream",
     "text": [
      "Best_fitness: [0.06504642]\n"
     ]
    },
    {
     "name": "stderr",
     "output_type": "stream",
     "text": [
      "\n",
      "14it [3:06:19, 788.40s/it]"
     ]
    },
    {
     "name": "stdout",
     "output_type": "stream",
     "text": [
      "Best_fitness: [0.07260976]\n"
     ]
    },
    {
     "name": "stderr",
     "output_type": "stream",
     "text": [
      "\n",
      "15it [3:19:42, 792.97s/it]"
     ]
    },
    {
     "name": "stdout",
     "output_type": "stream",
     "text": [
      "Best_fitness: [0.00565104]\n"
     ]
    },
    {
     "name": "stderr",
     "output_type": "stream",
     "text": [
      "\n",
      "16it [3:32:43, 789.19s/it]"
     ]
    },
    {
     "name": "stdout",
     "output_type": "stream",
     "text": [
      "Best_fitness: [0.0194473]\n"
     ]
    },
    {
     "name": "stderr",
     "output_type": "stream",
     "text": [
      "\n",
      "17it [3:45:55, 790.15s/it]"
     ]
    },
    {
     "name": "stdout",
     "output_type": "stream",
     "text": [
      "Best_fitness: [0.09637254]\n"
     ]
    },
    {
     "name": "stderr",
     "output_type": "stream",
     "text": [
      "\n",
      "18it [3:59:11, 791.75s/it]"
     ]
    },
    {
     "name": "stdout",
     "output_type": "stream",
     "text": [
      "Best_fitness: [0.03445244]\n"
     ]
    },
    {
     "name": "stderr",
     "output_type": "stream",
     "text": [
      "\n",
      "19it [4:12:28, 793.42s/it]"
     ]
    },
    {
     "name": "stdout",
     "output_type": "stream",
     "text": [
      "Best_fitness: [0.06544985]\n"
     ]
    },
    {
     "name": "stderr",
     "output_type": "stream",
     "text": [
      "\n",
      "20it [4:25:36, 796.83s/it]\n",
      "4it [14:07:08, 12707.22s/it]\n"
     ]
    }
   ],
   "source": [
    "       \n",
    "for i, dataset in tqdm(enumerate(datasets)):\n",
    "    X_train, y_train = dataset.iloc[:,:-1].to_numpy(), dataset.iloc[:,1].to_numpy()\n",
    "\n",
    "    splitted_X_train, splitted_y_train = shuffle_and_split(X_train, y_train, batch_size=20)\n",
    "    \n",
    "    perfs[list(perfs.keys())[i]][\"batch_size:20 swarmsize:200 itercount:200\"] = []\n",
    "    network = nets[i]\n",
    "    for (x_batch,y_batch) in tqdm(zip(splitted_X_train,splitted_y_train)):\n",
    "        perf = network.train_with_pso(x_batch, y_batch, swarm_size=200, iter_count=200)\n",
    "        perfs[list(perfs.keys())[i]][\"batch_size:20 swarmsize:200 itercount:200\"].append(perf)\n",
    " "
   ]
  },
  {
   "cell_type": "code",
   "execution_count": 14,
   "metadata": {},
   "outputs": [
    {
     "name": "stderr",
     "output_type": "stream",
     "text": [
      "\r",
      "0it [00:00, ?it/s]"
     ]
    },
    {
     "name": "stdout",
     "output_type": "stream",
     "text": [
      "data/1in_tanh.txt\n",
      "0.3105594808220541\n",
      "{'weights': {'w1': array([[1.29959325]])}, 'biases': {'b1': array([[0.40102346]])}, 'activationFunctions': {'a1': 'arctan'}, 'fp_activation': {'w1': array([[1.03923075]])}, 'deltas': {}}\n",
      "data/1in_linear.txt\n",
      "0.010075521452264546\n",
      "{'weights': {'w1': array([[0.97585357]])}, 'biases': {'b1': array([[0.01854913]])}, 'activationFunctions': {'a1': 'prelu'}, 'fp_activation': {'w1': array([[0.97488562]])}, 'deltas': {}}\n",
      "data/1in_cubic.txt\n",
      "0.08386435972999291\n",
      "{'weights': {'w1': array([[0.61622556],\n",
      "       [0.73985546],\n",
      "       [0.85676743]]), 'w2': array([[0.62846182, 0.88063874, 0.95142929]])}, 'biases': {'b1': array([[0.72151288],\n",
      "       [0.76771017],\n",
      "       [0.7278703 ]]), 'b2': array([[0.68174396]])}, 'activationFunctions': {'a1': 'cosine', 'a2': 'gaussian'}, 'fp_activation': {'w1': array([[ 0.23095381],\n",
      "       [ 0.06318857],\n",
      "       [-0.01384096]]), 'w2': array([[0.68529925]])}, 'deltas': {}}\n",
      "data/1in_sine.txt\n",
      "0.13163535141178523\n",
      "{'weights': {'w1': array([[0.90703318],\n",
      "       [0.63139022],\n",
      "       [0.82136837]]), 'w2': array([[0.5219364 , 0.48086067, 0.77103374]])}, 'biases': {'b1': array([[0.38656499],\n",
      "       [0.56380128],\n",
      "       [0.4081431 ]]), 'b2': array([[0.64001335]])}, 'activationFunctions': {'a1': 'relu', 'a2': 'cosine'}, 'fp_activation': {'w1': array([[1.25767965],\n",
      "       [1.17018845],\n",
      "       [1.19698528]]), 'w2': array([[-0.93605987]])}, 'deltas': {}}\n"
     ]
    },
    {
     "name": "stderr",
     "output_type": "stream",
     "text": [
      "4it [00:00, 66.81it/s]\n"
     ]
    }
   ],
   "source": [
    "for i, dataset in tqdm(enumerate(datasets)):\n",
    "    print(ONE_IN_FILES[i])\n",
    "    network = nets[i]\n",
    "    X_train, y_train = dataset.iloc[:,:-1].to_numpy(), dataset.iloc[:,1].to_numpy()\n",
    "    print(network.test(X_train, y_train))\n",
    "    print(network.network)"
   ]
  },
  {
   "cell_type": "code",
   "execution_count": 25,
   "metadata": {},
   "outputs": [
    {
     "data": {
      "text/plain": [
       "{'1in_tan': {'shallow': {'model': <classes.network.Network at 0x1a007eac198>,\n",
       "   'train_perfs': [[0.23799435735371297,\n",
       "     0.23799435735371297,\n",
       "     0.23799435735371297,\n",
       "     0.23799435735371297,\n",
       "     0.23799435735371297,\n",
       "     0.23799435735371297,\n",
       "     0.23799435735371297,\n",
       "     0.2345112827552037,\n",
       "     0.23420057472987676,\n",
       "     0.23225096603977666],\n",
       "    [0.3216436849409027,\n",
       "     0.2883782805800687,\n",
       "     0.2883782805800687,\n",
       "     0.2828769479879259,\n",
       "     0.2749441157728493,\n",
       "     0.2726247518298349,\n",
       "     0.2726247518298349,\n",
       "     0.2726247518298349,\n",
       "     0.2726247518298349,\n",
       "     0.2719360983335553],\n",
       "    [0.5460881126219124,\n",
       "     0.46686170595130505,\n",
       "     0.4622064633957046,\n",
       "     0.4622064633957046,\n",
       "     0.4622064633957046,\n",
       "     0.4622064633957046,\n",
       "     0.4622064633957046,\n",
       "     0.4569856620050011,\n",
       "     0.449812533399563,\n",
       "     0.449812533399563],\n",
       "    [0.18739028702453192,\n",
       "     0.1563423213783648,\n",
       "     0.12766255552967637,\n",
       "     0.1144870905373161,\n",
       "     0.1144870905373161,\n",
       "     0.1144870905373161,\n",
       "     0.1144870905373161,\n",
       "     0.11408971914482484,\n",
       "     0.11339101716663577,\n",
       "     0.11205546737247003],\n",
       "    [0.269452279563321,\n",
       "     0.2520421624436292,\n",
       "     0.23948148211189615,\n",
       "     0.23502564144471236,\n",
       "     0.23502564144471236,\n",
       "     0.23353013171806108,\n",
       "     0.23212290563066432,\n",
       "     0.23151748503263817,\n",
       "     0.23098482965258213,\n",
       "     0.23006865795062956],\n",
       "    [0.3354168801293131,\n",
       "     0.3354168801293131,\n",
       "     0.3354168801293131,\n",
       "     0.3354168801293131,\n",
       "     0.3354168801293131,\n",
       "     0.3354168801293131,\n",
       "     0.32549668089276945,\n",
       "     0.31318330812351264,\n",
       "     0.3061017117549456,\n",
       "     0.30558490845247366],\n",
       "    [0.39777645522450306,\n",
       "     0.39777645522450306,\n",
       "     0.39777645522450306,\n",
       "     0.39777645522450306,\n",
       "     0.39777645522450306,\n",
       "     0.39777645522450306,\n",
       "     0.39777645522450306,\n",
       "     0.39777645522450306,\n",
       "     0.39219563230900006,\n",
       "     0.38872904524016005],\n",
       "    [0.2943183166997186,\n",
       "     0.20595197142076857,\n",
       "     0.17769278609304962,\n",
       "     0.17769278609304962,\n",
       "     0.17769278609304962,\n",
       "     0.17460601201696835,\n",
       "     0.1730629269779645,\n",
       "     0.1730629269779645,\n",
       "     0.1730629269779645,\n",
       "     0.17150180007793872],\n",
       "    [0.48238093636295387,\n",
       "     0.4591036063941251,\n",
       "     0.4591036063941251,\n",
       "     0.44565437434126415,\n",
       "     0.44565437434126415,\n",
       "     0.44565437434126415,\n",
       "     0.4438128064518211,\n",
       "     0.4392016523675591,\n",
       "     0.43453591827184945,\n",
       "     0.4302833044337797],\n",
       "    [0.35171667540309565,\n",
       "     0.35171667540309565,\n",
       "     0.35171667540309565,\n",
       "     0.35171667540309565,\n",
       "     0.35171667540309565,\n",
       "     0.35171667540309565,\n",
       "     0.35171667540309565,\n",
       "     0.35171667540309565,\n",
       "     0.35171667540309565,\n",
       "     0.35171667540309565],\n",
       "    [0.11859983257235211,\n",
       "     0.07251101479575366,\n",
       "     0.06947271411723514,\n",
       "     0.06299763496101417,\n",
       "     0.06084713150808198,\n",
       "     0.05998798807500115,\n",
       "     0.05833626932729483,\n",
       "     0.057260768462821056,\n",
       "     0.05658731112978825,\n",
       "     0.056388674231453995],\n",
       "    [0.10601219641806628,\n",
       "     0.08598019879959654,\n",
       "     0.060214677197755175,\n",
       "     0.05879829256805691,\n",
       "     0.052461876319396826,\n",
       "     0.052461876319396826,\n",
       "     0.052461876319396826,\n",
       "     0.05203281235652131,\n",
       "     0.05026656423024647,\n",
       "     0.049708912004611555],\n",
       "    [0.31819068308886594,\n",
       "     0.31819068308886594,\n",
       "     0.3124081449663606,\n",
       "     0.3047945956600615,\n",
       "     0.3047945956600615,\n",
       "     0.291362131766714,\n",
       "     0.2889999756549696,\n",
       "     0.28766668064243467,\n",
       "     0.28729184376704164,\n",
       "     0.28718167504093595],\n",
       "    [0.20739505358319751,\n",
       "     0.20739505358319751,\n",
       "     0.20739505358319751,\n",
       "     0.20739505358319751,\n",
       "     0.20739505358319751,\n",
       "     0.20739505358319751,\n",
       "     0.20739505358319751,\n",
       "     0.2063409826014287,\n",
       "     0.2043973779817756,\n",
       "     0.20358920790143648],\n",
       "    [0.20823708493494522,\n",
       "     0.18554492651352966,\n",
       "     0.18554492651352966,\n",
       "     0.18554492651352966,\n",
       "     0.18554492651352966,\n",
       "     0.18554492651352966,\n",
       "     0.18554492651352966,\n",
       "     0.18554492651352966,\n",
       "     0.18229610523278098,\n",
       "     0.17993738876069587],\n",
       "    [0.4166021663958023,\n",
       "     0.4166021663958023,\n",
       "     0.4166021663958023,\n",
       "     0.4166021663958023,\n",
       "     0.4073722722878112,\n",
       "     0.4073722722878112,\n",
       "     0.4073722722878112,\n",
       "     0.4041397748115597,\n",
       "     0.4016992959821531,\n",
       "     0.4016992959821531],\n",
       "    [0.4853233319946842,\n",
       "     0.4853233319946842,\n",
       "     0.4853233319946842,\n",
       "     0.4853233319946842,\n",
       "     0.4853233319946842,\n",
       "     0.4853233319946842,\n",
       "     0.4853233319946842,\n",
       "     0.4853233319946842,\n",
       "     0.4853233319946842,\n",
       "     0.4853233319946842],\n",
       "    [0.27330584920358364,\n",
       "     0.27330584920358364,\n",
       "     0.27330584920358364,\n",
       "     0.27330584920358364,\n",
       "     0.27330584920358364,\n",
       "     0.2639743512090368,\n",
       "     0.25416774837180295,\n",
       "     0.252983556892359,\n",
       "     0.252983556892359,\n",
       "     0.252983556892359],\n",
       "    [0.47860709308335825,\n",
       "     0.47860709308335825,\n",
       "     0.47860709308335825,\n",
       "     0.47538290798442684,\n",
       "     0.4711574447206264,\n",
       "     0.44040442214473324,\n",
       "     0.4353313440338497,\n",
       "     0.4353313440338497,\n",
       "     0.43242213582077016,\n",
       "     0.42736427938192467]],\n",
       "   'test_perfs': 0.38824816006610957,\n",
       "   'exec_time': -0.0007770000001983135},\n",
       "  'deep': {'model': <classes.network.Network at 0x1a0056aa940>,\n",
       "   'train_perfs': [[0.38268100770226415,\n",
       "     0.020111101134190026,\n",
       "     0.020111101134190026,\n",
       "     0.020111101134190026,\n",
       "     0.018558174496896836,\n",
       "     0.01681586372977931,\n",
       "     0.015521686268179331,\n",
       "     0.013398869081794329,\n",
       "     0.013398869081794329,\n",
       "     0.013398869081794329],\n",
       "    [0.48866391137205056,\n",
       "     0.13270275744899454,\n",
       "     0.13270275744899454,\n",
       "     0.13270275744899454,\n",
       "     0.13270275744899454,\n",
       "     0.13270275744899454,\n",
       "     0.12994223899488525,\n",
       "     0.12994223899488525,\n",
       "     0.12160176369129325,\n",
       "     0.11585795423884031],\n",
       "    [0.47224130888740434,\n",
       "     0.30518956659933993,\n",
       "     0.30518956659933993,\n",
       "     0.271278089103267,\n",
       "     0.251538445478954,\n",
       "     0.25087164423950714,\n",
       "     0.24118554651142327,\n",
       "     0.2267659704268919,\n",
       "     0.2261310013265339,\n",
       "     0.16461567165806937],\n",
       "    [0.31573206574306545,\n",
       "     0.1447792900172336,\n",
       "     0.03238386151513013,\n",
       "     0.03238386151513013,\n",
       "     0.03238386151513013,\n",
       "     0.014362209955672361,\n",
       "     0.01326274592644514,\n",
       "     0.011585126928996456,\n",
       "     0.010634733999918723,\n",
       "     0.006973517369972662],\n",
       "    [0.33809276896549934,\n",
       "     0.28268325985115067,\n",
       "     0.13907095367439307,\n",
       "     0.13907095367439307,\n",
       "     0.13907095367439307,\n",
       "     0.13907095367439307,\n",
       "     0.13907095367439307,\n",
       "     0.13907095367439307,\n",
       "     0.13700995959164705,\n",
       "     0.13700995959164705],\n",
       "    [0.2627874406748193,\n",
       "     0.11943277680308814,\n",
       "     0.018892725227956243,\n",
       "     0.018892725227956243,\n",
       "     0.018892725227956243,\n",
       "     0.018892725227956243,\n",
       "     0.018892725227956243,\n",
       "     0.018892725227956243,\n",
       "     0.018892725227956243,\n",
       "     0.018892725227956243],\n",
       "    [0.41135765833218974,\n",
       "     0.14079976529933505,\n",
       "     0.14079976529933505,\n",
       "     0.12074696537884895,\n",
       "     0.11285263699690547,\n",
       "     0.11043546202431945,\n",
       "     0.11043546202431945,\n",
       "     0.1079829935876941,\n",
       "     0.1079829935876941,\n",
       "     0.1065305172758459],\n",
       "    [0.1486213610981651,\n",
       "     0.1486213610981651,\n",
       "     0.10846322440867198,\n",
       "     0.08434492398775438,\n",
       "     0.08434492398775438,\n",
       "     0.08400890406555556,\n",
       "     0.07876832456882633,\n",
       "     0.0766944495549128,\n",
       "     0.0766944495549128,\n",
       "     0.07617311256031674],\n",
       "    [0.5976338539314899,\n",
       "     0.40489129804707336,\n",
       "     0.3116950494649532,\n",
       "     0.3116950494649532,\n",
       "     0.30554578538424054,\n",
       "     0.30554578538424054,\n",
       "     0.2853063579940672,\n",
       "     0.2853063579940672,\n",
       "     0.2853063579940672,\n",
       "     0.2815172833241706],\n",
       "    [0.21953838897599218,\n",
       "     0.122574014015656,\n",
       "     0.122574014015656,\n",
       "     0.11836877463380283,\n",
       "     0.11376062239629645,\n",
       "     0.10161920118884529,\n",
       "     0.10114666567317947,\n",
       "     0.09876676329018948,\n",
       "     0.09711206294216655,\n",
       "     0.0966234230475314],\n",
       "    [0.12911123650719186,\n",
       "     0.07755619279521145,\n",
       "     0.05450288330357145,\n",
       "     0.05450288330357145,\n",
       "     0.04642236705118245,\n",
       "     0.04642236705118245,\n",
       "     0.03166731786182342,\n",
       "     0.029919365315038006,\n",
       "     0.029448225681332364,\n",
       "     0.029311574895678066],\n",
       "    [0.11067347058642867,\n",
       "     0.01115262073149658,\n",
       "     0.01115262073149658,\n",
       "     0.01115262073149658,\n",
       "     0.01115262073149658,\n",
       "     0.01115262073149658,\n",
       "     0.009125370491569192,\n",
       "     0.009125370491569192,\n",
       "     0.008535556020262566,\n",
       "     0.008259326215243747],\n",
       "    [0.5741842685946483,\n",
       "     0.07527419791060971,\n",
       "     0.04850857476732428,\n",
       "     0.04850857476732428,\n",
       "     0.04850857476732428,\n",
       "     0.04850857476732428,\n",
       "     0.04850857476732428,\n",
       "     0.046179315045455596,\n",
       "     0.04085978509097492,\n",
       "     0.038256237974321226],\n",
       "    [0.07042834767120303,\n",
       "     0.0409811943938397,\n",
       "     0.0058883825097096176,\n",
       "     0.005574325121327568,\n",
       "     0.005570338256834446,\n",
       "     0.0038177142214890986,\n",
       "     0.0038177142214890986,\n",
       "     0.0038177142214890986,\n",
       "     0.003739098559646706,\n",
       "     0.0036502012364916306],\n",
       "    [0.5620082831326617,\n",
       "     0.24661810348724958,\n",
       "     0.07069334000376282,\n",
       "     0.07069334000376282,\n",
       "     0.07069334000376282,\n",
       "     0.07069334000376282,\n",
       "     0.07069334000376282,\n",
       "     0.06380696839314239,\n",
       "     0.059930650480031565,\n",
       "     0.05886945122134498],\n",
       "    [0.5096226211513295,\n",
       "     0.3658696959691913,\n",
       "     0.28007475557917044,\n",
       "     0.20395064768498222,\n",
       "     0.20395064768498222,\n",
       "     0.20395064768498222,\n",
       "     0.20395064768498222,\n",
       "     0.20395064768498222,\n",
       "     0.19990120478833928,\n",
       "     0.19694282242328923],\n",
       "    [0.5537536514092551,\n",
       "     0.4275554095962031,\n",
       "     0.2730413626481424,\n",
       "     0.1861741559794004,\n",
       "     0.1861741559794004,\n",
       "     0.1861741559794004,\n",
       "     0.1861741559794004,\n",
       "     0.1770349808804877,\n",
       "     0.1770349808804877,\n",
       "     0.17665347023652114],\n",
       "    [0.5709016159936293,\n",
       "     0.14114862681596657,\n",
       "     0.12803594533573265,\n",
       "     0.12803594533573265,\n",
       "     0.12803594533573265,\n",
       "     0.09845619449200001,\n",
       "     0.09845619449200001,\n",
       "     0.09845619449200001,\n",
       "     0.09845619449200001,\n",
       "     0.09845619449200001],\n",
       "    [0.07997860142316951,\n",
       "     0.0019654063711963864,\n",
       "     0.0019654063711963864,\n",
       "     0.0019654063711963864,\n",
       "     0.0019654063711963864,\n",
       "     0.0019654063711963864,\n",
       "     0.0019654063711963864,\n",
       "     0.0019654063711963864,\n",
       "     0.0015703256381128048,\n",
       "     0.0007564297903148484]],\n",
       "   'test_perfs': 0.29896031900950215,\n",
       "   'exec_time': -0.00015849999954298255}},\n",
       " '1in_linear': {'shallow': {'model': <classes.network.Network at 0x1a007fcbcf8>,\n",
       "   'train_perfs': [[0.025379159906312603,\n",
       "     0.025379159906312603,\n",
       "     0.025379159906312603,\n",
       "     0.025379159906312603,\n",
       "     0.025379159906312603,\n",
       "     0.025379159906312603,\n",
       "     0.025379159906312603,\n",
       "     0.025379159906312603,\n",
       "     0.02397738245857923,\n",
       "     0.02312148745756239],\n",
       "    [0.017722084437907938,\n",
       "     0.008402491261873255,\n",
       "     0.007185506797359298,\n",
       "     0.0069613320891230845,\n",
       "     0.006906362815728354,\n",
       "     0.006610564773302174,\n",
       "     0.005961972974581206,\n",
       "     0.0051641452223885505,\n",
       "     0.0035635005289598566,\n",
       "     0.003334293647819811],\n",
       "    [0.05718510936487633,\n",
       "     0.050533791279507155,\n",
       "     0.050533791279507155,\n",
       "     0.050533791279507155,\n",
       "     0.050533791279507155,\n",
       "     0.050533791279507155,\n",
       "     0.04852343233952674,\n",
       "     0.04183734542463175,\n",
       "     0.03993740715116294,\n",
       "     0.03937851735196797],\n",
       "    [0.04152203547195778,\n",
       "     0.04152203547195778,\n",
       "     0.04152203547195778,\n",
       "     0.03789161042922244,\n",
       "     0.03789161042922244,\n",
       "     0.03789161042922244,\n",
       "     0.03789161042922244,\n",
       "     0.03789161042922244,\n",
       "     0.035848460211039455,\n",
       "     0.03516015567049023],\n",
       "    [0.018443232173076144,\n",
       "     0.018443232173076144,\n",
       "     0.018443232173076144,\n",
       "     0.018443232173076144,\n",
       "     0.018443232173076144,\n",
       "     0.018443232173076144,\n",
       "     0.018443232173076144,\n",
       "     0.018443232173076144,\n",
       "     0.018443232173076144,\n",
       "     0.018443232173076144],\n",
       "    [0.03417478355664855,\n",
       "     0.03417478355664855,\n",
       "     0.03417478355664855,\n",
       "     0.03417478355664855,\n",
       "     0.03417478355664855,\n",
       "     0.03417478355664855,\n",
       "     0.03417478355664855,\n",
       "     0.03417478355664855,\n",
       "     0.031924404618121585,\n",
       "     0.03105590275645559],\n",
       "    [0.03316770340396931,\n",
       "     0.03316770340396931,\n",
       "     0.03316770340396931,\n",
       "     0.03316770340396931,\n",
       "     0.030875555300249786,\n",
       "     0.02925927374259472,\n",
       "     0.027735564455324692,\n",
       "     0.02710561752466848,\n",
       "     0.026632863548114928,\n",
       "     0.026494057731861004],\n",
       "    [0.05488565364303344,\n",
       "     0.05488565364303344,\n",
       "     0.05488565364303344,\n",
       "     0.05488565364303344,\n",
       "     0.05488565364303344,\n",
       "     0.043740481773366716,\n",
       "     0.043095246224809626,\n",
       "     0.043095246224809626,\n",
       "     0.042946615978764875,\n",
       "     0.04079929832509256],\n",
       "    [0.03098579604281072,\n",
       "     0.027190369294943957,\n",
       "     0.007068888385461566,\n",
       "     0.007068888385461566,\n",
       "     0.007068888385461566,\n",
       "     0.007068888385461566,\n",
       "     0.007068888385461566,\n",
       "     0.007068888385461566,\n",
       "     0.007068888385461566,\n",
       "     0.00668846211440399],\n",
       "    [0.05233574421681898,\n",
       "     0.012834278933121987,\n",
       "     0.012834278933121987,\n",
       "     0.012834278933121987,\n",
       "     0.012834278933121987,\n",
       "     0.012834278933121987,\n",
       "     0.010338247897250545,\n",
       "     0.009657993692144064,\n",
       "     0.009470459067608027,\n",
       "     0.00941569705960217],\n",
       "    [0.02459430251865467,\n",
       "     0.02459430251865467,\n",
       "     0.02459430251865467,\n",
       "     0.02459430251865467,\n",
       "     0.02459430251865467,\n",
       "     0.02459430251865467,\n",
       "     0.02459430251865467,\n",
       "     0.02459430251865467,\n",
       "     0.023734280402876156,\n",
       "     0.022432383633216667],\n",
       "    [0.15203404550124633,\n",
       "     0.1086026091262183,\n",
       "     0.09719358553910763,\n",
       "     0.0940351741772035,\n",
       "     0.09311100425217399,\n",
       "     0.09283584277979803,\n",
       "     0.049219351696010716,\n",
       "     0.049219351696010716,\n",
       "     0.049219351696010716,\n",
       "     0.049219351696010716],\n",
       "    [0.02793084606957568,\n",
       "     0.024583155433548158,\n",
       "     0.024583155433548158,\n",
       "     0.024583155433548158,\n",
       "     0.023779716761414407,\n",
       "     0.02283375449010259,\n",
       "     0.022556450360863796,\n",
       "     0.020237132741041924,\n",
       "     0.01919287923202321,\n",
       "     0.01847124943372911],\n",
       "    [0.009488303351448598,\n",
       "     0.009488303351448598,\n",
       "     0.009488303351448598,\n",
       "     0.009488303351448598,\n",
       "     0.009488303351448598,\n",
       "     0.009488303351448598,\n",
       "     0.009488303351448598,\n",
       "     0.009488303351448598,\n",
       "     0.009488303351448598,\n",
       "     0.009488303351448598],\n",
       "    [0.06398446445978756,\n",
       "     0.06398446445978756,\n",
       "     0.06398446445978756,\n",
       "     0.06398446445978756,\n",
       "     0.028607841085028052,\n",
       "     0.028607841085028052,\n",
       "     0.028607841085028052,\n",
       "     0.028607841085028052,\n",
       "     0.028607841085028052,\n",
       "     0.028607841085028052],\n",
       "    [0.04721080511681076,\n",
       "     0.04721080511681076,\n",
       "     0.04721080511681076,\n",
       "     0.04721080511681076,\n",
       "     0.04721080511681076,\n",
       "     0.04721080511681076,\n",
       "     0.04646181786992484,\n",
       "     0.04205944952890027,\n",
       "     0.040498899219089494,\n",
       "     0.040498899219089494],\n",
       "    [0.1038020303694033,\n",
       "     0.022987741030757052,\n",
       "     0.022987741030757052,\n",
       "     0.022987741030757052,\n",
       "     0.022987741030757052,\n",
       "     0.022987741030757052,\n",
       "     0.022987741030757052,\n",
       "     0.022987741030757052,\n",
       "     0.022987741030757052,\n",
       "     0.022987741030757052],\n",
       "    [0.010526545522991522,\n",
       "     0.010526545522991522,\n",
       "     0.010526545522991522,\n",
       "     0.010526545522991522,\n",
       "     0.010526545522991522,\n",
       "     0.010526545522991522,\n",
       "     0.010526545522991522,\n",
       "     0.010225812496726354,\n",
       "     0.009399519990070307,\n",
       "     0.009399519990070307],\n",
       "    [0.013786593515937622,\n",
       "     0.013786593515937622,\n",
       "     0.013786593515937622,\n",
       "     0.013786593515937622,\n",
       "     0.013786593515937622,\n",
       "     0.013786593515937622,\n",
       "     0.013786593515937622,\n",
       "     0.013786593515937622,\n",
       "     0.013786593515937622,\n",
       "     0.013674803263330667]],\n",
       "   'test_perfs': 0.011827324932823966,\n",
       "   'exec_time': -0.0019315000008646166},\n",
       "  'deep': {'model': <classes.network.Network at 0x1a00565f940>,\n",
       "   'train_perfs': [[0.054833522371372,\n",
       "     0.054833522371372,\n",
       "     0.0057263920015718835,\n",
       "     0.0057263920015718835,\n",
       "     0.0057263920015718835,\n",
       "     0.002196737485998847,\n",
       "     0.0018116273350192468,\n",
       "     0.0016525346447492932,\n",
       "     0.0012386384350979512,\n",
       "     0.000489240116986577],\n",
       "    [0.08695831630395116,\n",
       "     0.07380642456074485,\n",
       "     0.04686968379230556,\n",
       "     0.012573242897474125,\n",
       "     0.012573242897474125,\n",
       "     0.012573242897474125,\n",
       "     0.012573242897474125,\n",
       "     0.012573242897474125,\n",
       "     0.012573242897474125,\n",
       "     0.012573242897474125],\n",
       "    [0.18395463935378642,\n",
       "     0.13750251758869556,\n",
       "     0.04665937251968581,\n",
       "     0.01802504692916511,\n",
       "     0.017989963960058225,\n",
       "     0.017989963960058225,\n",
       "     0.017989963960058225,\n",
       "     0.017989963960058225,\n",
       "     0.017989963960058225,\n",
       "     0.016009653609286616],\n",
       "    [0.14817417095332042,\n",
       "     0.025606727138943963,\n",
       "     0.0173717489269459,\n",
       "     0.016304750992565065,\n",
       "     0.016304750992565065,\n",
       "     0.016304750992565065,\n",
       "     0.01573097441898135,\n",
       "     0.015649222954181835,\n",
       "     0.015537226732390733,\n",
       "     0.015419684096084147],\n",
       "    [0.04109175681112023,\n",
       "     0.04109175681112023,\n",
       "     0.04109175681112023,\n",
       "     0.04109175681112023,\n",
       "     0.02581156771272077,\n",
       "     0.02581156771272077,\n",
       "     0.02136961839684213,\n",
       "     0.02136961839684213,\n",
       "     0.020682395844829022,\n",
       "     0.01956879031284821],\n",
       "    [0.12535736372327164,\n",
       "     0.029607392615865,\n",
       "     0.029607392615865,\n",
       "     0.029607392615865,\n",
       "     0.024439168674419098,\n",
       "     0.024439168674419098,\n",
       "     0.020889424591778456,\n",
       "     0.01953604251086338,\n",
       "     0.01953604251086338,\n",
       "     0.01953604251086338],\n",
       "    [0.08969352216270612,\n",
       "     0.010424707021923349,\n",
       "     0.010424707021923349,\n",
       "     0.010424707021923349,\n",
       "     0.008211447811504903,\n",
       "     0.0038165332392394538,\n",
       "     0.00339478691355057,\n",
       "     0.00339478691355057,\n",
       "     0.0032529165425988,\n",
       "     0.0031715031988003607],\n",
       "    [0.14649860165027387,\n",
       "     0.03194148298911394,\n",
       "     0.022642759277751882,\n",
       "     0.01914716176401942,\n",
       "     0.01809819796047559,\n",
       "     0.01639350307748218,\n",
       "     0.01598633535749668,\n",
       "     0.01432686076687022,\n",
       "     0.012940151545915077,\n",
       "     0.012940151545915077],\n",
       "    [0.03639121413995876,\n",
       "     0.02127027869112651,\n",
       "     0.009059132625515588,\n",
       "     0.009059132625515588,\n",
       "     0.009059132625515588,\n",
       "     0.008313750483433819,\n",
       "     0.0044289089824930215,\n",
       "     0.0044289089824930215,\n",
       "     0.0044289089824930215,\n",
       "     0.0044289089824930215],\n",
       "    [0.03855047598056852,\n",
       "     0.03855047598056852,\n",
       "     0.01851502578865699,\n",
       "     0.010173032058623103,\n",
       "     0.009964262099461125,\n",
       "     0.007814722406962923,\n",
       "     0.007706520099261642,\n",
       "     0.006022993590882668,\n",
       "     0.006022993590882668,\n",
       "     0.006022993590882668],\n",
       "    [0.09340870938611241,\n",
       "     0.014271829687272159,\n",
       "     0.004674428750247404,\n",
       "     0.0031311304824672764,\n",
       "     0.0031311304824672764,\n",
       "     0.00014113501440057356,\n",
       "     0.00014113501440057356,\n",
       "     0.00013877878375847204,\n",
       "     0.00011006226116686541,\n",
       "     0.00010422205380029384],\n",
       "    [0.04981855433522958,\n",
       "     0.014586064056682104,\n",
       "     0.014586064056682104,\n",
       "     0.01351768356720597,\n",
       "     0.01351768356720597,\n",
       "     0.01351768356720597,\n",
       "     0.011737590057881098,\n",
       "     0.011737590057881098,\n",
       "     0.011737590057881098,\n",
       "     0.01060844771154607],\n",
       "    [0.11444440023607665,\n",
       "     0.02067420999509373,\n",
       "     0.02067420999509373,\n",
       "     0.02067420999509373,\n",
       "     0.012777800825368871,\n",
       "     0.006295075583769005,\n",
       "     0.004563942817891664,\n",
       "     0.003951060075387635,\n",
       "     0.003913745405062706,\n",
       "     0.0035855070713475094],\n",
       "    [0.02881459527789703,\n",
       "     0.02881459527789703,\n",
       "     0.007463894880812279,\n",
       "     0.006701920262655428,\n",
       "     0.002576904293536504,\n",
       "     0.0018610175404999468,\n",
       "     0.001615312549060871,\n",
       "     0.0009637135326570065,\n",
       "     0.0009637135326570065,\n",
       "     0.0006601526005304891],\n",
       "    [0.026271832199985135,\n",
       "     0.026271832199985135,\n",
       "     0.01578317115674327,\n",
       "     0.01578317115674327,\n",
       "     0.01578317115674327,\n",
       "     0.004441522922579014,\n",
       "     0.004441522922579014,\n",
       "     0.0041938897917457515,\n",
       "     0.0041938897917457515,\n",
       "     0.004063634270330066],\n",
       "    [0.13560608677939867,\n",
       "     0.002758511512874703,\n",
       "     0.002758511512874703,\n",
       "     0.0021112378370684733,\n",
       "     0.0021112378370684733,\n",
       "     0.0013914957352317114,\n",
       "     0.0011036160304276766,\n",
       "     0.0008891855297427388,\n",
       "     0.0008720296340099269,\n",
       "     0.0008222200539073198],\n",
       "    [0.1900122329752914,\n",
       "     0.06208349423658095,\n",
       "     0.037687570129962135,\n",
       "     0.016319167846848337,\n",
       "     0.012114670482384722,\n",
       "     0.010944372664521118,\n",
       "     0.010526154151146985,\n",
       "     0.010526154151146985,\n",
       "     0.010526154151146985,\n",
       "     0.009938943055353113],\n",
       "    [0.031150306560020186,\n",
       "     0.017832150543146817,\n",
       "     0.01490714136934429,\n",
       "     0.01010691012972226,\n",
       "     0.006149834861900702,\n",
       "     0.0043369687849786846,\n",
       "     0.0043369687849786846,\n",
       "     0.0036110415360398477,\n",
       "     0.0036110415360398477,\n",
       "     0.0036110415360398477],\n",
       "    [0.03089489964443436,\n",
       "     0.018723504062679815,\n",
       "     0.018723504062679815,\n",
       "     0.008466384514955476,\n",
       "     0.003351315057144379,\n",
       "     0.0027637985152335984,\n",
       "     0.002611843284652161,\n",
       "     0.0012766602809589456,\n",
       "     0.0012526076269134133,\n",
       "     0.0011840478818383442]],\n",
       "   'test_perfs': 0.011349200814112427,\n",
       "   'exec_time': 5.539999983739108e-05}},\n",
       " '1in_cubic': {'shallow': {'model': <classes.network.Network at 0x1a0055e2e80>,\n",
       "   'train_perfs': [[0.06181072284448603,\n",
       "     0.06181072284448603,\n",
       "     0.06181072284448603,\n",
       "     0.06181072284448603,\n",
       "     0.06181072284448603,\n",
       "     0.06181072284448603,\n",
       "     0.06146288076828865,\n",
       "     0.05817763935990849,\n",
       "     0.05817763935990849,\n",
       "     0.057960804911355475],\n",
       "    [0.010255256081326682,\n",
       "     0.010255256081326682,\n",
       "     0.010255256081326682,\n",
       "     0.010255256081326682,\n",
       "     0.010255256081326682,\n",
       "     0.009658973879420777,\n",
       "     0.00921963230954705,\n",
       "     0.008691875295914442,\n",
       "     0.007982184267081424,\n",
       "     0.007775157111980807],\n",
       "    [0.03793196182897185,\n",
       "     0.03793196182897185,\n",
       "     0.03793196182897185,\n",
       "     0.03793196182897185,\n",
       "     0.03793196182897185,\n",
       "     0.03750365300383936,\n",
       "     0.036568828785063255,\n",
       "     0.03642874983951892,\n",
       "     0.03635119509363447,\n",
       "     0.03616567747205417],\n",
       "    [0.03596851720223019,\n",
       "     0.03596851720223019,\n",
       "     0.03596851720223019,\n",
       "     0.03596851720223019,\n",
       "     0.03596851720223019,\n",
       "     0.03596851720223019,\n",
       "     0.03596851720223019,\n",
       "     0.03596851720223019,\n",
       "     0.03596851720223019,\n",
       "     0.03596851720223019],\n",
       "    [0.030439300454220407,\n",
       "     0.019057974663354772,\n",
       "     0.019057974663354772,\n",
       "     0.019057974663354772,\n",
       "     0.019057974663354772,\n",
       "     0.019057974663354772,\n",
       "     0.019057974663354772,\n",
       "     0.019057974663354772,\n",
       "     0.018414280649029297,\n",
       "     0.017137874515424874],\n",
       "    [0.030158375167861424,\n",
       "     0.030158375167861424,\n",
       "     0.030158375167861424,\n",
       "     0.030158375167861424,\n",
       "     0.030158375167861424,\n",
       "     0.030158375167861424,\n",
       "     0.030158375167861424,\n",
       "     0.030158375167861424,\n",
       "     0.03015768382717011,\n",
       "     0.029676360143367837],\n",
       "    [0.009901314969081072,\n",
       "     0.009901314969081072,\n",
       "     0.009901314969081072,\n",
       "     0.009901314969081072,\n",
       "     0.009901314969081072,\n",
       "     0.009901314969081072,\n",
       "     0.00983606080955185,\n",
       "     0.009812812042841939,\n",
       "     0.009730680771895418,\n",
       "     0.009607011874531644],\n",
       "    [0.028742321377039286,\n",
       "     0.028742321377039286,\n",
       "     0.028742321377039286,\n",
       "     0.028742321377039286,\n",
       "     0.028742321377039286,\n",
       "     0.028742321377039286,\n",
       "     0.028742321377039286,\n",
       "     0.028742321377039286,\n",
       "     0.028742321377039286,\n",
       "     0.028742321377039286],\n",
       "    [0.01459427107789597,\n",
       "     0.01459427107789597,\n",
       "     0.01459427107789597,\n",
       "     0.01459427107789597,\n",
       "     0.01459427107789597,\n",
       "     0.01459427107789597,\n",
       "     0.01459427107789597,\n",
       "     0.01459427107789597,\n",
       "     0.01459427107789597,\n",
       "     0.014462240003178656],\n",
       "    [0.029860321493510738,\n",
       "     0.029860321493510738,\n",
       "     0.029860321493510738,\n",
       "     0.029860321493510738,\n",
       "     0.029860321493510738,\n",
       "     0.029860321493510738,\n",
       "     0.029860321493510738,\n",
       "     0.029860321493510738,\n",
       "     0.029860321493510738,\n",
       "     0.029860321493510738],\n",
       "    [0.046741823469522575,\n",
       "     0.046741823469522575,\n",
       "     0.046741823469522575,\n",
       "     0.046741823469522575,\n",
       "     0.046741823469522575,\n",
       "     0.046741823469522575,\n",
       "     0.046741823469522575,\n",
       "     0.044836033632356706,\n",
       "     0.044220123165429,\n",
       "     0.04382246228864812],\n",
       "    [0.023963077322583532,\n",
       "     0.023963077322583532,\n",
       "     0.023963077322583532,\n",
       "     0.023963077322583532,\n",
       "     0.023963077322583532,\n",
       "     0.023963077322583532,\n",
       "     0.023963077322583532,\n",
       "     0.023963077322583532,\n",
       "     0.023963077322583532,\n",
       "     0.023963077322583532],\n",
       "    [0.06437515576611455,\n",
       "     0.06437515576611455,\n",
       "     0.06437515576611455,\n",
       "     0.06437515576611455,\n",
       "     0.06437515576611455,\n",
       "     0.06437515576611455,\n",
       "     0.06437515576611455,\n",
       "     0.06286168634811706,\n",
       "     0.061592823775082836,\n",
       "     0.06121986140980577],\n",
       "    [0.009234288311975019,\n",
       "     0.009234288311975019,\n",
       "     0.009234288311975019,\n",
       "     0.009234288311975019,\n",
       "     0.009234288311975019,\n",
       "     0.008097816547888067,\n",
       "     0.008097816547888067,\n",
       "     0.007959097568975887,\n",
       "     0.007360689414353754,\n",
       "     0.007204327110740601],\n",
       "    [0.00727512612729983,\n",
       "     0.00727512612729983,\n",
       "     0.00727512612729983,\n",
       "     0.00727512612729983,\n",
       "     0.00727512612729983,\n",
       "     0.00727512612729983,\n",
       "     0.00727512612729983,\n",
       "     0.00727512612729983,\n",
       "     0.00727512612729983,\n",
       "     0.00727512612729983],\n",
       "    [0.06486066005818923,\n",
       "     0.04487967412779936,\n",
       "     0.04487967412779936,\n",
       "     0.04487967412779936,\n",
       "     0.04487967412779936,\n",
       "     0.04487967412779936,\n",
       "     0.044011905589367975,\n",
       "     0.040679690841207136,\n",
       "     0.03901446184192631,\n",
       "     0.038546247387473045],\n",
       "    [0.039088913327748415,\n",
       "     0.039088913327748415,\n",
       "     0.039088913327748415,\n",
       "     0.039088913327748415,\n",
       "     0.039088913327748415,\n",
       "     0.039088913327748415,\n",
       "     0.039088913327748415,\n",
       "     0.03716974161709956,\n",
       "     0.03640512379291721,\n",
       "     0.035978712388862376],\n",
       "    [0.02891102383760555,\n",
       "     0.02891102383760555,\n",
       "     0.02891102383760555,\n",
       "     0.02891102383760555,\n",
       "     0.02891102383760555,\n",
       "     0.02891102383760555,\n",
       "     0.02891102383760555,\n",
       "     0.028655764437780173,\n",
       "     0.028168402612418812,\n",
       "     0.027797911726349833],\n",
       "    [0.042023629832281535,\n",
       "     0.042023629832281535,\n",
       "     0.042023629832281535,\n",
       "     0.041848507371865205,\n",
       "     0.04157524459237803,\n",
       "     0.04157524459237803,\n",
       "     0.04157524459237803,\n",
       "     0.04021288079592564,\n",
       "     0.03754082714735304,\n",
       "     0.036549932894865696]],\n",
       "   'test_perfs': 0.006408835749083383,\n",
       "   'exec_time': 0.0024451999997836538},\n",
       "  'deep': {'model': <classes.network.Network at 0x1a0055c6470>,\n",
       "   'train_perfs': [[0.036197722913702435,\n",
       "     0.0357520528975905,\n",
       "     0.0357520528975905,\n",
       "     0.0357520528975905,\n",
       "     0.023956287943702918,\n",
       "     0.023956287943702918,\n",
       "     0.02383342890630866,\n",
       "     0.02373299214113002,\n",
       "     0.023182751501893136,\n",
       "     0.023043292343886117],\n",
       "    [0.017377586837670128,\n",
       "     0.017377586837670128,\n",
       "     0.017377586837670128,\n",
       "     0.017377586837670128,\n",
       "     0.017377586837670128,\n",
       "     0.017377586837670128,\n",
       "     0.017377586837670128,\n",
       "     0.017377586837670128,\n",
       "     0.017377586837670128,\n",
       "     0.017377586837670128],\n",
       "    [0.05221244991712054,\n",
       "     0.049463152641594656,\n",
       "     0.03448514173265209,\n",
       "     0.03448514173265209,\n",
       "     0.03448514173265209,\n",
       "     0.03448514173265209,\n",
       "     0.03448514173265209,\n",
       "     0.03448514173265209,\n",
       "     0.03448514173265209,\n",
       "     0.03448514173265209],\n",
       "    [0.03140835265385357,\n",
       "     0.03140835265385357,\n",
       "     0.016623614814462243,\n",
       "     0.016623614814462243,\n",
       "     0.016623614814462243,\n",
       "     0.016623614814462243,\n",
       "     0.015748212931112896,\n",
       "     0.015616551004767745,\n",
       "     0.015586947618776567,\n",
       "     0.014427318138148171],\n",
       "    [0.013610082544146276,\n",
       "     0.013610082544146276,\n",
       "     0.013103322898528428,\n",
       "     0.01218972336586388,\n",
       "     0.011988585689671162,\n",
       "     0.011988585689671162,\n",
       "     0.011608026783685946,\n",
       "     0.010769882933234382,\n",
       "     0.010769882933234382,\n",
       "     0.010769882933234382],\n",
       "    [0.048454253720291565,\n",
       "     0.036790166081718735,\n",
       "     0.02328004645982424,\n",
       "     0.02328004645982424,\n",
       "     0.017410677863239875,\n",
       "     0.017410677863239875,\n",
       "     0.013991190462544744,\n",
       "     0.013991190462544744,\n",
       "     0.009490413818762833,\n",
       "     0.009490413818762833],\n",
       "    [0.017348105869897205,\n",
       "     0.017348105869897205,\n",
       "     0.011913183527148128,\n",
       "     0.011913183527148128,\n",
       "     0.010653146604208907,\n",
       "     0.010653146604208907,\n",
       "     0.010653146604208907,\n",
       "     0.010653146604208907,\n",
       "     0.010653146604208907,\n",
       "     0.0105309925123217],\n",
       "    [0.034049724907208985,\n",
       "     0.034049724907208985,\n",
       "     0.034049724907208985,\n",
       "     0.034049724907208985,\n",
       "     0.034049724907208985,\n",
       "     0.034049724907208985,\n",
       "     0.034049724907208985,\n",
       "     0.034049724907208985,\n",
       "     0.034049724907208985,\n",
       "     0.034049724907208985],\n",
       "    [0.03136742777592981,\n",
       "     0.026129115001446046,\n",
       "     0.026129115001446046,\n",
       "     0.026129115001446046,\n",
       "     0.026129115001446046,\n",
       "     0.025506918002976543,\n",
       "     0.02488611526668015,\n",
       "     0.024433078864801863,\n",
       "     0.02420384794042562,\n",
       "     0.024093088965541055],\n",
       "    [0.013544452333968716,\n",
       "     0.008830048849751148,\n",
       "     0.008830048849751148,\n",
       "     0.008830048849751148,\n",
       "     0.007617069553963135,\n",
       "     0.006306195244895352,\n",
       "     0.006126172722079961,\n",
       "     0.00598365100669789,\n",
       "     0.005898067930905944,\n",
       "     0.005673025611883165],\n",
       "    [0.09375928939878178,\n",
       "     0.008146812263849505,\n",
       "     0.008146812263849505,\n",
       "     0.008146812263849505,\n",
       "     0.008146812263849505,\n",
       "     0.008146812263849505,\n",
       "     0.008146812263849505,\n",
       "     0.008146812263849505,\n",
       "     0.007924757103201114,\n",
       "     0.0068453528373030245],\n",
       "    [0.10901166971838674,\n",
       "     0.044183734458110066,\n",
       "     0.035854724980304106,\n",
       "     0.029529273705602606,\n",
       "     0.027315369327846332,\n",
       "     0.024571870535139602,\n",
       "     0.024571870535139602,\n",
       "     0.02443572346913294,\n",
       "     0.024412021660887507,\n",
       "     0.02426660283643815],\n",
       "    [0.08660682876953531,\n",
       "     0.08660682876953531,\n",
       "     0.02847297418973823,\n",
       "     0.02825038720879931,\n",
       "     0.02825038720879931,\n",
       "     0.028229527033496626,\n",
       "     0.028169520533303717,\n",
       "     0.0281515903625248,\n",
       "     0.026574803764390337,\n",
       "     0.024960743630782312],\n",
       "    [0.025218603181310757,\n",
       "     0.015551446464903413,\n",
       "     0.015551446464903413,\n",
       "     0.015551446464903413,\n",
       "     0.014119151533790947,\n",
       "     0.014119151533790947,\n",
       "     0.014119151533790947,\n",
       "     0.014119151533790947,\n",
       "     0.013983158642114996,\n",
       "     0.013983158642114996],\n",
       "    [0.01667422954012801,\n",
       "     0.014282959306166835,\n",
       "     0.014282959306166835,\n",
       "     0.014282959306166835,\n",
       "     0.014282959306166835,\n",
       "     0.014282959306166835,\n",
       "     0.014282959306166835,\n",
       "     0.014282959306166835,\n",
       "     0.014282959306166835,\n",
       "     0.014282959306166835],\n",
       "    [0.042574159501850395,\n",
       "     0.042574159501850395,\n",
       "     0.042574159501850395,\n",
       "     0.042574159501850395,\n",
       "     0.040127942350839704,\n",
       "     0.03736654694714,\n",
       "     0.0366855920024922,\n",
       "     0.03538735309667927,\n",
       "     0.03127632949580957,\n",
       "     0.03127632949580957],\n",
       "    [0.11622606334153571,\n",
       "     0.02613968335511429,\n",
       "     0.02613968335511429,\n",
       "     0.02613968335511429,\n",
       "     0.018469566180787666,\n",
       "     0.018469566180787666,\n",
       "     0.01839056779491586,\n",
       "     0.01839056779491586,\n",
       "     0.018300368643904812,\n",
       "     0.017998516049573005],\n",
       "    [0.041107004457729676,\n",
       "     0.027172840265640763,\n",
       "     0.027172840265640763,\n",
       "     0.027172840265640763,\n",
       "     0.027172840265640763,\n",
       "     0.027172840265640763,\n",
       "     0.027172840265640763,\n",
       "     0.027172840265640763,\n",
       "     0.027172840265640763,\n",
       "     0.027172840265640763],\n",
       "    [0.059213769372947464,\n",
       "     0.056357459156396394,\n",
       "     0.05100975154810803,\n",
       "     0.04796408290547966,\n",
       "     0.03604459239944877,\n",
       "     0.028127062010885755,\n",
       "     0.026658466329779,\n",
       "     0.025532906747007245,\n",
       "     0.025532906747007245,\n",
       "     0.02367510367112172]],\n",
       "   'test_perfs': 0.028563092705184194,\n",
       "   'exec_time': 0.00017110000044340268}},\n",
       " '1in_sine': {'shallow': {'model': <classes.network.Network at 0x1a007e7cbe0>,\n",
       "   'train_perfs': [[0.4242424572253046,\n",
       "     0.23119853313348732,\n",
       "     0.1916448793996754,\n",
       "     0.18393301264218542,\n",
       "     0.18393301264218542,\n",
       "     0.1832428294794252,\n",
       "     0.18006719318708023,\n",
       "     0.17604069365600566,\n",
       "     0.17408588339306066,\n",
       "     0.17351631853867527],\n",
       "    [0.5888009751065909,\n",
       "     0.39005696064160217,\n",
       "     0.33275479295984733,\n",
       "     0.30936533180390413,\n",
       "     0.30244057444491557,\n",
       "     0.3004479657627628,\n",
       "     0.2998576758032644,\n",
       "     0.29968125928009454,\n",
       "     0.297964114025025,\n",
       "     0.2964215946755971],\n",
       "    [0.07681974820608715,\n",
       "     0.05104047370970059,\n",
       "     0.028636789081358766,\n",
       "     0.01766487391874335,\n",
       "     0.01766487391874335,\n",
       "     0.01766487391874335,\n",
       "     0.01766487391874335,\n",
       "     0.0172497434400919,\n",
       "     0.017200548251388344,\n",
       "     0.01683740029544335],\n",
       "    [0.5191820220679998,\n",
       "     0.4709872322778665,\n",
       "     0.4650612774536838,\n",
       "     0.4650612774536838,\n",
       "     0.4650612774536838,\n",
       "     0.4650612774536838,\n",
       "     0.46407556047524573,\n",
       "     0.4602825990234695,\n",
       "     0.45558428085554015,\n",
       "     0.45277655012899815],\n",
       "    [0.9252787616317931,\n",
       "     0.6064317287947047,\n",
       "     0.5899752730856888,\n",
       "     0.5517197670326308,\n",
       "     0.546000190659155,\n",
       "     0.5415982063851235,\n",
       "     0.5402621602280089,\n",
       "     0.5319967274876827,\n",
       "     0.5280561630412839,\n",
       "     0.523263228415914],\n",
       "    [0.6978827143407844,\n",
       "     0.4527647483877704,\n",
       "     0.3777946298170789,\n",
       "     0.3777946298170789,\n",
       "     0.36682054355229654,\n",
       "     0.3564387313569565,\n",
       "     0.3564387313569565,\n",
       "     0.35496370969073904,\n",
       "     0.34429535459455207,\n",
       "     0.33542196145041064],\n",
       "    [0.42580870256204334,\n",
       "     0.42580870256204334,\n",
       "     0.42580870256204334,\n",
       "     0.42580870256204334,\n",
       "     0.42580870256204334,\n",
       "     0.42580870256204334,\n",
       "     0.42580870256204334,\n",
       "     0.42580870256204334,\n",
       "     0.42580870256204334,\n",
       "     0.42580870256204334],\n",
       "    [0.48326071567488277,\n",
       "     0.2866193951321251,\n",
       "     0.2703200469384165,\n",
       "     0.2276580858148915,\n",
       "     0.21895289024956602,\n",
       "     0.21895289024956602,\n",
       "     0.21458554166803764,\n",
       "     0.20964098240022272,\n",
       "     0.20887188553361985,\n",
       "     0.2065749721626827],\n",
       "    [0.2739779263501009,\n",
       "     0.16569938189130834,\n",
       "     0.15525140296252177,\n",
       "     0.1527678857723309,\n",
       "     0.1438034381059959,\n",
       "     0.14189762803025796,\n",
       "     0.14189762803025796,\n",
       "     0.1394515128597214,\n",
       "     0.13626510865869979,\n",
       "     0.13626510865869979],\n",
       "    [0.5826601192017813,\n",
       "     0.5615269139526485,\n",
       "     0.541454876376516,\n",
       "     0.539823495510276,\n",
       "     0.539823495510276,\n",
       "     0.5364471347019013,\n",
       "     0.5364471347019013,\n",
       "     0.5194710085733824,\n",
       "     0.5143498041510901,\n",
       "     0.5128247500158664],\n",
       "    [0.049310679077577954,\n",
       "     0.022745401560623536,\n",
       "     0.008589327209484384,\n",
       "     0.007143549672671298,\n",
       "     0.007143549672671298,\n",
       "     0.0065016486944172724,\n",
       "     0.006102599913675495,\n",
       "     0.005366606932980027,\n",
       "     0.005280771328398678,\n",
       "     0.005043075303718749],\n",
       "    [0.5463318223448628,\n",
       "     0.5463318223448628,\n",
       "     0.5463318223448628,\n",
       "     0.5463318223448628,\n",
       "     0.5463318223448628,\n",
       "     0.5463318223448628,\n",
       "     0.5463318223448628,\n",
       "     0.5463318223448628,\n",
       "     0.5463318223448628,\n",
       "     0.5463318223448628],\n",
       "    [0.6299202392143733,\n",
       "     0.4182702159340736,\n",
       "     0.29538472084061795,\n",
       "     0.2528532782580718,\n",
       "     0.24644450161080034,\n",
       "     0.24517421959404828,\n",
       "     0.24517421959404828,\n",
       "     0.24214956390011627,\n",
       "     0.23811639799042572,\n",
       "     0.23800469986600786],\n",
       "    [0.36341047226829437,\n",
       "     0.20449103955893994,\n",
       "     0.19058199041074442,\n",
       "     0.19035752793593602,\n",
       "     0.18549712240662233,\n",
       "     0.18384128597218513,\n",
       "     0.1836390434132731,\n",
       "     0.1825708359530141,\n",
       "     0.1818863355096722,\n",
       "     0.18167448978124487],\n",
       "    [0.30744952113714585,\n",
       "     0.12715686792745265,\n",
       "     0.1028817930580918,\n",
       "     0.1028817930580918,\n",
       "     0.1028817930580918,\n",
       "     0.1028817930580918,\n",
       "     0.1028817930580918,\n",
       "     0.1028817930580918,\n",
       "     0.1028817930580918,\n",
       "     0.1028817930580918],\n",
       "    [0.7010687059612858,\n",
       "     0.39112158398788327,\n",
       "     0.3214701704555852,\n",
       "     0.3027038629749707,\n",
       "     0.2970036603207605,\n",
       "     0.283921852903545,\n",
       "     0.2776327822638663,\n",
       "     0.2701161002643793,\n",
       "     0.2679007728563495,\n",
       "     0.2672397341351152],\n",
       "    [0.8330377525705032,\n",
       "     0.38395531242644027,\n",
       "     0.3261371297742922,\n",
       "     0.3183678495109861,\n",
       "     0.3183678495109861,\n",
       "     0.2941829848151813,\n",
       "     0.2941829848151813,\n",
       "     0.2941829848151813,\n",
       "     0.2926263195743856,\n",
       "     0.28576875456160417],\n",
       "    [0.3751772643166681,\n",
       "     0.3751772643166681,\n",
       "     0.3751772643166681,\n",
       "     0.3751772643166681,\n",
       "     0.3751772643166681,\n",
       "     0.3751772643166681,\n",
       "     0.3751772643166681,\n",
       "     0.3751772643166681,\n",
       "     0.3751772643166681,\n",
       "     0.3751772643166681],\n",
       "    [0.4413304970678188,\n",
       "     0.3115668548456278,\n",
       "     0.29393426044701,\n",
       "     0.29393426044701,\n",
       "     0.2894562364347797,\n",
       "     0.2848100961297958,\n",
       "     0.28403912256677133,\n",
       "     0.2828094074556703,\n",
       "     0.27970312748656256,\n",
       "     0.27812733235407167]],\n",
       "   'test_perfs': 0.04884908371852646,\n",
       "   'exec_time': -1.1699999959091656e-05},\n",
       "  'deep': {'model': <classes.network.Network at 0x1a005677390>,\n",
       "   'train_perfs': [[0.17291227578033802,\n",
       "     0.16893127206228248,\n",
       "     0.16893127206228248,\n",
       "     0.16893127206228248,\n",
       "     0.16893127206228248,\n",
       "     0.16893127206228248,\n",
       "     0.16893127206228248,\n",
       "     0.16893127206228248,\n",
       "     0.1616192663111345,\n",
       "     0.1616192663111345],\n",
       "    [0.31053181125955936,\n",
       "     0.2933558265154649,\n",
       "     0.27253345731551326,\n",
       "     0.23051447110476442,\n",
       "     0.2076940287567791,\n",
       "     0.2076940287567791,\n",
       "     0.2076940287567791,\n",
       "     0.2076940287567791,\n",
       "     0.2076940287567791,\n",
       "     0.20623953765239325],\n",
       "    [0.13799908450555848,\n",
       "     0.08836874471471222,\n",
       "     0.05990504247660472,\n",
       "     0.05316235867237808,\n",
       "     0.04069034831122637,\n",
       "     0.04069034831122637,\n",
       "     0.040528653262425635,\n",
       "     0.04018230034366686,\n",
       "     0.0399341905243143,\n",
       "     0.039859319379273],\n",
       "    [0.339091531456112,\n",
       "     0.282927471240609,\n",
       "     0.27394657237779796,\n",
       "     0.27394657237779796,\n",
       "     0.27394657237779796,\n",
       "     0.27394657237779796,\n",
       "     0.26782430399068263,\n",
       "     0.26782430399068263,\n",
       "     0.26782430399068263,\n",
       "     0.26782430399068263],\n",
       "    [0.39340070778819625,\n",
       "     0.14759617697836466,\n",
       "     0.07756115826252644,\n",
       "     0.062489238744688966,\n",
       "     0.057206357996636405,\n",
       "     0.04817409565710988,\n",
       "     0.04817409565710988,\n",
       "     0.04583044930194093,\n",
       "     0.045827693171841925,\n",
       "     0.04499005181573752],\n",
       "    [0.4978525284580314,\n",
       "     0.2500068082936659,\n",
       "     0.2500068082936659,\n",
       "     0.2500068082936659,\n",
       "     0.13261906856002048,\n",
       "     0.13261906856002048,\n",
       "     0.13261906856002048,\n",
       "     0.13261906856002048,\n",
       "     0.12663204288599456,\n",
       "     0.12502771101674331],\n",
       "    [0.2029745465233007,\n",
       "     0.2029745465233007,\n",
       "     0.2029745465233007,\n",
       "     0.18289820342408528,\n",
       "     0.18289820342408528,\n",
       "     0.16268520152930294,\n",
       "     0.16268520152930294,\n",
       "     0.16268520152930294,\n",
       "     0.16268520152930294,\n",
       "     0.16268520152930294],\n",
       "    [0.3770804631044728,\n",
       "     0.04825169485429408,\n",
       "     0.04825169485429408,\n",
       "     0.04825169485429408,\n",
       "     0.02383295833805229,\n",
       "     0.019955517691617037,\n",
       "     0.019955517691617037,\n",
       "     0.019955517691617037,\n",
       "     0.019955517691617037,\n",
       "     0.019955517691617037],\n",
       "    [0.3410042464569125,\n",
       "     0.33739467170598464,\n",
       "     0.03958793101591808,\n",
       "     0.03958793101591808,\n",
       "     0.03958793101591808,\n",
       "     0.03958793101591808,\n",
       "     0.03958793101591808,\n",
       "     0.03958793101591808,\n",
       "     0.03958793101591808,\n",
       "     0.03958793101591808],\n",
       "    [0.5380901341170332,\n",
       "     0.4037905748806164,\n",
       "     0.4037905748806164,\n",
       "     0.4037905748806164,\n",
       "     0.4037905748806164,\n",
       "     0.4037905748806164,\n",
       "     0.4037905748806164,\n",
       "     0.4037905748806164,\n",
       "     0.4037905748806164,\n",
       "     0.4037905748806164],\n",
       "    [0.03414759288727351,\n",
       "     0.02220273741354845,\n",
       "     0.015531978344730257,\n",
       "     0.011425286427811748,\n",
       "     0.006131249656700008,\n",
       "     0.006014350667454526,\n",
       "     0.005954858135688897,\n",
       "     0.005623976840239038,\n",
       "     0.005586623853320323,\n",
       "     0.005441166126615776],\n",
       "    [0.18395605071429458,\n",
       "     0.18395605071429458,\n",
       "     0.18395605071429458,\n",
       "     0.16217452513774278,\n",
       "     0.16217452513774278,\n",
       "     0.1435918348780835,\n",
       "     0.14066523501621467,\n",
       "     0.14003197288858016,\n",
       "     0.13832334298625495,\n",
       "     0.13701608081285394],\n",
       "    [0.37942582132156794,\n",
       "     0.2950426143369074,\n",
       "     0.2749468817257083,\n",
       "     0.26796914895740864,\n",
       "     0.22054317720018424,\n",
       "     0.22054317720018424,\n",
       "     0.22054317720018424,\n",
       "     0.14325385323653225,\n",
       "     0.1184378283710937,\n",
       "     0.11390872749482384],\n",
       "    [0.33538577890616783,\n",
       "     0.20398514058444964,\n",
       "     0.20398514058444964,\n",
       "     0.20398514058444964,\n",
       "     0.20398514058444964,\n",
       "     0.20398514058444964,\n",
       "     0.20398514058444964,\n",
       "     0.20398514058444964,\n",
       "     0.20398514058444964,\n",
       "     0.20398514058444964],\n",
       "    [0.29240144575574795,\n",
       "     0.17623670187679508,\n",
       "     0.15605373964059002,\n",
       "     0.15605373964059002,\n",
       "     0.14890869753272562,\n",
       "     0.1425149301280928,\n",
       "     0.1425149301280928,\n",
       "     0.13899949990033852,\n",
       "     0.13829973807224683,\n",
       "     0.1372079714735483],\n",
       "    [0.47140151973714683,\n",
       "     0.2051832444159846,\n",
       "     0.2051832444159846,\n",
       "     0.13667684695187807,\n",
       "     0.13667684695187807,\n",
       "     0.13229860212985378,\n",
       "     0.13054542190780646,\n",
       "     0.13054542190780646,\n",
       "     0.13054542190780646,\n",
       "     0.1305248479179119],\n",
       "    [0.6720556370235886,\n",
       "     0.1513398078394786,\n",
       "     0.1513398078394786,\n",
       "     0.1513398078394786,\n",
       "     0.1513398078394786,\n",
       "     0.1513398078394786,\n",
       "     0.1513398078394786,\n",
       "     0.1513398078394786,\n",
       "     0.1513398078394786,\n",
       "     0.1513398078394786],\n",
       "    [0.30345268978368367,\n",
       "     0.09700311835204668,\n",
       "     0.09700311835204668,\n",
       "     0.09700311835204668,\n",
       "     0.09700311835204668,\n",
       "     0.09700311835204668,\n",
       "     0.09700311835204668,\n",
       "     0.09700311835204668,\n",
       "     0.09700311835204668,\n",
       "     0.09700311835204668],\n",
       "    [0.39812495301399853,\n",
       "     0.14493172416338912,\n",
       "     0.10773155890837612,\n",
       "     0.10773155890837612,\n",
       "     0.10773155890837612,\n",
       "     0.10773155890837612,\n",
       "     0.10773155890837612,\n",
       "     0.10684729681928942,\n",
       "     0.1060522639737272,\n",
       "     0.10589958983429011]],\n",
       "   'test_perfs': 0.09984686398727441,\n",
       "   'exec_time': -2.0899999071843922e-05}},\n",
       " '2in_complex': {'shallow': {'model': <classes.network.Network at 0x1a007eb8278>,\n",
       "   'train_perfs': [[0.061059046051382536,\n",
       "     0.05805014465934506,\n",
       "     0.05805014465934506,\n",
       "     0.05805014465934506,\n",
       "     0.05805014465934506,\n",
       "     0.05805014465934506,\n",
       "     0.05805014465934506,\n",
       "     0.05805014465934506,\n",
       "     0.05513905810025919,\n",
       "     0.05367244959610684],\n",
       "    [0.07144266630360682,\n",
       "     0.03110511152986084,\n",
       "     0.026632877310977705,\n",
       "     0.025524225240087496,\n",
       "     0.025211093767452432,\n",
       "     0.025118866666792965,\n",
       "     0.025091351593110617,\n",
       "     0.024584380185926718,\n",
       "     0.024199971160212476,\n",
       "     0.023896466256145325],\n",
       "    [0.06631058647054425,\n",
       "     0.06631058647054425,\n",
       "     0.06631058647054425,\n",
       "     0.06631058647054425,\n",
       "     0.06631058647054425,\n",
       "     0.06631058647054425,\n",
       "     0.06466511949653796,\n",
       "     0.06233061877958586,\n",
       "     0.061662883412008374,\n",
       "     0.054866518764660546],\n",
       "    [0.08924590671681619,\n",
       "     0.08924590671681619,\n",
       "     0.08924590671681619,\n",
       "     0.08924590671681619,\n",
       "     0.08924590671681619,\n",
       "     0.08924590671681619,\n",
       "     0.08919557523774872,\n",
       "     0.0823668429755525,\n",
       "     0.07953520334115642,\n",
       "     0.07859267717195277],\n",
       "    [0.07051048471134978,\n",
       "     0.048112347856721624,\n",
       "     0.048112347856721624,\n",
       "     0.046825882273022985,\n",
       "     0.039126537516435245,\n",
       "     0.039126537516435245,\n",
       "     0.039126537516435245,\n",
       "     0.039126537516435245,\n",
       "     0.03905768505073558,\n",
       "     0.038878967736590435],\n",
       "    [0.1917041496648834,\n",
       "     0.1503649234281318,\n",
       "     0.14533194151865086,\n",
       "     0.1407941171326669,\n",
       "     0.13890884919978247,\n",
       "     0.11580365607951962,\n",
       "     0.1142469896864892,\n",
       "     0.112090072193224,\n",
       "     0.112090072193224,\n",
       "     0.10978560897189968],\n",
       "    [0.03415701061352787,\n",
       "     0.03415701061352787,\n",
       "     0.03415701061352787,\n",
       "     0.03415701061352787,\n",
       "     0.03415701061352787,\n",
       "     0.03415701061352787,\n",
       "     0.03415701061352787,\n",
       "     0.03415701061352787,\n",
       "     0.03415701061352787,\n",
       "     0.03415701061352787],\n",
       "    [0.05091479384647958,\n",
       "     0.05091479384647958,\n",
       "     0.05091479384647958,\n",
       "     0.05091479384647958,\n",
       "     0.05091479384647958,\n",
       "     0.05091479384647958,\n",
       "     0.05091479384647958,\n",
       "     0.05091479384647958,\n",
       "     0.05091479384647958,\n",
       "     0.05091479384647958],\n",
       "    [0.08050601001341247,\n",
       "     0.08050601001341247,\n",
       "     0.08050601001341247,\n",
       "     0.08050601001341247,\n",
       "     0.08050601001341247,\n",
       "     0.08050601001341247,\n",
       "     0.07663657760819258,\n",
       "     0.07663657760819258,\n",
       "     0.07663657760819258,\n",
       "     0.07505587452616505],\n",
       "    [0.017229763641733894,\n",
       "     0.017229763641733894,\n",
       "     0.017229763641733894,\n",
       "     0.017229763641733894,\n",
       "     0.017229763641733894,\n",
       "     0.017229763641733894,\n",
       "     0.017229763641733894,\n",
       "     0.017229763641733894,\n",
       "     0.01704436721956389,\n",
       "     0.016875385593716163],\n",
       "    [0.033505495030082676,\n",
       "     0.033505495030082676,\n",
       "     0.033505495030082676,\n",
       "     0.033505495030082676,\n",
       "     0.033505495030082676,\n",
       "     0.033505495030082676,\n",
       "     0.031963311084887217,\n",
       "     0.02935836062127408,\n",
       "     0.028726845705795312,\n",
       "     0.027818353325417444],\n",
       "    [0.07280193466941919,\n",
       "     0.07280193466941919,\n",
       "     0.07280193466941919,\n",
       "     0.07280193466941919,\n",
       "     0.07280193466941919,\n",
       "     0.07280193466941919,\n",
       "     0.07234073563163032,\n",
       "     0.07003004045166009,\n",
       "     0.06883717445191785,\n",
       "     0.06864012319634684],\n",
       "    [0.1371927991021899,\n",
       "     0.1371927991021899,\n",
       "     0.1371927991021899,\n",
       "     0.10654413804000229,\n",
       "     0.10175799497595853,\n",
       "     0.1000209242256667,\n",
       "     0.1000209242256667,\n",
       "     0.1000209242256667,\n",
       "     0.09900855926359368,\n",
       "     0.09900855926359368],\n",
       "    [0.04627649236615675,\n",
       "     0.04627649236615675,\n",
       "     0.04627649236615675,\n",
       "     0.04627649236615675,\n",
       "     0.04627649236615675,\n",
       "     0.04627649236615675,\n",
       "     0.04627649236615675,\n",
       "     0.04627649236615675,\n",
       "     0.04627649236615675,\n",
       "     0.04627649236615675],\n",
       "    [0.0173007355886299,\n",
       "     0.0173007355886299,\n",
       "     0.0173007355886299,\n",
       "     0.0173007355886299,\n",
       "     0.0173007355886299,\n",
       "     0.0173007355886299,\n",
       "     0.0173007355886299,\n",
       "     0.016639454641414947,\n",
       "     0.016292559356995962,\n",
       "     0.016292559356995962],\n",
       "    [0.09500883320471884,\n",
       "     0.09500883320471884,\n",
       "     0.09500883320471884,\n",
       "     0.09500883320471884,\n",
       "     0.09500883320471884,\n",
       "     0.09500883320471884,\n",
       "     0.09500883320471884,\n",
       "     0.09500883320471884,\n",
       "     0.09467195005488901,\n",
       "     0.09295463467337559],\n",
       "    [0.02740904889039648,\n",
       "     0.02740904889039648,\n",
       "     0.02740904889039648,\n",
       "     0.02740904889039648,\n",
       "     0.02740904889039648,\n",
       "     0.02740904889039648,\n",
       "     0.02740904889039648,\n",
       "     0.02740904889039648,\n",
       "     0.02740904889039648,\n",
       "     0.02740904889039648],\n",
       "    [0.04705290864302169,\n",
       "     0.04355867051363803,\n",
       "     0.028076649482437703,\n",
       "     0.028076649482437703,\n",
       "     0.028076649482437703,\n",
       "     0.028076649482437703,\n",
       "     0.028076649482437703,\n",
       "     0.028076649482437703,\n",
       "     0.028076649482437703,\n",
       "     0.028076649482437703],\n",
       "    [0.203397365295562,\n",
       "     0.1607378228024791,\n",
       "     0.1607378228024791,\n",
       "     0.16061549478218956,\n",
       "     0.16061549478218956,\n",
       "     0.16061549478218956,\n",
       "     0.16061549478218956,\n",
       "     0.15997168334163,\n",
       "     0.15997168334163,\n",
       "     0.15830513185991882]],\n",
       "   'test_perfs': 0.06502299035036482,\n",
       "   'exec_time': -0.0009059999993041856},\n",
       "  'deep': {'model': <classes.network.Network at 0x1a0055c6b00>,\n",
       "   'train_perfs': [[0.024662596631498106,\n",
       "     0.024662596631498106,\n",
       "     0.024662596631498106,\n",
       "     0.024662596631498106,\n",
       "     0.024662596631498106,\n",
       "     0.024662596631498106,\n",
       "     0.024662596631498106,\n",
       "     0.024662596631498106,\n",
       "     0.024662596631498106,\n",
       "     0.024662596631498106],\n",
       "    [0.1619508427229316,\n",
       "     0.04384005537299418,\n",
       "     0.04384005537299418,\n",
       "     0.03561676130179707,\n",
       "     0.03561676130179707,\n",
       "     0.03523393565524284,\n",
       "     0.03135250378863287,\n",
       "     0.03084783284136115,\n",
       "     0.03070596019696221,\n",
       "     0.030664367609986455],\n",
       "    [0.059545785950385996,\n",
       "     0.059545785950385996,\n",
       "     0.059545785950385996,\n",
       "     0.059545785950385996,\n",
       "     0.0582437660578183,\n",
       "     0.054244576474106576,\n",
       "     0.05287087803619813,\n",
       "     0.04986662193717699,\n",
       "     0.04760509385288965,\n",
       "     0.04760509385288965],\n",
       "    [0.07357255205462153,\n",
       "     0.07357255205462153,\n",
       "     0.07357255205462153,\n",
       "     0.07357255205462153,\n",
       "     0.07261340400606202,\n",
       "     0.07261340400606202,\n",
       "     0.07261340400606202,\n",
       "     0.07261340400606202,\n",
       "     0.07261340400606202,\n",
       "     0.07261340400606202],\n",
       "    [0.3440306531671173,\n",
       "     0.037231648731141535,\n",
       "     0.024888722235823894,\n",
       "     0.007301805188886281,\n",
       "     0.007301805188886281,\n",
       "     0.005860718870468216,\n",
       "     0.005860718870468216,\n",
       "     0.005250748378784584,\n",
       "     0.004522717157825799,\n",
       "     0.004430838586983133],\n",
       "    [0.2700006169524177,\n",
       "     0.1979783208045013,\n",
       "     0.1979783208045013,\n",
       "     0.1979783208045013,\n",
       "     0.1979783208045013,\n",
       "     0.1979783208045013,\n",
       "     0.19761808106142179,\n",
       "     0.19761808106142179,\n",
       "     0.1943107904496899,\n",
       "     0.18968847478063536],\n",
       "    [0.19375670049817525,\n",
       "     0.09403351721248651,\n",
       "     0.09403351721248651,\n",
       "     0.09403351721248651,\n",
       "     0.09403351721248651,\n",
       "     0.09403351721248651,\n",
       "     0.09403351721248651,\n",
       "     0.09403351721248651,\n",
       "     0.09403351721248651,\n",
       "     0.09403351721248651],\n",
       "    [0.0635650472226031,\n",
       "     0.0635650472226031,\n",
       "     0.0635650472226031,\n",
       "     0.0635650472226031,\n",
       "     0.0635650472226031,\n",
       "     0.0633360633159173,\n",
       "     0.04905055431680601,\n",
       "     0.048232566113058054,\n",
       "     0.048232566113058054,\n",
       "     0.048232566113058054],\n",
       "    [0.08469488454889475,\n",
       "     0.08469488454889475,\n",
       "     0.08469488454889475,\n",
       "     0.08191167566032191,\n",
       "     0.08191167566032191,\n",
       "     0.08191167566032191,\n",
       "     0.08191167566032191,\n",
       "     0.08191167566032191,\n",
       "     0.08191167566032191,\n",
       "     0.08191167566032191],\n",
       "    [0.04413624319873498,\n",
       "     0.04107570951897231,\n",
       "     0.04107570951897231,\n",
       "     0.04107570951897231,\n",
       "     0.04056292525425454,\n",
       "     0.04003881853627029,\n",
       "     0.03788470730010076,\n",
       "     0.03636677608443581,\n",
       "     0.03629801703027066,\n",
       "     0.03629801703027066],\n",
       "    [0.14262474619087387,\n",
       "     0.10269406016241087,\n",
       "     0.0903095755656818,\n",
       "     0.06399134561685185,\n",
       "     0.06399134561685185,\n",
       "     0.05748483849244277,\n",
       "     0.05748483849244277,\n",
       "     0.05748483849244277,\n",
       "     0.05748483849244277,\n",
       "     0.05748483849244277],\n",
       "    [0.07254536764746201,\n",
       "     0.04191984833115719,\n",
       "     0.04191984833115719,\n",
       "     0.04191984833115719,\n",
       "     0.04191984833115719,\n",
       "     0.04191984833115719,\n",
       "     0.04191984833115719,\n",
       "     0.04191984833115719,\n",
       "     0.03984893050043202,\n",
       "     0.03891044079462929],\n",
       "    [0.05688697462330254,\n",
       "     0.05608972746894253,\n",
       "     0.05144461963572093,\n",
       "     0.03653961329340507,\n",
       "     0.035151005185200944,\n",
       "     0.035145563538917256,\n",
       "     0.035145563538917256,\n",
       "     0.035145563538917256,\n",
       "     0.035145563538917256,\n",
       "     0.035145563538917256],\n",
       "    [0.1730163107812161,\n",
       "     0.1334501911700228,\n",
       "     0.1334501911700228,\n",
       "     0.1334501911700228,\n",
       "     0.12360716504850651,\n",
       "     0.09812191686418355,\n",
       "     0.09434563097252212,\n",
       "     0.09434563097252212,\n",
       "     0.09434563097252212,\n",
       "     0.09161094396727323],\n",
       "    [0.11806653590980545,\n",
       "     0.017244102762990408,\n",
       "     0.014715650159045603,\n",
       "     0.014715650159045603,\n",
       "     0.014400029574032556,\n",
       "     0.014050410657816514,\n",
       "     0.01388250207288268,\n",
       "     0.013770518601805087,\n",
       "     0.013762033533560042,\n",
       "     0.013412416245765571],\n",
       "    [0.12029337339996138,\n",
       "     0.11517958266366371,\n",
       "     0.11517958266366371,\n",
       "     0.11517958266366371,\n",
       "     0.11517958266366371,\n",
       "     0.11517958266366371,\n",
       "     0.11517958266366371,\n",
       "     0.11517958266366371,\n",
       "     0.11517958266366371,\n",
       "     0.11517958266366371],\n",
       "    [0.04447030989953286,\n",
       "     0.04447030989953286,\n",
       "     0.04447030989953286,\n",
       "     0.04447030989953286,\n",
       "     0.04447030989953286,\n",
       "     0.04447030989953286,\n",
       "     0.04447030989953286,\n",
       "     0.04447030989953286,\n",
       "     0.04447030989953286,\n",
       "     0.04447030989953286],\n",
       "    [0.07719533525206708,\n",
       "     0.07719533525206708,\n",
       "     0.07281457020454177,\n",
       "     0.04615685732880263,\n",
       "     0.04615685732880263,\n",
       "     0.041049568228246805,\n",
       "     0.03605764524876104,\n",
       "     0.03429984935548631,\n",
       "     0.032908130986754394,\n",
       "     0.03223921342217935],\n",
       "    [0.15539104382214383,\n",
       "     0.1263039869805839,\n",
       "     0.11286967747022399,\n",
       "     0.07402299803695242,\n",
       "     0.07402299803695242,\n",
       "     0.07402299803695242,\n",
       "     0.06987667423913886,\n",
       "     0.06814878901945973,\n",
       "     0.06800501872533278,\n",
       "     0.06782353681539771]],\n",
       "   'test_perfs': 0.21276196445915163,\n",
       "   'exec_time': 0.00012910000077681616}},\n",
       " '2in_xor': {'shallow': {'model': <classes.network.Network at 0x1a007e22d30>,\n",
       "   'train_perfs': [[0.008149921196327233,\n",
       "     0.0023713672229601253,\n",
       "     0.001497740089680432,\n",
       "     0.001497740089680432,\n",
       "     0.0014201005325293191,\n",
       "     0.0014201005325293191,\n",
       "     0.0014201005325293191,\n",
       "     0.0013949381645853543,\n",
       "     0.001392159864275581,\n",
       "     0.0012988780218573758],\n",
       "    [0.05051829001673601,\n",
       "     0.05051829001673601,\n",
       "     0.05051829001673601,\n",
       "     0.05051829001673601,\n",
       "     0.05051829001673601,\n",
       "     0.05051829001673601,\n",
       "     0.05051829001673601,\n",
       "     0.05051829001673601,\n",
       "     0.05051829001673601,\n",
       "     0.05051829001673601],\n",
       "    [0.10399280348838366,\n",
       "     0.056820792202966895,\n",
       "     0.056820792202966895,\n",
       "     0.056820792202966895,\n",
       "     0.056820792202966895,\n",
       "     0.056820792202966895,\n",
       "     0.056820792202966895,\n",
       "     0.056820792202966895,\n",
       "     0.056820792202966895,\n",
       "     0.056820792202966895],\n",
       "    [0.07403050258728464,\n",
       "     0.07403050258728464,\n",
       "     0.04851454042187226,\n",
       "     0.04851454042187226,\n",
       "     0.04851454042187226,\n",
       "     0.04851454042187226,\n",
       "     0.04851454042187226,\n",
       "     0.04851454042187226,\n",
       "     0.04818622130169102,\n",
       "     0.04818622130169102],\n",
       "    [0.04465730461481913,\n",
       "     0.04465730461481913,\n",
       "     0.04465730461481913,\n",
       "     0.04465730461481913,\n",
       "     0.04465730461481913,\n",
       "     0.04465730461481913,\n",
       "     0.04465730461481913,\n",
       "     0.04465730461481913,\n",
       "     0.04465730461481913,\n",
       "     0.04465730461481913],\n",
       "    [0.026745165655678936,\n",
       "     0.024108869293072176,\n",
       "     0.022219720186580215,\n",
       "     0.019203922554028082,\n",
       "     0.019203922554028082,\n",
       "     0.019203922554028082,\n",
       "     0.017630823130709353,\n",
       "     0.01691632657501129,\n",
       "     0.01670585688868857,\n",
       "     0.016643062753327026],\n",
       "    [0.07772330082586185,\n",
       "     0.07772330082586185,\n",
       "     0.07772330082586185,\n",
       "     0.07772330082586185,\n",
       "     0.07772330082586185,\n",
       "     0.07772330082586185,\n",
       "     0.07772330082586185,\n",
       "     0.07772330082586185,\n",
       "     0.07772330082586185,\n",
       "     0.07772330082586185],\n",
       "    [0.012315042162448185,\n",
       "     0.012315042162448185,\n",
       "     0.012315042162448185,\n",
       "     0.012315042162448185,\n",
       "     0.012315042162448185,\n",
       "     0.012315042162448185,\n",
       "     0.012315042162448185,\n",
       "     0.012315042162448185,\n",
       "     0.012315042162448185,\n",
       "     0.012315042162448185],\n",
       "    [0.05414012544543373,\n",
       "     0.05414012544543373,\n",
       "     0.05414012544543373,\n",
       "     0.05414012544543373,\n",
       "     0.05414012544543373,\n",
       "     0.05414012544543373,\n",
       "     0.05414012544543373,\n",
       "     0.05414012544543373,\n",
       "     0.05414012544543373,\n",
       "     0.05414012544543373],\n",
       "    [0.02799977468386038,\n",
       "     0.02799977468386038,\n",
       "     0.02799977468386038,\n",
       "     0.02799977468386038,\n",
       "     0.02799977468386038,\n",
       "     0.02799977468386038,\n",
       "     0.02799977468386038,\n",
       "     0.02799977468386038,\n",
       "     0.02799977468386038,\n",
       "     0.02799977468386038],\n",
       "    [0.04838737925135637,\n",
       "     0.04838737925135637,\n",
       "     0.04838737925135637,\n",
       "     0.04838737925135637,\n",
       "     0.04838737925135637,\n",
       "     0.04838737925135637,\n",
       "     0.04838737925135637,\n",
       "     0.04838737925135637,\n",
       "     0.04838737925135637,\n",
       "     0.04838737925135637],\n",
       "    [0.146568245229384,\n",
       "     0.10285017221871132,\n",
       "     0.09149996185631833,\n",
       "     0.08639807379720703,\n",
       "     0.08620777437325942,\n",
       "     0.08620777437325942,\n",
       "     0.08528026741447246,\n",
       "     0.08371650237877294,\n",
       "     0.08212746451427337,\n",
       "     0.08192151391331051],\n",
       "    [0.05715076708804141,\n",
       "     0.05715076708804141,\n",
       "     0.05715076708804141,\n",
       "     0.05715076708804141,\n",
       "     0.05715076708804141,\n",
       "     0.05715076708804141,\n",
       "     0.05715076708804141,\n",
       "     0.0566817242454428,\n",
       "     0.056258187929565016,\n",
       "     0.056258187929565016],\n",
       "    [0.06199555624898364,\n",
       "     0.06199555624898364,\n",
       "     0.06199555624898364,\n",
       "     0.06199555624898364,\n",
       "     0.06199555624898364,\n",
       "     0.06199555624898364,\n",
       "     0.06199555624898364,\n",
       "     0.06199555624898364,\n",
       "     0.06199555624898364,\n",
       "     0.06199555624898364],\n",
       "    [0.07046432277344064,\n",
       "     0.07046432277344064,\n",
       "     0.07046432277344064,\n",
       "     0.07046432277344064,\n",
       "     0.07046432277344064,\n",
       "     0.07046432277344064,\n",
       "     0.07046432277344064,\n",
       "     0.07046432277344064,\n",
       "     0.06583322549891799,\n",
       "     0.06520153955335661],\n",
       "    [0.11666934851257098,\n",
       "     0.09446046791049502,\n",
       "     0.09446046791049502,\n",
       "     0.09446046791049502,\n",
       "     0.09446046791049502,\n",
       "     0.09446046791049502,\n",
       "     0.09446046791049502,\n",
       "     0.09446046791049502,\n",
       "     0.09446046791049502,\n",
       "     0.09446046791049502],\n",
       "    [0.0052379007503747035,\n",
       "     0.0052379007503747035,\n",
       "     0.0052379007503747035,\n",
       "     0.0052379007503747035,\n",
       "     0.0052379007503747035,\n",
       "     0.0052379007503747035,\n",
       "     0.0052379007503747035,\n",
       "     0.0052379007503747035,\n",
       "     0.0052379007503747035,\n",
       "     0.0052379007503747035],\n",
       "    [0.07003844114509422,\n",
       "     0.07003844114509422,\n",
       "     0.07003844114509422,\n",
       "     0.07003844114509422,\n",
       "     0.07003844114509422,\n",
       "     0.07003844114509422,\n",
       "     0.07003844114509422,\n",
       "     0.07003844114509422,\n",
       "     0.07003844114509422,\n",
       "     0.07003844114509422],\n",
       "    [0.055147158603106095,\n",
       "     0.03620144331070658,\n",
       "     0.021194056949521627,\n",
       "     0.021194056949521627,\n",
       "     0.021194056949521627,\n",
       "     0.021194056949521627,\n",
       "     0.021194056949521627,\n",
       "     0.02082480872719781,\n",
       "     0.020123322535756032,\n",
       "     0.019580507047491924]],\n",
       "   'test_perfs': 0.1967307115016586,\n",
       "   'exec_time': -0.0006847000004199799},\n",
       "  'deep': {'model': <classes.network.Network at 0x1a007eb8be0>,\n",
       "   'train_perfs': [[0.00042645886144735865,\n",
       "     3.801586196297066e-06,\n",
       "     3.801586196297066e-06,\n",
       "     3.801586196297066e-06,\n",
       "     3.801586196297066e-06,\n",
       "     3.801586196297066e-06,\n",
       "     3.801586196297066e-06,\n",
       "     3.801586196297066e-06,\n",
       "     3.801586196297066e-06,\n",
       "     3.801586196297066e-06],\n",
       "    [0.11930448346304434,\n",
       "     0.11930448346304434,\n",
       "     0.11930448346304434,\n",
       "     0.10441490188718008,\n",
       "     0.10441490188718008,\n",
       "     0.10439063336115698,\n",
       "     0.10424194070120925,\n",
       "     0.09414460197246924,\n",
       "     0.07336263397387195,\n",
       "     0.07109349407987868],\n",
       "    [0.07799451852683767,\n",
       "     0.07799451852683767,\n",
       "     0.07799451852683767,\n",
       "     0.06767161872485397,\n",
       "     0.03891631649088424,\n",
       "     0.03891631649088424,\n",
       "     0.03891631649088424,\n",
       "     0.03891631649088424,\n",
       "     0.03891631649088424,\n",
       "     0.03891631649088424],\n",
       "    [0.09693025936311361,\n",
       "     0.09693025936311361,\n",
       "     0.09693025936311361,\n",
       "     0.08730746152282895,\n",
       "     0.08481346407212235,\n",
       "     0.0716079815630843,\n",
       "     0.0716079815630843,\n",
       "     0.07142755035940823,\n",
       "     0.07142755035940823,\n",
       "     0.07142755035940823],\n",
       "    [0.09358954688413593,\n",
       "     0.09358954688413593,\n",
       "     0.09358954688413593,\n",
       "     0.09358954688413593,\n",
       "     0.09358954688413593,\n",
       "     0.09358954688413593,\n",
       "     0.09358954688413593,\n",
       "     0.09358954688413593,\n",
       "     0.09358954688413593,\n",
       "     0.09358954688413593],\n",
       "    [0.1252200663737201,\n",
       "     0.001992101090418308,\n",
       "     0.001992101090418308,\n",
       "     0.001992101090418308,\n",
       "     0.001992101090418308,\n",
       "     0.001992101090418308,\n",
       "     0.001992101090418308,\n",
       "     0.001992101090418308,\n",
       "     0.001992101090418308,\n",
       "     0.001992101090418308],\n",
       "    [0.15911467006579832,\n",
       "     0.13649093134457096,\n",
       "     0.12608333182519796,\n",
       "     0.12589982016525306,\n",
       "     0.12589982016525306,\n",
       "     0.12562243174209423,\n",
       "     0.12214551208358375,\n",
       "     0.1197532383251513,\n",
       "     0.11907091612737981,\n",
       "     0.11774185423648831],\n",
       "    [0.053684561173151436,\n",
       "     0.0029411265548490843,\n",
       "     0.0029411265548490843,\n",
       "     0.0029411265548490843,\n",
       "     0.0014110335182513647,\n",
       "     0.001167189294164014,\n",
       "     0.0004767664070601068,\n",
       "     0.0004767664070601068,\n",
       "     0.0004767664070601068,\n",
       "     0.0004767664070601068],\n",
       "    [0.09382032203874602,\n",
       "     0.002776267665823991,\n",
       "     0.002776267665823991,\n",
       "     0.0026637175347430553,\n",
       "     0.0018569442825968467,\n",
       "     0.0012315232560814139,\n",
       "     0.0012315232560814139,\n",
       "     0.0011102435636588075,\n",
       "     0.0010889498916036703,\n",
       "     0.0010879087084033608],\n",
       "    [0.10507714448136349,\n",
       "     0.08921822286310366,\n",
       "     0.08700076295581223,\n",
       "     0.08700076295581223,\n",
       "     0.08700076295581223,\n",
       "     0.08700076295581223,\n",
       "     0.08700076295581223,\n",
       "     0.08700076295581223,\n",
       "     0.08700076295581223,\n",
       "     0.08700076295581223],\n",
       "    [0.12968951884302624,\n",
       "     0.07704388602074039,\n",
       "     0.07704388602074039,\n",
       "     0.07704388602074039,\n",
       "     0.06777157138668279,\n",
       "     0.06777157138668279,\n",
       "     0.06777157138668279,\n",
       "     0.06777157138668279,\n",
       "     0.06415791718570446,\n",
       "     0.05935940155266217],\n",
       "    [0.166700065377579,\n",
       "     0.1114036472252909,\n",
       "     0.1114036472252909,\n",
       "     0.1114036472252909,\n",
       "     0.11006004260576392,\n",
       "     0.09234747709783273,\n",
       "     0.08247001458401955,\n",
       "     0.07301820497656711,\n",
       "     0.07301820497656711,\n",
       "     0.07301820497656711],\n",
       "    [0.07913718484123308,\n",
       "     0.005918220856947392,\n",
       "     0.005918220856947392,\n",
       "     0.0031672634206686727,\n",
       "     0.000582548071627309,\n",
       "     7.787365333403453e-05,\n",
       "     6.180836219174768e-06,\n",
       "     6.180836219174768e-06,\n",
       "     6.180836219174768e-06,\n",
       "     4.5396672785045376e-07],\n",
       "    [0.06584262126896362,\n",
       "     0.06584262126896362,\n",
       "     0.0056969027305274825,\n",
       "     0.001063122465106614,\n",
       "     0.0008409522138911945,\n",
       "     0.0008129095085690456,\n",
       "     0.000763262849660999,\n",
       "     0.000763262849660999,\n",
       "     0.0006973649708697696,\n",
       "     0.0006973649708697696],\n",
       "    [0.175860247665809,\n",
       "     0.10818637792474499,\n",
       "     0.10818637792474499,\n",
       "     0.10818637792474499,\n",
       "     0.10818637792474499,\n",
       "     0.10636599827030266,\n",
       "     0.09722312356700197,\n",
       "     0.08091409019356523,\n",
       "     0.07899487216380734,\n",
       "     0.07319253552112048],\n",
       "    [0.10622573941677793,\n",
       "     0.09810365549434992,\n",
       "     0.05554901964427252,\n",
       "     0.04784465566035862,\n",
       "     0.04574818771263769,\n",
       "     0.045144699496271916,\n",
       "     0.04496618863769894,\n",
       "     0.0422918949770439,\n",
       "     0.03874998677727137,\n",
       "     0.03644884650123752],\n",
       "    [0.008439507879745076,\n",
       "     0.0016477236427086934,\n",
       "     0.0016477236427086934,\n",
       "     0.0009516590275195809,\n",
       "     0.0005292857235238061,\n",
       "     0.0005057674871330103,\n",
       "     0.00020153225894551323,\n",
       "     0.0001328200246119047,\n",
       "     8.78311341314198e-05,\n",
       "     4.115511730426011e-05],\n",
       "    [0.15633282469855064,\n",
       "     0.11571112376663886,\n",
       "     0.11571112376663886,\n",
       "     0.11571112376663886,\n",
       "     0.0837310284908201,\n",
       "     0.07783259902150177,\n",
       "     0.07743649091451407,\n",
       "     0.07731824253990043,\n",
       "     0.07731824253990043,\n",
       "     0.07731824253990043],\n",
       "    [0.026298837349532634,\n",
       "     0.026298837349532634,\n",
       "     0.013810826683275924,\n",
       "     0.0035327339392192377,\n",
       "     0.0004487273683017678,\n",
       "     0.0004487273683017678,\n",
       "     6.447156540470053e-05,\n",
       "     6.447156540470053e-05,\n",
       "     6.447156540470053e-05,\n",
       "     6.447156540470053e-05]],\n",
       "   'test_perfs': 0.3854679761595824,\n",
       "   'exec_time': 0.0030791999997745734}}}"
      ]
     },
     "execution_count": 25,
     "metadata": {},
     "output_type": "execute_result"
    }
   ],
   "source": [
    "result_networks"
   ]
  },
  {
   "cell_type": "code",
   "execution_count": 21,
   "metadata": {},
   "outputs": [],
   "source": [
    "import pickle"
   ]
  },
  {
   "cell_type": "code",
   "execution_count": 23,
   "metadata": {},
   "outputs": [],
   "source": [
    "# Step 2\n",
    "with open('results_experiments_one.dictionary', 'wb') as config_dictionary_file:\n",
    " \n",
    "    # Step 3\n",
    "    pickle.dump(result_networks, config_dictionary_file)"
   ]
  }
 ],
 "metadata": {
  "kernelspec": {
   "display_name": "Python 3",
   "language": "python",
   "name": "python3"
  },
  "language_info": {
   "codemirror_mode": {
    "name": "ipython",
    "version": 3
   },
   "file_extension": ".py",
   "mimetype": "text/x-python",
   "name": "python",
   "nbconvert_exporter": "python",
   "pygments_lexer": "ipython3",
   "version": "3.7.3"
  }
 },
 "nbformat": 4,
 "nbformat_minor": 2
}
